{
 "cells": [
  {
   "cell_type": "markdown",
   "metadata": {},
   "source": [
    "# Obliczenia Naukowe\n",
    "### Labolatoria, Lista 1<br/>Kamil Matejuk, 250135"
   ]
  },
  {
   "cell_type": "markdown",
   "metadata": {},
   "source": [
    "## Zad 1"
   ]
  },
  {
   "cell_type": "markdown",
   "metadata": {},
   "source": [
    "### 1.1\n",
    "*Napisać program w języku Julia wyznaczający iteracyjnie epsilony maszynowe dla wszystkich dostępnych typów zmiennopozycyjnych Float16, Float32, Float64, zgodnych ze standardem IEEE 754 (half, single, double), i porównać z wartościami zwracanymi przez\n",
    "funkcje: eps(Float16), eps(Float32), eps(Float64) oraz z danymi zawartymi w pliku\n",
    "nagłówkowym float.h dowolnej instalacji języka C.*"
   ]
  },
  {
   "cell_type": "code",
   "execution_count": 14,
   "metadata": {},
   "outputs": [
    {
     "name": "stdout",
     "output_type": "stream",
     "text": [
      "Data Type              Calculated            Build in eps()                Build in C\n",
      "Float16                  0.000977                  0.000977                    1.0e-5\n",
      "Float32              1.1920929e-7              1.1920929e-7                    1.0e-9\n",
      "Float64     2.220446049250313e-16     2.220446049250313e-16                    1.0e-9\n"
     ]
    }
   ],
   "source": [
    "# Kamil Matejuk, 250135\n",
    "using Printf\n",
    "\n",
    "function calculate_eps(dtype)\n",
    "    macheps = convert(dtype, 1)\n",
    "    while convert(dtype, 1.0 + macheps) > 1.0 && convert(dtype, 1.0 + macheps) == 1 + macheps\n",
    "        macheps = convert(dtype, macheps/2)\n",
    "    end\n",
    "    return 2 * macheps\n",
    "end\n",
    "\n",
    "function compare_eps()\n",
    "    # dane zawarte w pliku nagłówkowym float.h instalacji języka C\n",
    "    # https://www.tutorialspoint.com/c_standard_library/float_h.htm\n",
    "    c_lang_data = (\n",
    "        Float16 => 1.0e-5,\n",
    "        Float32 => 1.0e-9,\n",
    "        Float64 => 1.0e-9)\n",
    "    println(\"Data Type              Calculated            Build in eps()                Build in C\")\n",
    "    for (dtype, c_val) in c_lang_data\n",
    "        println(\"$dtype $(@sprintf(\"%25s\", calculate_eps(dtype))) $(@sprintf(\"%25s\", eps(dtype))) $(@sprintf(\"%25s\", c_val))\")\n",
    "    end\n",
    "end\n",
    "compare_eps()"
   ]
  },
  {
   "cell_type": "markdown",
   "metadata": {},
   "source": [
    "W powyższym programie funkcja `calculate_eps()` iteracyjnie zmiejsza zmienną `macheps` dwukrotnie, aby znaleźć najbliższą odległość od 1 do następnej liczby reprezentowanej w zadanym typie danych, tj spełniającą równania:\n",
    "\n",
    "    fl(1.0 + macheps) > 1.0\n",
    "    fl(1.0 + macheps) = 1 + macheps\n",
    "\n",
    "Funkcja `compare_eps()` służy tylko do porównania, wykorzystując wbudowaną funkcję `eps()` oraz dane z pliku `float.h`, pobrane ze strony https://www.tutorialspoint.com/c_standard_library/float_h.htm.<br/>\n",
    "Da się zauważyć, że obliczone wyniki są w zaokrąglęniu takie same jak zwracane przez `eps()`. Dane wbudowane w plik `float.h` w języku C są natomiast znacznie mniejsze dla typow `Float16` (ok 10 razy) i `Float32` (ok 100 razy). Dla typu danych `Float64` wartości obliczone są jednak znacznie dokładniejsze (10^7 razy)."
   ]
  },
  {
   "cell_type": "markdown",
   "metadata": {},
   "source": [
    "### 1.2\n",
    "*Napisać program w języku Julia wyznaczający iteracyjnie liczbę maszynową eta taką, że eta > 0.0 dla wszystkich dostępnych typów zmiennopozycyjnych Float16, Float32, Float64, zgodnych ze standardem IEEE 754 (half, single, double), i porównać z wartościami zwracanymi przez\n",
    "funkcje: nextfloat(Float16(0.0)), nextfloat(Float32(0.0)), nextfloat(Float64(0.0)).*"
   ]
  },
  {
   "cell_type": "code",
   "execution_count": 15,
   "metadata": {},
   "outputs": [
    {
     "name": "stdout",
     "output_type": "stream",
     "text": [
      "Data Type              Calculated      Build in nextfloat()\n",
      "Float16                    6.0e-8                    6.0e-8\n",
      "Float32                   1.0e-45                   1.0e-45\n",
      "Float64                  5.0e-324                  5.0e-324\n"
     ]
    }
   ],
   "source": [
    "# Kamil Matejuk, 250135\n",
    "using Printf\n",
    "\n",
    "function calculate_eta(dtype)\n",
    "    eta = convert(dtype, 1)\n",
    "    while convert(dtype, eta/2) > 0.0\n",
    "        eta = convert(dtype, eta/2)\n",
    "    end\n",
    "    return eta\n",
    "end\n",
    "\n",
    "function compare_eta()\n",
    "    types = [Float16, Float32, Float64]\n",
    "    println(\"Data Type              Calculated      Build in nextfloat()\")\n",
    "    for dtype in types\n",
    "        println(\"$dtype $(@sprintf(\"%25s\", calculate_eta(dtype))) $(@sprintf(\"%25s\", nextfloat(dtype(0.0))))\")\n",
    "    end\n",
    "end\n",
    "compare_eta()"
   ]
  },
  {
   "cell_type": "markdown",
   "metadata": {},
   "source": [
    "W powyższym programie funkcja `calculate_eta()` iteracyjnie zmiejsza zmienną `eta` dwukrotnie, aby znaleźć najmniejszą liczbę dodatnią, tj spełniającą równanie:\n",
    "\n",
    "    fl(eta) > 0.0\n",
    "\n",
    "Funkcja `compare_eta()` służy tylko do porównania, wykorzystując wbudowaną funkcję `nextfloat()`.\n",
    "Da się zauważyć, że obliczone wyniki są takie same jak podane przez wbudowaną funkcję `nextfloat()`."
   ]
  },
  {
   "cell_type": "markdown",
   "metadata": {},
   "source": [
    "### 1.3\n",
    "*Jaki związek ma liczba macheps z precyzją arytmetyki (oznaczaną na wykładzie przez $\\epsilon$)?*"
   ]
  },
  {
   "cell_type": "markdown",
   "metadata": {},
   "source": [
    "Precyzja arytmetyka wyznaczana jest jako $\\epsilon = 2^{-t-1}$, gdzie $t$ jest liczbą bitów przeznaczoną na mantysę. Precyzja arytmetyki zależy wyłącznie od liczby bitów przeznaczonych na reprezentację mantysy. Zatem dla typów zmiennoprzecinkowych powstanie zależność:\n",
    "\n",
    "| Typ         | t   | $\\epsilon$             | macheps               |\n",
    "| :---------: | :-: | ---------------------: | --------------------: |\n",
    "| Float16     | 10  | 0.00048828125          | 0.000977              |\n",
    "| Float32     | 23  | 5.960464477539063e-8   | 1.1920929e-7          |\n",
    "| Float64     | 52  | 1.1102230246251565e-16 | 2.220446049250313e-16 |\n",
    "\n",
    "Porównując z warościami $macheps$ obliczonymi w zad **1.1**, da się zauważyć że precyzja jest 2 razy mniejsza niż epsilon maszyonwy. Dzieje się tak, ponieważ $macheps$ jest najmniejszą odległością pomiędzy dwiema liczbami zapisanymi w danym typie, natomiast precyzja mówi o zakresie jaki jest zaokraglany, a więc połowę odległości pomiędzy liczbami."
   ]
  },
  {
   "cell_type": "markdown",
   "metadata": {},
   "source": [
    "### 1.4\n",
    "*Jaki związek ma liczba eta z liczbą MINsub (zob. wykład 1)?*"
   ]
  },
  {
   "cell_type": "markdown",
   "metadata": {},
   "source": [
    "Liczba $MIN_{sub}$ wyznaczana jest z wzoru $MIN_{sub} = 2^{−t} \\cdot 2^{c_{min}}$, gdzie $t$ jest liczbą bitów przeznaczoną na mantysę, natomiast $c_{min}$ minimalną możliwą wartością cechy. $c_{min} = 2−2^{d−1}$, $d$ - liczba bitów przeznaczona na cechę.\n",
    "\n",
    "| Typ         | t   | d   | $c_{min}$ | $MIN_{sub}$           | eta      |\n",
    "| :---------: | :-: | :-: | :-------: |---------------------: | -------: |\n",
    "| Float16     | 10  | 5   | -14       | 5.960464477539063e-8  | 6.0e-8   |\n",
    "| Float32     | 23  | 8   | -126      | 1.401298464324817e-45 | 1.0e-45  |\n",
    "| Float64     | 52  | 11  | -1022     | 5.0e-324              | 5.0e-324 |\n",
    "\n",
    "Porównując z wartościami $eta$ otrzymanymi w zad **1.2**, da się zauważyć że sa one podobne, co do zaokrąglenia. Dzieje się tak, ponieważ $MIN_{sub}$ zwraca najmniejszą dodatnią liczbę, którą da się przedstawić i która nie jest nieskończonością, co jest dokładnie wartością eta, zgodnie z wzorem z zad 1.2"
   ]
  },
  {
   "cell_type": "markdown",
   "metadata": {},
   "source": [
    "### 1.5\n",
    "*Co zwracają funkcje floatmin(Float32) i floatmin(Float64) i jaki jest związek zwracanych wartości z liczbą MINnor (zob. wykład 1)?*"
   ]
  },
  {
   "cell_type": "markdown",
   "metadata": {},
   "source": [
    "Liczba $MIN_{nor}$ jest większa od $MIN_{sub}$ i wyznaczana jest wzorem $MIN_{nor} = 2^{c_{min}}$.\n",
    "\n",
    "| Typ         | t   | d   | $c_{min}$ | $MIN_{nor}$             | floatmin()              |\n",
    "| :---------: | :-: | :-: | :-------: |-----------------------: | ----------------------: |\n",
    "| Float16     | 10  | 5   | -14       | 6.103515625e-5          | 6.104e-5                |\n",
    "| Float32     | 23  | 8   | -126      | 1.1754943508222875e-38  | 1.1754944f-38           |\n",
    "| Float64     | 52  | 11  | -1022     | 2.2250738585072014e-308 | 2.2250738585072014e-308 |\n",
    "\n",
    "Porównując z wartościami otrzymanymi poprzez `floatmin()`, da się zauważyć że sa one podobne, co do zaokrąglenia. Dzieje się tak, ponieważ $MIN_{nor}$ zwraca najmniejszą dodatnią liczbę, którą da się przedstawić, oraz której cecha jest większa niż $0$ (tj nie występuje niedomiar - *\"underflow\"*)"
   ]
  },
  {
   "cell_type": "markdown",
   "metadata": {},
   "source": [
    "### 1.6\n",
    "*Napisać program w języku Julia wyznaczający iteracyjnie liczbę (MAX) dla wszystkich typów zmiennopozycyjnych Float16, Float32, Float64, zgodnych ze standardem IEEE 754 (half, single, double), i porównać z wartościami zwracanymi przez funkcje: floatmax(Float16), floatmax(Float32), floatmax(Float64) oraz z danymi zawartymi w\n",
    "pliku nagłówkowym float.h dowolnej instalacji języka C*"
   ]
  },
  {
   "cell_type": "code",
   "execution_count": 16,
   "metadata": {},
   "outputs": [
    {
     "name": "stdout",
     "output_type": "stream",
     "text": [
      "Data Type              Calculated       Build in floatmax()                Build in C\n",
      "Float16                    6.55e4                    6.55e4                    1.0e37\n",
      "Float32              3.4028235e38              3.4028235e38                    1.0e37\n",
      "Float64    1.7976931348623157e308    1.7976931348623157e308                    1.0e37\n"
     ]
    }
   ],
   "source": [
    "# Kamil Matejuk, 250135\n",
    "using Printf\n",
    "\n",
    "function calculate_MAX(dtype)\n",
    "    max = convert(dtype, 1)\n",
    "    while !isinf(2 * max)\n",
    "        max = convert(dtype, 2 * max)\n",
    "    end\n",
    "    max2 = convert(dtype, max / 2)\n",
    "    while !isinf(max + max2)\n",
    "        max = max + max2\n",
    "        max2 = convert(dtype, max2 / 2)\n",
    "    end\n",
    "    return max\n",
    "end\n",
    "\n",
    "function compare_MAX()\n",
    "    # dane zawarte w pliku nagłówkowym float.h instalacji języka C\n",
    "    # https://www.tutorialspoint.com/c_standard_library/float_h.htm\n",
    "    c_lang_data = (\n",
    "        Float16 => 1.0e37,\n",
    "        Float32 => 1.0e37,\n",
    "        Float64 => 1.0e37)\n",
    "    println(\"Data Type              Calculated       Build in floatmax()                Build in C\")\n",
    "    for (dtype, c_val) in c_lang_data\n",
    "        println(\"$dtype $(@sprintf(\"%25s\", calculate_MAX(dtype))) $(@sprintf(\"%25s\", floatmax(dtype))) $(@sprintf(\"%25s\", c_val))\")\n",
    "    end\n",
    "end\n",
    "compare_MAX()"
   ]
  },
  {
   "cell_type": "markdown",
   "metadata": {},
   "source": [
    "W powyższym programie funkcja `calculate_MAX()` składa się z dwóch etapów. W pierwszym iteracyjnie zwiększa zmienną `max` dwukrotnie, aż do osiągnięcia połowy `inf`. Następnie dodaje stopniowo coraz miejsze części otrzymanej liczby max, tworząc szereg, który dąży do nieskończoności:\n",
    "\n",
    "*max* + $\\frac{1}{2}$ *max* + $\\frac{1}{4}$ *max* + $\\frac{1}{8}$ *max* + ...\n",
    "\n",
    "W ten sposób zostanie otrzymana liczba możliwie najbliższa nieskończoności.<br/>\n",
    "Funkcja `compare_MAX()` służy tylko do porównania, wykorzystując wbudowaną funkcję `floatmax()` oraz dane z pliku `float.h`, pobrane ze strony https://www.tutorialspoint.com/c_standard_library/float_h.htm.<br/>\n",
    "Da się zauważyć, że obliczone wyniki są takie same jak zwracane przez `floatmax()`. Dane wbudowane w plik `float.h` w języku C są natomiast stałe niezaleznie od typu i około 3 razy większe niż obliczone dla `Float32`."
   ]
  },
  {
   "cell_type": "markdown",
   "metadata": {},
   "source": [
    "## Zad 2"
   ]
  },
  {
   "cell_type": "markdown",
   "metadata": {},
   "source": [
    "*Kahan stwierdził, że epsilon maszynowy (macheps) można otrzymać obliczając wyrażenie 3(4/3−1)−1 w arytmetyce zmiennopozycyjnej. Sprawdzić eksperymentalnie w języku Julia słuszność tego stwierdzenia dla wszystkich typów zmiennopozycyjnych Float16, Float32, Float64.*"
   ]
  },
  {
   "cell_type": "code",
   "execution_count": 17,
   "metadata": {},
   "outputs": [
    {
     "name": "stdout",
     "output_type": "stream",
     "text": [
      "Data Type              Calculated            Build in eps()                Difference\n",
      "Float16                  0.000977                  0.000977                       0.0\n",
      "Float32              1.1920929e-7              1.1920929e-7                       0.0\n",
      "Float64     2.220446049250313e-16     2.220446049250313e-16                       0.0\n"
     ]
    }
   ],
   "source": [
    "# Kamil Matejuk, 250135\n",
    "using Printf\n",
    "\n",
    "types = [Float16, Float32, Float64]\n",
    "println(\"Data Type              Calculated            Build in eps()                Difference\")\n",
    "for dtype in types\n",
    "    eps1 = abs(convert(dtype, 3)*(convert(dtype, 4)/convert(dtype, 3)-convert(dtype, 1))-convert(dtype, 1))\n",
    "    eps2 = eps(dtype)\n",
    "    delta = eps1 - eps2\n",
    "    println(\"$dtype $(@sprintf(\"%25s\", eps1)) $(@sprintf(\"%25s\", eps2)) $(@sprintf(\"%25s\", delta))\")\n",
    "end"
   ]
  },
  {
   "cell_type": "markdown",
   "metadata": {},
   "source": [
    "Biorąc pod uwagę tylko wartość bezwzględną wyrażenia 3 $\\cdot$ ($\\frac{4}{3}$ - 1) - 1, gdzie każda liczba została przekonwertowana na zadany typ danych, wyniki są takie same jak wynik wbudowanej funkcji `eps()`.<br/>\n",
    "Wynika to z niemożności zapisania dokładnej wartości $\\frac{1}{3}$ w systemie binarnym."
   ]
  },
  {
   "cell_type": "markdown",
   "metadata": {},
   "source": [
    "## Zad 3"
   ]
  },
  {
   "cell_type": "markdown",
   "metadata": {},
   "source": [
    "*Sprawdź eksperymentalnie w języku Julia, że w arytmetyce Float64 (arytmetyce double w standarcie IEEE 754) liczby zmiennopozycyjne są równomiernie rozmieszczone w [1, 2] z krokiem δ = $2^{−52}$. Innymi słowy, każda liczba zmiennopozycyjna x pomiędzy 1 i 2 może być przedstawione następująco x = 1 + kδ w tej arytmetyce, gdzie k = 1,2, ... , $2^{52}$ − 1 i δ = $2^{−52}$<br/>\n",
    "Jak rozmieszczone są liczby zmiennopozycyjne w przedziale [$\\frac{1}{2}$, 1], jak w przedziale [2, 4] i jak mogą być przedstawione dla rozpatrywanego przedziału?*"
   ]
  },
  {
   "cell_type": "code",
   "execution_count": 20,
   "metadata": {},
   "outputs": [
    {
     "data": {
      "text/plain": [
       "linear_check_arrangement (generic function with 1 method)"
      ]
     },
     "execution_count": 20,
     "metadata": {},
     "output_type": "execute_result"
    }
   ],
   "source": [
    "# Kamil Matejuk, 250135\n",
    "function linear_check_arrangement(from, to)\n",
    "    x = convert(Float32, from)\n",
    "    global_delta = abs(x - nextfloat(x))\n",
    "    i = 0\n",
    "    while x < to\n",
    "        delta = abs(x - nextfloat(x))\n",
    "        if delta != global_delta\n",
    "            println(\"Values are not equally distributed\")\n",
    "            return\n",
    "        end\n",
    "        x = nextfloat(x)\n",
    "        i = i + 1\n",
    "    end\n",
    "    println(\"Values are equally distributed, and can be shown as x = $from + k*d, k in [1 ... $i], d = $global_delta\")\n",
    "end\n",
    "# @time linear_check_arrangement(1, 2)"
   ]
  },
  {
   "cell_type": "markdown",
   "metadata": {},
   "source": [
    "Funkcja `linear_check_arrangement()` jest podejściem linearnym do problemu, tj iteracyjnym przejściem przez każdą liczbę z zakresu oraz sprawdzenie czy odstęp jest niezmienny. Jest to proste rozwiązanie eksperymentalne problemu, oraz dokładnie sprawdzające i działające dla każdego zadanego zakresu. To rozwiązanie można zastosować dla każdego możliwego zakresu i wykaże każdą nieprawidłowość. Problemem tego sposobu jest natomiast złożoność czasowa $O(2^m)$ gdzie $m$ jest długością mantysy. Dla `Float16` oraz `Float32` daje to znośne czasy ($0.003770s$ oraz $0.041107s$ odpowiednio), natomiast przy typie `Float64` przewidywany czas jest już zbyt duży by jakiekolwiek obliczenia miały sens. Dlatego poniżej proponuję lepsze rozwiązanie:"
   ]
  },
  {
   "cell_type": "code",
   "execution_count": 21,
   "metadata": {},
   "outputs": [
    {
     "name": "stdout",
     "output_type": "stream",
     "text": [
      "Numbers are equally distributed, and can be shown as x = 1 + k*d, k in [1 ... 4503599627370496], d = 2.220446049250313e-16\n",
      "Numbers are equally distributed, and can be shown as x = 0.5 + k*d, k in [1 ... 4503599627370496], d = 1.1102230246251565e-16\n",
      "Numbers are equally distributed, and can be shown as x = 2 + k*d, k in [1 ... 4503599627370496], d = 4.440892098500626e-16\n"
     ]
    }
   ],
   "source": [
    "# Kamil Matejuk, 250135\n",
    "using Random\n",
    "\n",
    "function split_structure(n)\n",
    "    n = convert(Float64, n)\n",
    "    sign = parse(Int, bitstring(n)[1], base=2)\n",
    "    exp = parse(Int, bitstring(n)[2:12], base=2) - 1023\n",
    "    mantis = parse(Int, bitstring(n)[13:64], base=2)\n",
    "    return (sign, exp, mantis)\n",
    "end\n",
    "\n",
    "function check_arrangement(from, to)\n",
    "    from_s, from_e, from_m = split_structure(from)\n",
    "    to_s, to_e, to_m = split_structure(to)\n",
    "    if from_s != to_s\n",
    "        println(\"Numbers arent equally distributed\")\n",
    "        return\n",
    "    end\n",
    "    if from_m == to_m == 0 && abs(from_e - to_e) == 1\n",
    "        # equal distribution\n",
    "        i = 2^52\n",
    "        delta = convert(Float64, abs(from - to) / i)\n",
    "        for j in 1:10\n",
    "            r = convert(Float64, rand()*abs(from - to) + from)\n",
    "            if convert(Float64, abs(r - nextfloat(r))) != delta\n",
    "                println(r)\n",
    "                println(nextfloat(r))\n",
    "                println(abs(r - nextfloat(r)))\n",
    "                println(delta)\n",
    "                println(\"Numbers arent equally distributed\")\n",
    "                return\n",
    "            end\n",
    "        end\n",
    "        println(\"Numbers are equally distributed, and can be shown as x = $from + k*d, k in [1 ... $i], d = $delta\")\n",
    "    else\n",
    "        println(\"Numbers arent equally distributed\")\n",
    "    end\n",
    "end\n",
    "\n",
    "check_arrangement(1, 2)\n",
    "check_arrangement(0.5, 1)\n",
    "check_arrangement(2, 4)"
   ]
  },
  {
   "cell_type": "markdown",
   "metadata": {},
   "source": [
    "Podejście powyższe korzysta z wiedzy jak skonstruowane są liczby Float. Każda liczba `Float64` jest zapisywana jako:<br/>\n",
    "$n = (-1)^s \\cdot (1 + m) \\cdot 2^e$<br/>\n",
    "Jeżeli zakresy przedziału mają różne znaki `s` od razu wiadomo, że nie sa równomiernie rozłożone, ponieważ w przedziale zawiera się 0, co wymusza występowanie zera maszynowego. Przypadek takich samych znaków można sprowadzić do przypadku obu dodatnich.<br/>\n",
    "Jeżeli mantysa `m` jest równa 0 dla początku i końcu przedziału, oraz eksponenty `e` różnią się o 1, oznacza to że każda liczba wewntrz przedziału jest postaci $n = (1 + m) \\cdot 2^e$, co oznacza że różnią się tylko wartością na mantysie i są równomiernie rozłożone. Różnych liczb na mantysie jest $2^{52}$ (dla Float64), zatem aby uzyskać rozkład liczb wystarczy podzielić wielkość przedziału na ilość liczb. Nastepnie algorytm sprawdza poprawność, poprzez wykonanie 10 losowych testów: wybór liczby i jej następnika, oraz sprawdzenie czy odległość się zgadza z wyznaczoną. Dla zadanych przykładów:\n",
    "\n",
    "| Zakres   | from                  | to                  | Postać                                               |\n",
    "| :------: | :-------------------: | :-----------------: | :--------------------------------------------------: |\n",
    "| (1,2)    | (1+0)$\\cdot$$2^0$     | (1+0)$\\cdot$$2^1$   | {1 + k$\\cdot$.220446049250313e-16, k $\\in$ {0 $\\dots$$2^{52}-1$}} |\n",
    "| (0.5, 1) | (1+0)$\\cdot$$2^{-1}$  | (1+0)$\\cdot$$2^0$   | {1 + k$\\cdot$1.1102230246251565e-16, k $\\in$ {0 $\\dots$$2^{52}-1$}} |\n",
    "| (2, 4)   | (1+0)$\\cdot$$2^1$     | (1+0)$\\cdot$$2^2$   | {1 + k$\\cdot$4.440892098500626e-16, k $\\in$ {0 $\\dots$$2^{52}-1$}} |\n",
    "\n",
    "Da się zauważyć, że operując w zakresach będących kolejnymi potegami dwójki ($\\dots, \\frac{1}{4}, \\frac{1}{2}, 1, 2, 4, \\dots$) liczby są równomiernie rozłożone, z deltą zależną od całkowitego rozmiaru przedziału. W każdym przedziale mieści się taka sama ilość liczb, są one jedynie bardziej lub mniej zagęszczone.\n"
   ]
  },
  {
   "cell_type": "markdown",
   "metadata": {},
   "source": [
    "## Zad 4"
   ]
  },
  {
   "cell_type": "markdown",
   "metadata": {},
   "source": [
    "### 4.1\n",
    "*Znajdź eksperymentalnie w arytmetyce Float64 zgodnej ze standardem IEEE 754 (double) liczbę zmiennopozycyjną x w przedziale [1, 2], taką, że $x \\cdot \\frac{1}{x} \\neq 1$*"
   ]
  },
  {
   "cell_type": "code",
   "execution_count": 22,
   "metadata": {},
   "outputs": [
    {
     "name": "stdout",
     "output_type": "stream",
     "text": [
      "Number 1.000000057228997 results in 0.9999999999999999 after given condition, with difference in value of 5.7228997207836585e-8\n"
     ]
    }
   ],
   "source": [
    "# Kamil Matejuk, 250135\n",
    "\n",
    "function find_anomaly(from, to)\n",
    "    from = convert(Float64, from)\n",
    "    to = convert(Float64, to)\n",
    "    while from <= to && from*(1/from) == 1\n",
    "        from = nextfloat(from)\n",
    "    end\n",
    "    if from == to\n",
    "        println(\"Such number doesn't exists between $from and $to\")\n",
    "    else\n",
    "        result = from*(1/from)\n",
    "        diff = abs(from - result)\n",
    "        println(\"Number $from results in $result after given condition, with difference in value of $diff\")\n",
    "    end\n",
    "end\n",
    "\n",
    "find_anomaly(1, 2)"
   ]
  },
  {
   "cell_type": "markdown",
   "metadata": {},
   "source": [
    "Przeszukując od najmniejszej liczby pojedyńczo (korzystając z iteratora `nextfloat`) aż do spełnienia warunku anomalii. Wynikiem i najmniejszą liczbą spełniającą warunek jest 1.000000057228997, ponieważ:<br/>\n",
    "$1..000000057228997 \\cdot \\frac{1}{1.000000057228997} = 0.9999999999999999 \\neq 1$"
   ]
  },
  {
   "cell_type": "markdown",
   "metadata": {},
   "source": [
    "### 4.2\n",
    "*Znajdź najmniejszą taką liczbę.*"
   ]
  },
  {
   "cell_type": "code",
   "execution_count": 23,
   "metadata": {},
   "outputs": [
    {
     "name": "stdout",
     "output_type": "stream",
     "text": [
      "Number 5.0e-324 results in Inf after given condition\n"
     ]
    }
   ],
   "source": [
    "# Kamil Matejuk, 250135\n",
    "\n",
    "function find_min_anomaly()\n",
    "    i = convert(Float64, 0)\n",
    "    i = nextfloat(i)\n",
    "    while i*(1/i) == 1\n",
    "        i = nextfloat(i)\n",
    "    end\n",
    "    result = i*(1/i)\n",
    "    diff = abs(i - result)\n",
    "    println(\"Number $i results in $result after given condition\")\n",
    "end\n",
    "\n",
    "find_min_anomaly()"
   ]
  },
  {
   "cell_type": "markdown",
   "metadata": {},
   "source": [
    "Przeszukując od zera (korzystając z iteratora `nextfloat`) aż do spełnienia warunku anomalii. Wynikiem i najmniejszą liczbą spełniającą warunek jest 5.0e-324, ponieważ:<br/>\n",
    "$(5.0e-324) \\cdot \\frac{1}{5.0e-324} = Inf \\neq 1$"
   ]
  },
  {
   "cell_type": "markdown",
   "metadata": {},
   "source": [
    "## Zad 5"
   ]
  },
  {
   "cell_type": "markdown",
   "metadata": {},
   "source": [
    "*Napisz program w języku Julia realizujący następujący eksperyment obliczania iloczynu skalarnego dwóch wektorów:<br/>\n",
    "x = [2.718281828, −3.141592654, 1.414213562, 0.5772156649, 0.3010299957]<br/>\n",
    "y = [1486.2497, 878366.9879, −22.37492, 4773714.647, 0.000185049]<br/>\n",
    "Zaimplementuj cztery algorytmy i policz sumę na cztery sposoby dla n = 5 (“w przód”, “w tył”, od największego do najmniejszego, od najmniejszego do największego). Użyj pojedynczej i podwójnej precyzji (typy Float32 i Float64 w języku Julia). Porównaj wyniki z prawidłową wartością (dokładność do 15 cyfr) $−1.00657107000000 \\cdot 10^{−11}$*"
   ]
  },
  {
   "cell_type": "code",
   "execution_count": 24,
   "metadata": {},
   "outputs": [
    {
     "name": "stdout",
     "output_type": "stream",
     "text": [
      "Correct Result: -1.00657107e-11\n",
      "Data Type             Function          Calucated Result                Difference\n",
      "Float32       scalar_product_1                -0.4999443       0.49994429944939167\n",
      "Float32       scalar_product_2                -0.4543457        0.4543457031149343\n",
      "Float32       scalar_product_3                      -0.5        0.4999999999899343\n",
      "Float32       scalar_product_4                      -0.5        0.4999999999899343\n",
      "Float64       scalar_product_1    1.0251881368296672e-10    1.1258452438296672e-10\n",
      "Float64       scalar_product_2   -1.5643308870494366e-10    1.4636737800494365e-10\n",
      "Float64       scalar_product_3                       0.0            1.00657107e-11\n",
      "Float64       scalar_product_4                       0.0            1.00657107e-11\n"
     ]
    }
   ],
   "source": [
    "# Kamil Matejuk, 250135\n",
    "using Printf\n",
    "\n",
    "function scalar_product_1(dtype, arr1, arr2)\n",
    "    @assert length(arr1) == length(arr2)\n",
    "    sum = convert(dtype, 0)\n",
    "    for i in 1:length(arr1)\n",
    "        i1 = convert(dtype, arr1[i])\n",
    "        i2 = convert(dtype, arr2[i])\n",
    "        sum = sum + i1*i2\n",
    "    end\n",
    "    return sum\n",
    "end\n",
    "\n",
    "function scalar_product_2(dtype, arr1, arr2)\n",
    "    @assert length(arr1) == length(arr2)\n",
    "    sum = convert(dtype, 0)\n",
    "    for i in 1:length(arr1)\n",
    "        j = length(arr1) - i + 1\n",
    "        i1 = convert(dtype, arr1[j])\n",
    "        i2 = convert(dtype, arr2[j])\n",
    "        sum = sum + i1*i2\n",
    "    end\n",
    "    return sum\n",
    "end\n",
    "\n",
    "function scalar_product_3(dtype, arr1, arr2)\n",
    "    @assert length(arr1) == length(arr2)\n",
    "    arr = []\n",
    "    for i in 1:length(arr1)\n",
    "        i1 = convert(dtype, arr1[i])\n",
    "        i2 = convert(dtype, arr2[i])\n",
    "        push!(arr, i1*i2)\n",
    "    end\n",
    "    arr = sort(arr) # smallest to highest\n",
    "    sum = convert(dtype, 0)\n",
    "    for i in 1:length(arr)\n",
    "        j = length(arr) - i + 1\n",
    "        sum = sum + arr[j]\n",
    "    end\n",
    "    return sum\n",
    "end\n",
    "\n",
    "function scalar_product_4(dtype, arr1, arr2)\n",
    "    @assert length(arr1) == length(arr2)\n",
    "    arr = []\n",
    "    for i in 1:length(arr1)\n",
    "        i1 = convert(dtype, arr1[i])\n",
    "        i2 = convert(dtype, arr2[i])\n",
    "        push!(arr, i1*i2)\n",
    "    end\n",
    "    arr = sort(arr) # smallest to highest\n",
    "    sum = convert(dtype, 0)\n",
    "    for i in arr\n",
    "        sum = sum + i\n",
    "    end\n",
    "    return sum\n",
    "end\n",
    "\n",
    "function compare_scalars()\n",
    "    x = [2.718281828, -3.141592654, 1.414213562, 0.5772156649, 0.3010299957]\n",
    "    y = [1486.2497, 878366.9879, -22.37492, 4773714.647, 0.000185049]\n",
    "    correct = -1.00657107000000e-11\n",
    "    println(\"Correct Result: $correct\")\n",
    "    println(\"Data Type             Function          Calucated Result                Difference\")\n",
    "    for dtype in [Float32, Float64]\n",
    "        for f in [scalar_product_1, scalar_product_2, scalar_product_3, scalar_product_4]\n",
    "            s = f(dtype, x, y)\n",
    "            diff = abs(s - correct)\n",
    "            println(\"$dtype       $f $(@sprintf(\"%25s\", s)) $(@sprintf(\"%25s\", diff))\")\n",
    "        end\n",
    "    end\n",
    "end\n",
    "compare_scalars()"
   ]
  },
  {
   "cell_type": "markdown",
   "metadata": {},
   "source": [
    "Użycie funkcji 3 oraz 4, tj \"od największego do najmniejszego\" oraz \"od najmniejszego do największego\" spowodowało duże zaokrąglenie wyników, do odpowiednio $0.5$ dla `Float32` oraz $0.0$ dla `Float64`. Dodawanie w porządku losowym pozwoliło na nieprzeciążanie sumy na jedną stronę, np poprzez dodawanie samych dużych liczb. Wnioskiem jest, że największy błąd kumuluje się na początku, dlatego najbardziej optymalnie jest na początku wykonywać działania na mniejszych liczbach, potem na większych, aby zminimalizować łączne błędy arytmetyki. Zauważyć można natomaist, że wyniki się różnią, zatem kolejność sumowania jest ważna."
   ]
  },
  {
   "cell_type": "markdown",
   "metadata": {},
   "source": [
    "## Zad 6"
   ]
  },
  {
   "cell_type": "markdown",
   "metadata": {},
   "source": [
    "*Policz w języku Julia w arytmetyce Float64 wartości następujących funkcji<br/>\n",
    "$f(x) = \\sqrt{x^2 + 1} - 1$<br/>\n",
    "$g(x) = x^2 / (\\sqrt{x^2 + 1} + 1)$<br/>\n",
    "dla kolejnych wartości argumentu $x = 8^{−1}, 8^{−2}, 8^{−3} ...$ Chociaż f = g komputer daje różne wyniki. Które z nich są wiarygodne, a które nie?*"
   ]
  },
  {
   "cell_type": "code",
   "execution_count": 25,
   "metadata": {},
   "outputs": [
    {
     "name": "stdout",
     "output_type": "stream",
     "text": [
      "x                                     f(x)                      g(x)                   difference\n",
      "0.125                         0.0077822185373186414     0.0077822185373187065     6.505213034913027e-17\n",
      "0.015625                     0.00012206286282867573    0.00012206286282875901     8.328027937404281e-17\n",
      "0.001953125                   1.9073468138230965e-6      1.907346813826566e-6     3.469446951953614e-18\n",
      "0.000244140625                2.9802321943606103e-8     2.9802321943606116e-8    1.3234889800848443e-23\n",
      "3.0517578125e-5               4.656612873077393e-10    4.6566128719931904e-10    1.0842021724855044e-19\n",
      "3.814697265625e-6             7.275957614183426e-12     7.275957614156956e-12    2.6469779601696886e-23\n",
      "4.76837158203125e-7          1.1368683772161603e-13    1.1368683772160957e-13     6.462348535570529e-27\n",
      "5.960464477539063e-8         1.7763568394002505e-15    1.7763568394002489e-15    1.5777218104420236e-30\n",
      "7.450580596923828e-9                            0.0    2.7755575615628914e-17    2.7755575615628914e-17\n",
      "9.313225746154785e-10                           0.0     4.336808689942018e-19     4.336808689942018e-19\n",
      "1.1641532182693481e-10                          0.0     6.776263578034403e-21     6.776263578034403e-21\n",
      "1.4551915228366852e-11                          0.0    1.0587911840678754e-22    1.0587911840678754e-22\n",
      "1.8189894035458565e-12                          0.0    1.6543612251060553e-24    1.6543612251060553e-24\n",
      "2.2737367544323206e-13                          0.0    2.5849394142282115e-26    2.5849394142282115e-26\n",
      "2.842170943040401e-14                           0.0    4.0389678347315804e-28    4.0389678347315804e-28\n",
      "3.552713678800501e-15                           0.0     6.310887241768095e-30     6.310887241768095e-30\n",
      "4.440892098500626e-16                           0.0     9.860761315262648e-32     9.860761315262648e-32\n",
      "5.551115123125783e-17                           0.0    1.5407439555097887e-33    1.5407439555097887e-33\n",
      "6.938893903907228e-18                           0.0     2.407412430484045e-35     2.407412430484045e-35\n",
      "8.673617379884035e-19                           0.0      3.76158192263132e-37      3.76158192263132e-37\n"
     ]
    }
   ],
   "source": [
    "# Kamil Matejuk, 250135\n",
    "using Printf\n",
    "\n",
    "function f(x)\n",
    "    x = convert(Float64, x)\n",
    "    return (x^2 + 1)^0.5 - 1\n",
    "end\n",
    "\n",
    "function g(x)\n",
    "    x = convert(Float64, x)\n",
    "    return x^2 / ((x^2 + 1)^0.5 + 1)\n",
    "end\n",
    "\n",
    "println(\"x                                     f(x)                      g(x)                   difference\")\n",
    "for i in 1:20\n",
    "    x = 1 / 8^i\n",
    "    fx = f(x)\n",
    "    gx = g(x)\n",
    "    diff = abs(fx - gx)\n",
    "    println(\"$(@sprintf(\"%-25s\", x)) $(@sprintf(\"%25s\", fx)) $(@sprintf(\"%25s\", gx)) $(@sprintf(\"%25s\", diff))\")\n",
    "end"
   ]
  },
  {
   "cell_type": "markdown",
   "metadata": {},
   "source": [
    "Dla każdej wartości $x = 8^{-1}, 8^{-2}, 8^{-3} ... 8^{-i}$ komputer oblicza różne wartości funkcji `f()` i `g()`, pomimo tego że w matematycznym sensie funckcje są takie same. Zaczynając od $i = 9$, funkcja `f(x)` zaczyna zwracać tylko $0.0$, zatem można wznioskować że funkcja `g()` daje bardziej wiarygodne wyniki. Wynika to z tego, że funkcja `f()` wykonuje wewnętrzne działania na bliskich siebie liczbach (odejmowanie, pierwiastkowanie), co powoduje o wiele szybszą kumulację błędu. Natomaist dopóki obie funkcje zwracały wyniki, były one podobne, tj skala błędu pomiędzy nimy była kwadratowo mniejsza niż poszczególne wyniki (dla wyniku rzędu $10^i$ błąd był rzędu $10^{2i}$)."
   ]
  },
  {
   "cell_type": "markdown",
   "metadata": {},
   "source": [
    "## Zad 7"
   ]
  },
  {
   "cell_type": "markdown",
   "metadata": {},
   "source": [
    "*Przybliżoną wartość pochodnej f(x) w punkcie x można obliczyć za pomocą następującego wzoru $f'(x_0) \\simeq \\tilde{f'}(x_0) = \\frac{f(x_0+h)-f(x_0)}{h}$. Skorzystać z tego wzoru do obliczenia w języku Julia w arytmetyce Float64 przybliżonej wartości pochodnej funkcji $f(x) = sin x + cos 3x$ w punkcie $x_0 = 1$ oraz błędów $|f'(x_0)-\\tilde{f'}(x_0)|$ dla $h=2^{-n}$, $n \\in {0, 1, 2, \\dots, 54}$. Jak wytłumaczyć, że od pewnego momentu zmniejszanie wartości h nie poprawia przybliżenia wartości pochodnej? Jak zachowują się wartości 1+h? Obliczone przybliżenia pochodnej porównać z dokładną wartością pochodnej, tj. zwróć uwagę na błędy $|f'(x_0)-\\tilde{f'}(x_0)|$.*"
   ]
  },
  {
   "cell_type": "code",
   "execution_count": 26,
   "metadata": {},
   "outputs": [
    {
     "name": "stdout",
     "output_type": "stream",
     "text": [
      "n                            h        rounded derivative                     error\n",
      "0                          1.0        2.0179892252685967        1.9010469435800585\n",
      "1                          0.5        1.8704413979316472         1.753499116243109\n",
      "2                         0.25        1.1077870952342974        0.9908448135457594\n",
      "3                        0.125        0.6232412792975817        0.5062989976090436\n",
      "4                       0.0625        0.3704000662035192       0.25345778451498113\n",
      "5                      0.03125       0.24344307439754687       0.12650079270900882\n",
      "6                     0.015625       0.18009756330732785       0.06315528161878979\n",
      "7                    0.0078125        0.1484913953710958      0.031549113682557736\n",
      "8                   0.00390625        0.1327091142805159       0.01576683259197785\n",
      "9                  0.001953125        0.1248236929407085      0.007881411252170442\n",
      "10                0.0009765625       0.12088247681106168      0.003940195122523624\n",
      "11               0.00048828125       0.11891225046883847       0.00196996878030041\n",
      "12              0.000244140625       0.11792723373901026      0.000984952050472207\n",
      "13             0.0001220703125       0.11743474961076572     0.0004924679222276657\n",
      "14              6.103515625e-5       0.11718851362093119    0.00024623193239313446\n",
      "15             3.0517578125e-5       0.11706539714577957     0.0001231154572415155\n",
      "16            1.52587890625e-5       0.11700383928837255      6.155759983449138e-5\n",
      "17            7.62939453125e-6       0.11697306045971345      3.077877117539651e-5\n",
      "18           3.814697265625e-6       0.11695767106721178      1.538937867372192e-5\n",
      "19          1.9073486328125e-6       0.11694997636368498       7.69467514692701e-6\n",
      "20          9.5367431640625e-7       0.11694612901192158      3.847323383529555e-6\n",
      "21         4.76837158203125e-7        0.1169442052487284     1.9235601903394572e-6\n",
      "22        2.384185791015625e-7       0.11694324295967817       9.61271140118014e-7\n",
      "23       1.1920928955078125e-7       0.11694276239722967      4.807086916164272e-7\n",
      "24        5.960464477539063e-8       0.11694252118468285      2.394961447910182e-7\n",
      "25       2.9802322387695312e-8         0.116942398250103     1.1656156494177505e-7\n",
      "26       1.4901161193847656e-8       0.11694233864545822      5.695692016638443e-8\n",
      "27        7.450580596923828e-9       0.11694231629371643     3.4605178375612944e-8\n",
      "28        3.725290298461914e-9       0.11694228649139404      4.802855987917631e-9\n",
      "29        1.862645149230957e-9       0.11694222688674927     5.4801788787472994e-8\n",
      "30       9.313225746154785e-10       0.11694216728210449     1.1440643356286362e-7\n",
      "31       4.656612873077393e-10       0.11694216728210449     1.1440643356286362e-7\n",
      "32      2.3283064365386963e-10       0.11694192886352539      3.528250126644261e-7\n",
      "33      1.1641532182693481e-10       0.11694145202636719      8.296621708675511e-7\n",
      "34       5.820766091346741e-11       0.11694145202636719      8.296621708675511e-7\n",
      "35      2.9103830456733704e-11       0.11693954467773438      2.737010803680051e-6\n",
      "36      1.4551915228366852e-11            0.116943359375     1.0776864619449489e-6\n",
      "37       7.275957614183426e-12        0.1169281005859375     1.4181102600555051e-5\n",
      "38       3.637978807091713e-12            0.116943359375     1.0776864619449489e-6\n",
      "39      1.8189894035458565e-12          0.11688232421875      5.995746978805505e-5\n",
      "40       9.094947017729282e-13           0.1168212890625    0.00012099262603805505\n",
      "41       4.547473508864641e-13            0.116943359375     1.0776864619449489e-6\n",
      "42      2.2737367544323206e-13             0.11669921875    0.00024306293853805505\n",
      "43      1.1368683772161603e-13              0.1162109375      0.000731344188538055\n",
      "44       5.684341886080802e-14                 0.1171875    0.00024521831146194495\n",
      "45       2.842170943040401e-14                0.11328125      0.003661031688538055\n",
      "46      1.4210854715202004e-14                  0.109375      0.007567281688538055\n",
      "47       7.105427357601002e-15                  0.109375      0.007567281688538055\n",
      "48       3.552713678800501e-15                   0.09375      0.023192281688538055\n",
      "49      1.7763568394002505e-15                     0.125      0.008057718311461945\n",
      "50       8.881784197001252e-16                       0.0       0.11694228168853806\n",
      "51       4.440892098500626e-16                       0.0       0.11694228168853806\n",
      "52       2.220446049250313e-16                      -0.5         0.616942281688538\n",
      "53      1.1102230246251565e-16                       0.0       0.11694228168853806\n",
      "54       5.551115123125783e-17                       0.0       0.11694228168853806\n"
     ]
    }
   ],
   "source": [
    "# Kamil Matejuk, 250135\n",
    "using Printf\n",
    "\n",
    "function f(x)\n",
    "    return sin(x) + cos(3*x)\n",
    "end\n",
    "\n",
    "function dirivative(x0, h)\n",
    "    @assert h != 0\n",
    "    return convert(Float64, (f(x0+h) - f(x0))/h)\n",
    "end\n",
    "\n",
    "real_df = 0.11694228168853805109\n",
    "println(\"n                            h        rounded derivative                     error\")\n",
    "for n in 0:54\n",
    "    h = Float64(2)^(-n)\n",
    "    df = dirivative(1, h)\n",
    "    error = abs(real_df - df)\n",
    "    println(\"$(@sprintf(\"%-4s\", n)) $(@sprintf(\"%25s\", h)) $(@sprintf(\"%25s\", df)) $(@sprintf(\"%25s\", error))\")\n",
    "end"
   ]
  },
  {
   "cell_type": "markdown",
   "metadata": {},
   "source": [
    "Dokładna wartość pochodnej dla podanej funkcji wynosi:<br/>\n",
    "$\\tilde{f'}(x) = \\frac{d}{dx}(sin(x)+cos(3x)) = cos(x)-3sin(3x)$<br/>\n",
    "$\\tilde{f'}(1) = cos(1)-3sin(3) = 0.11694228168853805109...$<br/>\n",
    "Występuje w niej też błąd, ponieważ po wprowadzeniu do systemu też została zaokraglona, ale zostanie on pominięty w rozważaniu, ponieważ skupię się na zaokrąglaniu liczby podczas liczenia pochodnej ze wzoru na pochodną w punkcie.<br/>\n",
    "Najmniejszy błąd otrzymano dla wartości n=28, h=3.725290298461914e-9. Dla każdego wyższego $n$ błąd bezwzględny rósł, aż do momentu gdy obliczanie zaokrąglanej pochodnej zwracało wartość $0.0$, ponieważ liczby `h` były już na tyle małe, że w obliczaniu pochodnej w punkcie następowało odejmowanie prawie takich samych liczb `f(x)` i `f(x+h)` co powodowało kumulowanie się błędu przy redukcji cyfr znaczących."
   ]
  },
  {
   "cell_type": "code",
   "execution_count": null,
   "metadata": {},
   "outputs": [],
   "source": []
  }
 ],
 "metadata": {
  "kernelspec": {
   "display_name": "Julia 1.5.2",
   "language": "julia",
   "name": "julia-1.5"
  },
  "language_info": {
   "file_extension": ".jl",
   "mimetype": "application/julia",
   "name": "julia",
   "version": "1.5.2"
  }
 },
 "nbformat": 4,
 "nbformat_minor": 4
}
