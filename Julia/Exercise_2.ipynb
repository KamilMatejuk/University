{
 "cells": [
  {
   "cell_type": "markdown",
   "metadata": {},
   "source": [
    "# Obliczenia Naukowe\n",
    "### Labolatoria, Lista 2<br/>Kamil Matejuk, 250135"
   ]
  },
  {
   "cell_type": "markdown",
   "metadata": {},
   "source": [
    "## Zad 1"
   ]
  },
  {
   "cell_type": "markdown",
   "metadata": {},
   "source": [
    "*Powtórz zadanie 5 z listy 1, ale usuń ostatnią 9 z $x_4$ i ostatnią 7 z $x_5$. Jaki wpływ na\n",
    "wyniki mają niewielkie zmiany danych?.<br/>\n",
    "(zad 5 z listy 1) Napisz program w języku Julia realizujący następujący eksperyment obliczania iloczynu skalarnego dwóch wektorów:<br/>\n",
    "x = [2.718281828, −3.141592654, 1.414213562, 0.5772156649, 0.3010299957]<br/>\n",
    "y = [1486.2497, 878366.9879, −22.37492, 4773714.647, 0.000185049]<br/>\n",
    "Zaimplementuj cztery algorytmy i policz sumę na cztery sposoby dla n = 5 (“w przód”, “w tył”, od największego do najmniejszego, od najmniejszego do największego). Użyj pojedynczej i podwójnej precyzji (typy Float32 i Float64 w języku Julia). Porównaj wyniki z prawidłową wartością (dokładność do 15 cyfr) $−1.00657107000000 \\cdot 10^{−11}$*"
   ]
  },
  {
   "cell_type": "code",
   "execution_count": 1,
   "metadata": {
    "scrolled": false
   },
   "outputs": [
    {
     "name": "stdout",
     "output_type": "stream",
     "text": [
      "Correct Result: -1.00657107e-11\n",
      "Data Type        Function           Prevoius Result          Result After Change             Cond(x)\n",
      " Float32     scalar_product_1                -0.4999443                -0.4999443                       0.0\n",
      " Float32     scalar_product_2                -0.4543457                -0.4543457                       0.0\n",
      " Float32     scalar_product_3                      -0.5                      -0.5                       0.0\n",
      " Float32     scalar_product_4                      -0.5                      -0.5                       0.0\n",
      " Float64     scalar_product_1    1.0251881368296672e-10     -0.004296342739891585     4.6564275354446776e16\n",
      " Float64     scalar_product_2   -1.5643308870494366e-10     -0.004296342998713953     3.0516013643410852e16\n",
      " Float64     scalar_product_3                       0.0     -0.004296342842280865                       Inf\n",
      " Float64     scalar_product_4                       0.0     -0.004296342842280865                       Inf\n"
     ]
    }
   ],
   "source": [
    "# Kamil Matejuk, 250135\n",
    "using Printf\n",
    "\n",
    "function scalar_product_1(dtype, arr1, arr2)\n",
    "    @assert length(arr1) == length(arr2)\n",
    "    sum = convert(dtype, 0)\n",
    "    for i in 1:length(arr1)\n",
    "        i1 = convert(dtype, arr1[i])\n",
    "        i2 = convert(dtype, arr2[i])\n",
    "        sum = sum + i1*i2\n",
    "    end\n",
    "    return sum\n",
    "end\n",
    "\n",
    "function scalar_product_2(dtype, arr1, arr2)\n",
    "    @assert length(arr1) == length(arr2)\n",
    "    sum = convert(dtype, 0)\n",
    "    for i in 1:length(arr1)\n",
    "        j = length(arr1) - i + 1\n",
    "        i1 = convert(dtype, arr1[j])\n",
    "        i2 = convert(dtype, arr2[j])\n",
    "        sum = sum + i1*i2\n",
    "    end\n",
    "    return sum\n",
    "end\n",
    "\n",
    "function scalar_product_3(dtype, arr1, arr2)\n",
    "    @assert length(arr1) == length(arr2)\n",
    "    arr = []\n",
    "    for i in 1:length(arr1)\n",
    "        i1 = convert(dtype, arr1[i])\n",
    "        i2 = convert(dtype, arr2[i])\n",
    "        push!(arr, i1*i2)\n",
    "    end\n",
    "    arr = sort(arr) # smallest to highest\n",
    "    sum = convert(dtype, 0)\n",
    "    for i in 1:length(arr)\n",
    "        j = length(arr) - i + 1\n",
    "        sum = sum + arr[j]\n",
    "    end\n",
    "    return sum\n",
    "end\n",
    "\n",
    "function scalar_product_4(dtype, arr1, arr2)\n",
    "    @assert length(arr1) == length(arr2)\n",
    "    arr = []\n",
    "    for i in 1:length(arr1)\n",
    "        i1 = convert(dtype, arr1[i])\n",
    "        i2 = convert(dtype, arr2[i])\n",
    "        push!(arr, i1*i2)\n",
    "    end\n",
    "    arr = sort(arr) # smallest to highest\n",
    "    sum = convert(dtype, 0)\n",
    "    for i in arr\n",
    "        sum = sum + i\n",
    "    end\n",
    "    return sum\n",
    "end\n",
    "\n",
    "function compare_scalars()\n",
    "    x1 = [2.718281828, -3.141592654, 1.414213562, 0.5772156649, 0.3010299957]\n",
    "    x2 = [2.718281828, -3.141592654, 1.414213562, 0.577215664, 0.301029995]\n",
    "    y = [1486.2497, 878366.9879, -22.37492, 4773714.647, 0.000185049]\n",
    "    correct = -1.00657107000000e-11\n",
    "    println(\"Correct Result: $correct\")\n",
    "    println(\"Data Type        Function           Prevoius Result          Result After Change             Cond(x)\")\n",
    "    for dtype in [Float32, Float64]\n",
    "        for f in [scalar_product_1, scalar_product_2, scalar_product_3, scalar_product_4]\n",
    "            s1 = f(dtype, x1, y)\n",
    "            s2 = f(dtype, x2, y)\n",
    "            cond = (abs(s1 - s2)/abs(s1)) / 0.0000000009\n",
    "            println(\" $dtype     $f $(@sprintf(\"%25s\", s1)) $(@sprintf(\"%25s\", s2)) $(@sprintf(\"%25s\", cond))\")\n",
    "        end\n",
    "    end\n",
    "end\n",
    "compare_scalars()"
   ]
  },
  {
   "cell_type": "markdown",
   "metadata": {},
   "source": [
    "Jak widać dla typu `Float32` wszystkie funkcje zwróciły taką samą wartość dla zmienionych danych. Oznacza to ze zmiana w wartościach była na tyle mała, że po dodaniu jej do dużej już sumy różnica została stracona, poprzez radukcje bitów znaczących, zatem typ `Float32` ma za małą dokładność.<br/>\n",
    "Natomaist dla typu `Float64`, każda funkcja zwróciła prawie taki sam wynik (funkcja 3 i 4 taki sam). Widać, że dla funkcji 3 i 4, zmiana wartości pozwoliła na takie zaokrąglenie wartości, że finalna redukcja bitów znaczących nie zaokrągliła się do zera. Niemniej jednak, wynik stracił bardzo na dokładności. Jak widać wskaźnik uwarunkowania zadania jest bardzo duży, co oznacza złe uwarunkowanie zadania."
   ]
  },
  {
   "cell_type": "markdown",
   "metadata": {},
   "source": [
    "## Zad 2"
   ]
  },
  {
   "cell_type": "markdown",
   "metadata": {},
   "source": [
    "*Narysować wykres funkcji $f(x) = e^x ln(1 + e^{−x})$ w co najmniej dwóch dowolnych programach do wizualizacji. Następnie policzyć granicę funkcji $\\lim_{x\\rightarrow \\infty} f(x)$. Porównać wykres funkcji z policzoną granicą. Wyjaśnić zjawisko.*"
   ]
  },
  {
   "cell_type": "markdown",
   "metadata": {},
   "source": [
    "Do obliczenia granicy wykorzystam regułę $de l'Hospitala$:\n",
    "$$ \\lim_{x \\rightarrow \\infty} e^x ln(1 + e^{−x}) = \n",
    "\\lim_{x \\rightarrow \\infty} \\frac{ln(1 + e^{−x})}{e^{-x}} =^H \n",
    "\\lim_{x \\rightarrow \\infty} \\frac{\\frac{d}{dx}(ln(1 + e^{−x}))}{\\frac{d}{dx}(e^{-x})} = \n",
    "\\lim_{x \\rightarrow \\infty} \\frac{-\\frac{1}{e^x+1}}{-e^{-x}} = \n",
    "\\lim_{x \\rightarrow \\infty} \\frac{1}{1 + e^{-x}} = 1 $$\n",
    "\n",
    "Granica funkcji powinna wynosić 1, natomiast na poniższych wykresach widać, jak operacje wykonywane na komputerze potrafią się róznić od matematycznej prawdy."
   ]
  },
  {
   "cell_type": "markdown",
   "metadata": {},
   "source": [
    "Poniższy kod rysuje funkcję `f(x)` wykorzystując wbudowaną bibliotekę `Plots` w języku Julia.<br/>\n",
    "Jak widać na wykresie początkowo wartość zbiega do 1, natomiast zaczyna szaleć w okolicach $x=32$. Dla $x\\ge 35$ zwraca zero. Dzieje się tak ponieważ $e^{-x}$ zaczyna być bardzo małe i po dodaniu do $1$ zostaje całkowicie zredukowane. Wtedy też $ln(1 + e^{−x}) \\simeq ln(1) = 0$, przez co wartość zwracana przez funckję `f` wynosi zero."
   ]
  },
  {
   "cell_type": "code",
   "execution_count": 2,
   "metadata": {},
   "outputs": [
    {
     "data": {
      "image/svg+xml": [
       "<?xml version=\"1.0\" encoding=\"utf-8\"?>\n",
       "<svg xmlns=\"http://www.w3.org/2000/svg\" xmlns:xlink=\"http://www.w3.org/1999/xlink\" width=\"600\" height=\"400\" viewBox=\"0 0 2400 1600\">\n",
       "<defs>\n",
       "  <clipPath id=\"clip430\">\n",
       "    <rect x=\"0\" y=\"0\" width=\"2400\" height=\"1600\"/>\n",
       "  </clipPath>\n",
       "</defs>\n",
       "<path clip-path=\"url(#clip430)\" d=\"\n",
       "M0 1600 L2400 1600 L2400 0 L0 0  Z\n",
       "  \" fill=\"#ffffff\" fill-rule=\"evenodd\" fill-opacity=\"1\"/>\n",
       "<defs>\n",
       "  <clipPath id=\"clip431\">\n",
       "    <rect x=\"480\" y=\"0\" width=\"1681\" height=\"1600\"/>\n",
       "  </clipPath>\n",
       "</defs>\n",
       "<path clip-path=\"url(#clip430)\" d=\"\n",
       "M147.848 1486.45 L2352.76 1486.45 L2352.76 47.2441 L147.848 47.2441  Z\n",
       "  \" fill=\"#ffffff\" fill-rule=\"evenodd\" fill-opacity=\"1\"/>\n",
       "<defs>\n",
       "  <clipPath id=\"clip432\">\n",
       "    <rect x=\"147\" y=\"47\" width=\"2206\" height=\"1440\"/>\n",
       "  </clipPath>\n",
       "</defs>\n",
       "<polyline clip-path=\"url(#clip432)\" style=\"stroke:#000000; stroke-width:2; stroke-opacity:0.1; fill:none\" points=\"\n",
       "  157.724,1486.45 157.724,47.2441 \n",
       "  \"/>\n",
       "<polyline clip-path=\"url(#clip432)\" style=\"stroke:#000000; stroke-width:2; stroke-opacity:0.1; fill:none\" points=\"\n",
       "  683.002,1486.45 683.002,47.2441 \n",
       "  \"/>\n",
       "<polyline clip-path=\"url(#clip432)\" style=\"stroke:#000000; stroke-width:2; stroke-opacity:0.1; fill:none\" points=\"\n",
       "  1208.28,1486.45 1208.28,47.2441 \n",
       "  \"/>\n",
       "<polyline clip-path=\"url(#clip432)\" style=\"stroke:#000000; stroke-width:2; stroke-opacity:0.1; fill:none\" points=\"\n",
       "  1733.56,1486.45 1733.56,47.2441 \n",
       "  \"/>\n",
       "<polyline clip-path=\"url(#clip432)\" style=\"stroke:#000000; stroke-width:2; stroke-opacity:0.1; fill:none\" points=\"\n",
       "  2258.84,1486.45 2258.84,47.2441 \n",
       "  \"/>\n",
       "<polyline clip-path=\"url(#clip430)\" style=\"stroke:#000000; stroke-width:4; stroke-opacity:1; fill:none\" points=\"\n",
       "  147.848,1486.45 2352.76,1486.45 \n",
       "  \"/>\n",
       "<polyline clip-path=\"url(#clip430)\" style=\"stroke:#000000; stroke-width:4; stroke-opacity:1; fill:none\" points=\"\n",
       "  157.724,1486.45 157.724,1469.18 \n",
       "  \"/>\n",
       "<polyline clip-path=\"url(#clip430)\" style=\"stroke:#000000; stroke-width:4; stroke-opacity:1; fill:none\" points=\"\n",
       "  683.002,1486.45 683.002,1469.18 \n",
       "  \"/>\n",
       "<polyline clip-path=\"url(#clip430)\" style=\"stroke:#000000; stroke-width:4; stroke-opacity:1; fill:none\" points=\"\n",
       "  1208.28,1486.45 1208.28,1469.18 \n",
       "  \"/>\n",
       "<polyline clip-path=\"url(#clip430)\" style=\"stroke:#000000; stroke-width:4; stroke-opacity:1; fill:none\" points=\"\n",
       "  1733.56,1486.45 1733.56,1469.18 \n",
       "  \"/>\n",
       "<polyline clip-path=\"url(#clip430)\" style=\"stroke:#000000; stroke-width:4; stroke-opacity:1; fill:none\" points=\"\n",
       "  2258.84,1486.45 2258.84,1469.18 \n",
       "  \"/>\n",
       "<path clip-path=\"url(#clip430)\" d=\"M 0 0 M157.724 1515.64 Q154.112 1515.64 152.284 1519.2 Q150.478 1522.75 150.478 1529.87 Q150.478 1536.98 152.284 1540.55 Q154.112 1544.09 157.724 1544.09 Q161.358 1544.09 163.163 1540.55 Q164.992 1536.98 164.992 1529.87 Q164.992 1522.75 163.163 1519.2 Q161.358 1515.64 157.724 1515.64 M157.724 1511.93 Q163.534 1511.93 166.589 1516.54 Q169.668 1521.12 169.668 1529.87 Q169.668 1538.6 166.589 1543.21 Q163.534 1547.79 157.724 1547.79 Q151.913 1547.79 148.835 1543.21 Q145.779 1538.6 145.779 1529.87 Q145.779 1521.12 148.835 1516.54 Q151.913 1511.93 157.724 1511.93 Z\" fill=\"#000000\" fill-rule=\"evenodd\" fill-opacity=\"1\" /><path clip-path=\"url(#clip430)\" d=\"M 0 0 M659.877 1543.18 L667.516 1543.18 L667.516 1516.82 L659.206 1518.49 L659.206 1514.23 L667.469 1512.56 L672.145 1512.56 L672.145 1543.18 L679.784 1543.18 L679.784 1547.12 L659.877 1547.12 L659.877 1543.18 Z\" fill=\"#000000\" fill-rule=\"evenodd\" fill-opacity=\"1\" /><path clip-path=\"url(#clip430)\" d=\"M 0 0 M694.853 1515.64 Q691.242 1515.64 689.414 1519.2 Q687.608 1522.75 687.608 1529.87 Q687.608 1536.98 689.414 1540.55 Q691.242 1544.09 694.853 1544.09 Q698.488 1544.09 700.293 1540.55 Q702.122 1536.98 702.122 1529.87 Q702.122 1522.75 700.293 1519.2 Q698.488 1515.64 694.853 1515.64 M694.853 1511.93 Q700.664 1511.93 703.719 1516.54 Q706.798 1521.12 706.798 1529.87 Q706.798 1538.6 703.719 1543.21 Q700.664 1547.79 694.853 1547.79 Q689.043 1547.79 685.965 1543.21 Q682.909 1538.6 682.909 1529.87 Q682.909 1521.12 685.965 1516.54 Q689.043 1511.93 694.853 1511.93 Z\" fill=\"#000000\" fill-rule=\"evenodd\" fill-opacity=\"1\" /><path clip-path=\"url(#clip430)\" d=\"M 0 0 M1189.43 1543.18 L1205.75 1543.18 L1205.75 1547.12 L1183.8 1547.12 L1183.8 1543.18 Q1186.46 1540.43 1191.05 1535.8 Q1195.65 1531.15 1196.83 1529.81 Q1199.08 1527.28 1199.96 1525.55 Q1200.86 1523.79 1200.86 1522.1 Q1200.86 1519.34 1198.92 1517.61 Q1197 1515.87 1193.89 1515.87 Q1191.69 1515.87 1189.24 1516.63 Q1186.81 1517.4 1184.03 1518.95 L1184.03 1514.23 Q1186.86 1513.09 1189.31 1512.51 Q1191.76 1511.93 1193.8 1511.93 Q1199.17 1511.93 1202.37 1514.62 Q1205.56 1517.31 1205.56 1521.8 Q1205.56 1523.93 1204.75 1525.85 Q1203.96 1527.74 1201.86 1530.34 Q1201.28 1531.01 1198.18 1534.23 Q1195.07 1537.42 1189.43 1543.18 Z\" fill=\"#000000\" fill-rule=\"evenodd\" fill-opacity=\"1\" /><path clip-path=\"url(#clip430)\" d=\"M 0 0 M1220.81 1515.64 Q1217.2 1515.64 1215.37 1519.2 Q1213.57 1522.75 1213.57 1529.87 Q1213.57 1536.98 1215.37 1540.55 Q1217.2 1544.09 1220.81 1544.09 Q1224.45 1544.09 1226.25 1540.55 Q1228.08 1536.98 1228.08 1529.87 Q1228.08 1522.75 1226.25 1519.2 Q1224.45 1515.64 1220.81 1515.64 M1220.81 1511.93 Q1226.62 1511.93 1229.68 1516.54 Q1232.76 1521.12 1232.76 1529.87 Q1232.76 1538.6 1229.68 1543.21 Q1226.62 1547.79 1220.81 1547.79 Q1215 1547.79 1211.93 1543.21 Q1208.87 1538.6 1208.87 1529.87 Q1208.87 1521.12 1211.93 1516.54 Q1215 1511.93 1220.81 1511.93 Z\" fill=\"#000000\" fill-rule=\"evenodd\" fill-opacity=\"1\" /><path clip-path=\"url(#clip430)\" d=\"M 0 0 M1724.3 1528.49 Q1727.66 1529.2 1729.53 1531.47 Q1731.43 1533.74 1731.43 1537.07 Q1731.43 1542.19 1727.91 1544.99 Q1724.39 1547.79 1717.91 1547.79 Q1715.73 1547.79 1713.42 1547.35 Q1711.13 1546.93 1708.67 1546.08 L1708.67 1541.56 Q1710.62 1542.7 1712.93 1543.28 Q1715.25 1543.86 1717.77 1543.86 Q1722.17 1543.86 1724.46 1542.12 Q1726.78 1540.38 1726.78 1537.07 Q1726.78 1534.02 1724.62 1532.31 Q1722.49 1530.57 1718.67 1530.57 L1714.65 1530.57 L1714.65 1526.73 L1718.86 1526.73 Q1722.31 1526.73 1724.14 1525.36 Q1725.97 1523.97 1725.97 1521.38 Q1725.97 1518.72 1724.07 1517.31 Q1722.19 1515.87 1718.67 1515.87 Q1716.75 1515.87 1714.55 1516.29 Q1712.35 1516.7 1709.72 1517.58 L1709.72 1513.42 Q1712.38 1512.68 1714.69 1512.31 Q1717.03 1511.93 1719.09 1511.93 Q1724.41 1511.93 1727.52 1514.37 Q1730.62 1516.77 1730.62 1520.89 Q1730.62 1523.76 1728.97 1525.75 Q1727.33 1527.72 1724.3 1528.49 Z\" fill=\"#000000\" fill-rule=\"evenodd\" fill-opacity=\"1\" /><path clip-path=\"url(#clip430)\" d=\"M 0 0 M1746.5 1515.64 Q1742.89 1515.64 1741.06 1519.2 Q1739.25 1522.75 1739.25 1529.87 Q1739.25 1536.98 1741.06 1540.55 Q1742.89 1544.09 1746.5 1544.09 Q1750.13 1544.09 1751.94 1540.55 Q1753.77 1536.98 1753.77 1529.87 Q1753.77 1522.75 1751.94 1519.2 Q1750.13 1515.64 1746.5 1515.64 M1746.5 1511.93 Q1752.31 1511.93 1755.36 1516.54 Q1758.44 1521.12 1758.44 1529.87 Q1758.44 1538.6 1755.36 1543.21 Q1752.31 1547.79 1746.5 1547.79 Q1740.69 1547.79 1737.61 1543.21 Q1734.55 1538.6 1734.55 1529.87 Q1734.55 1521.12 1737.61 1516.54 Q1740.69 1511.93 1746.5 1511.93 Z\" fill=\"#000000\" fill-rule=\"evenodd\" fill-opacity=\"1\" /><path clip-path=\"url(#clip430)\" d=\"M 0 0 M2248.34 1516.63 L2236.53 1535.08 L2248.34 1535.08 L2248.34 1516.63 M2247.11 1512.56 L2252.99 1512.56 L2252.99 1535.08 L2257.92 1535.08 L2257.92 1538.97 L2252.99 1538.97 L2252.99 1547.12 L2248.34 1547.12 L2248.34 1538.97 L2232.74 1538.97 L2232.74 1534.46 L2247.11 1512.56 Z\" fill=\"#000000\" fill-rule=\"evenodd\" fill-opacity=\"1\" /><path clip-path=\"url(#clip430)\" d=\"M 0 0 M2272.99 1515.64 Q2269.38 1515.64 2267.55 1519.2 Q2265.75 1522.75 2265.75 1529.87 Q2265.75 1536.98 2267.55 1540.55 Q2269.38 1544.09 2272.99 1544.09 Q2276.63 1544.09 2278.43 1540.55 Q2280.26 1536.98 2280.26 1529.87 Q2280.26 1522.75 2278.43 1519.2 Q2276.63 1515.64 2272.99 1515.64 M2272.99 1511.93 Q2278.8 1511.93 2281.86 1516.54 Q2284.94 1521.12 2284.94 1529.87 Q2284.94 1538.6 2281.86 1543.21 Q2278.8 1547.79 2272.99 1547.79 Q2267.18 1547.79 2264.1 1543.21 Q2261.05 1538.6 2261.05 1529.87 Q2261.05 1521.12 2264.1 1516.54 Q2267.18 1511.93 2272.99 1511.93 Z\" fill=\"#000000\" fill-rule=\"evenodd\" fill-opacity=\"1\" /><polyline clip-path=\"url(#clip432)\" style=\"stroke:#000000; stroke-width:2; stroke-opacity:0.1; fill:none\" points=\"\n",
       "  147.848,1445.72 2352.76,1445.72 \n",
       "  \"/>\n",
       "<polyline clip-path=\"url(#clip432)\" style=\"stroke:#000000; stroke-width:2; stroke-opacity:0.1; fill:none\" points=\"\n",
       "  147.848,1056.52 2352.76,1056.52 \n",
       "  \"/>\n",
       "<polyline clip-path=\"url(#clip432)\" style=\"stroke:#000000; stroke-width:2; stroke-opacity:0.1; fill:none\" points=\"\n",
       "  147.848,667.324 2352.76,667.324 \n",
       "  \"/>\n",
       "<polyline clip-path=\"url(#clip432)\" style=\"stroke:#000000; stroke-width:2; stroke-opacity:0.1; fill:none\" points=\"\n",
       "  147.848,278.128 2352.76,278.128 \n",
       "  \"/>\n",
       "<polyline clip-path=\"url(#clip430)\" style=\"stroke:#000000; stroke-width:4; stroke-opacity:1; fill:none\" points=\"\n",
       "  147.848,1486.45 147.848,47.2441 \n",
       "  \"/>\n",
       "<polyline clip-path=\"url(#clip430)\" style=\"stroke:#000000; stroke-width:4; stroke-opacity:1; fill:none\" points=\"\n",
       "  147.848,1445.72 174.307,1445.72 \n",
       "  \"/>\n",
       "<polyline clip-path=\"url(#clip430)\" style=\"stroke:#000000; stroke-width:4; stroke-opacity:1; fill:none\" points=\"\n",
       "  147.848,1056.52 174.307,1056.52 \n",
       "  \"/>\n",
       "<polyline clip-path=\"url(#clip430)\" style=\"stroke:#000000; stroke-width:4; stroke-opacity:1; fill:none\" points=\"\n",
       "  147.848,667.324 174.307,667.324 \n",
       "  \"/>\n",
       "<polyline clip-path=\"url(#clip430)\" style=\"stroke:#000000; stroke-width:4; stroke-opacity:1; fill:none\" points=\"\n",
       "  147.848,278.128 174.307,278.128 \n",
       "  \"/>\n",
       "<path clip-path=\"url(#clip430)\" d=\"M 0 0 M62.9365 1431.51 Q59.3254 1431.51 57.4967 1435.08 Q55.6912 1438.62 55.6912 1445.75 Q55.6912 1452.86 57.4967 1456.42 Q59.3254 1459.96 62.9365 1459.96 Q66.5707 1459.96 68.3763 1456.42 Q70.205 1452.86 70.205 1445.75 Q70.205 1438.62 68.3763 1435.08 Q66.5707 1431.51 62.9365 1431.51 M62.9365 1427.81 Q68.7467 1427.81 71.8022 1432.42 Q74.8809 1437 74.8809 1445.75 Q74.8809 1454.48 71.8022 1459.08 Q68.7467 1463.67 62.9365 1463.67 Q57.1264 1463.67 54.0477 1459.08 Q50.9921 1454.48 50.9921 1445.75 Q50.9921 1437 54.0477 1432.42 Q57.1264 1427.81 62.9365 1427.81 Z\" fill=\"#000000\" fill-rule=\"evenodd\" fill-opacity=\"1\" /><path clip-path=\"url(#clip430)\" d=\"M 0 0 M79.9503 1457.12 L84.8345 1457.12 L84.8345 1463 L79.9503 1463 L79.9503 1457.12 Z\" fill=\"#000000\" fill-rule=\"evenodd\" fill-opacity=\"1\" /><path clip-path=\"url(#clip430)\" d=\"M 0 0 M99.9039 1431.51 Q96.2928 1431.51 94.4641 1435.08 Q92.6586 1438.62 92.6586 1445.75 Q92.6586 1452.86 94.4641 1456.42 Q96.2928 1459.96 99.9039 1459.96 Q103.538 1459.96 105.344 1456.42 Q107.172 1452.86 107.172 1445.75 Q107.172 1438.62 105.344 1435.08 Q103.538 1431.51 99.9039 1431.51 M99.9039 1427.81 Q105.714 1427.81 108.77 1432.42 Q111.848 1437 111.848 1445.75 Q111.848 1454.48 108.77 1459.08 Q105.714 1463.67 99.9039 1463.67 Q94.0937 1463.67 91.0151 1459.08 Q87.9595 1454.48 87.9595 1445.75 Q87.9595 1437 91.0151 1432.42 Q94.0937 1427.81 99.9039 1427.81 Z\" fill=\"#000000\" fill-rule=\"evenodd\" fill-opacity=\"1\" /><path clip-path=\"url(#clip430)\" d=\"M 0 0 M63.9319 1042.32 Q60.3208 1042.32 58.4921 1045.88 Q56.6865 1049.43 56.6865 1056.55 Q56.6865 1063.66 58.4921 1067.23 Q60.3208 1070.77 63.9319 1070.77 Q67.5661 1070.77 69.3717 1067.23 Q71.2004 1063.66 71.2004 1056.55 Q71.2004 1049.43 69.3717 1045.88 Q67.5661 1042.32 63.9319 1042.32 M63.9319 1038.61 Q69.742 1038.61 72.7976 1043.22 Q75.8763 1047.8 75.8763 1056.55 Q75.8763 1065.28 72.7976 1069.89 Q69.742 1074.47 63.9319 1074.47 Q58.1217 1074.47 55.043 1069.89 Q51.9875 1065.28 51.9875 1056.55 Q51.9875 1047.8 55.043 1043.22 Q58.1217 1038.61 63.9319 1038.61 Z\" fill=\"#000000\" fill-rule=\"evenodd\" fill-opacity=\"1\" /><path clip-path=\"url(#clip430)\" d=\"M 0 0 M80.9457 1067.92 L85.8299 1067.92 L85.8299 1073.8 L80.9457 1073.8 L80.9457 1067.92 Z\" fill=\"#000000\" fill-rule=\"evenodd\" fill-opacity=\"1\" /><path clip-path=\"url(#clip430)\" d=\"M 0 0 M90.9456 1039.24 L109.302 1039.24 L109.302 1043.18 L95.228 1043.18 L95.228 1051.65 Q96.2465 1051.3 97.265 1051.14 Q98.2835 1050.95 99.3021 1050.95 Q105.089 1050.95 108.469 1054.12 Q111.848 1057.3 111.848 1062.71 Q111.848 1068.29 108.376 1071.39 Q104.904 1074.47 98.5845 1074.47 Q96.4085 1074.47 94.14 1074.1 Q91.8947 1073.73 89.4873 1072.99 L89.4873 1068.29 Q91.5706 1069.42 93.7928 1069.98 Q96.015 1070.54 98.4919 1070.54 Q102.496 1070.54 104.834 1068.43 Q107.172 1066.32 107.172 1062.71 Q107.172 1059.1 104.834 1056.99 Q102.496 1054.89 98.4919 1054.89 Q96.6169 1054.89 94.7419 1055.3 Q92.89 1055.72 90.9456 1056.6 L90.9456 1039.24 Z\" fill=\"#000000\" fill-rule=\"evenodd\" fill-opacity=\"1\" /><path clip-path=\"url(#clip430)\" d=\"M 0 0 M54.9736 680.669 L62.6124 680.669 L62.6124 654.303 L54.3023 655.97 L54.3023 651.711 L62.5661 650.044 L67.242 650.044 L67.242 680.669 L74.8809 680.669 L74.8809 684.604 L54.9736 684.604 L54.9736 680.669 Z\" fill=\"#000000\" fill-rule=\"evenodd\" fill-opacity=\"1\" /><path clip-path=\"url(#clip430)\" d=\"M 0 0 M79.9503 678.724 L84.8345 678.724 L84.8345 684.604 L79.9503 684.604 L79.9503 678.724 Z\" fill=\"#000000\" fill-rule=\"evenodd\" fill-opacity=\"1\" /><path clip-path=\"url(#clip430)\" d=\"M 0 0 M99.9039 653.123 Q96.2928 653.123 94.4641 656.688 Q92.6586 660.229 92.6586 667.359 Q92.6586 674.465 94.4641 678.03 Q96.2928 681.572 99.9039 681.572 Q103.538 681.572 105.344 678.03 Q107.172 674.465 107.172 667.359 Q107.172 660.229 105.344 656.688 Q103.538 653.123 99.9039 653.123 M99.9039 649.419 Q105.714 649.419 108.77 654.026 Q111.848 658.609 111.848 667.359 Q111.848 676.086 108.77 680.692 Q105.714 685.275 99.9039 685.275 Q94.0937 685.275 91.0151 680.692 Q87.9595 676.086 87.9595 667.359 Q87.9595 658.609 91.0151 654.026 Q94.0937 649.419 99.9039 649.419 Z\" fill=\"#000000\" fill-rule=\"evenodd\" fill-opacity=\"1\" /><path clip-path=\"url(#clip430)\" d=\"M 0 0 M55.969 291.473 L63.6078 291.473 L63.6078 265.107 L55.2977 266.774 L55.2977 262.515 L63.5615 260.848 L68.2374 260.848 L68.2374 291.473 L75.8763 291.473 L75.8763 295.408 L55.969 295.408 L55.969 291.473 Z\" fill=\"#000000\" fill-rule=\"evenodd\" fill-opacity=\"1\" /><path clip-path=\"url(#clip430)\" d=\"M 0 0 M80.9457 289.529 L85.8299 289.529 L85.8299 295.408 L80.9457 295.408 L80.9457 289.529 Z\" fill=\"#000000\" fill-rule=\"evenodd\" fill-opacity=\"1\" /><path clip-path=\"url(#clip430)\" d=\"M 0 0 M90.9456 260.848 L109.302 260.848 L109.302 264.783 L95.228 264.783 L95.228 273.256 Q96.2465 272.908 97.265 272.746 Q98.2835 272.561 99.3021 272.561 Q105.089 272.561 108.469 275.732 Q111.848 278.904 111.848 284.32 Q111.848 289.899 108.376 293.001 Q104.904 296.08 98.5845 296.08 Q96.4085 296.08 94.14 295.709 Q91.8947 295.339 89.4873 294.598 L89.4873 289.899 Q91.5706 291.033 93.7928 291.589 Q96.015 292.144 98.4919 292.144 Q102.496 292.144 104.834 290.038 Q107.172 287.931 107.172 284.32 Q107.172 280.709 104.834 278.603 Q102.496 276.496 98.4919 276.496 Q96.6169 276.496 94.7419 276.913 Q92.89 277.33 90.9456 278.209 L90.9456 260.848 Z\" fill=\"#000000\" fill-rule=\"evenodd\" fill-opacity=\"1\" /><polyline clip-path=\"url(#clip432)\" style=\"stroke:#009af9; stroke-width:4; stroke-opacity:1; fill:none\" points=\"\n",
       "  210.251,782.889 231.262,749.961 252.274,725.345 273.285,707.506 294.296,694.875 315.307,686.081 336.318,680.031 357.329,675.903 378.34,673.103 399.351,671.21 \n",
       "  420.363,669.935 441.374,669.077 462.385,668.5 483.396,668.113 504.407,667.853 525.418,667.679 546.429,667.562 567.44,667.483 588.452,667.431 609.463,667.396 \n",
       "  630.474,667.372 651.485,667.356 672.496,667.346 693.507,667.339 714.518,667.334 735.529,667.331 756.541,667.328 777.552,667.327 798.563,667.326 819.574,667.325 \n",
       "  840.585,667.325 861.596,667.325 882.607,667.324 903.619,667.324 924.63,667.324 945.641,667.324 966.652,667.324 987.663,667.324 1008.67,667.324 1029.69,667.324 \n",
       "  1050.7,667.324 1071.71,667.324 1092.72,667.324 1113.73,667.324 1134.74,667.324 1155.75,667.324 1176.76,667.324 1197.77,667.324 1218.79,667.324 1239.8,667.324 \n",
       "  1260.81,667.324 1281.82,667.324 1302.83,667.324 1323.84,667.324 1344.85,667.324 1365.86,667.324 1386.87,667.324 1407.89,667.325 1428.9,667.325 1449.91,667.326 \n",
       "  1470.92,667.321 1491.93,667.318 1512.94,667.313 1533.95,667.341 1554.96,667.31 1575.97,667.291 1596.99,667.327 1618,667.408 1639.01,667.172 1660.02,667.316 \n",
       "  1681.03,667.029 1702.04,667.218 1723.05,666.924 1744.06,667.409 1765.07,668.285 1786.09,667.502 1807.1,666.75 1828.11,663.546 1849.12,662.253 1870.13,674.812 \n",
       "  1891.14,666.647 1912.15,670.893 1933.16,702.638 1954.17,706.688 1975.19,710.715 1996.2,623.347 2017.21,627.829 2038.22,835.644 2059.23,535.596 2080.24,87.9763 \n",
       "  2101.25,1445.72 2122.26,1445.72 2143.27,1445.72 2164.29,1445.72 2185.3,1445.72 2206.31,1445.72 2227.32,1445.72 2248.33,1445.72 2269.34,1445.72 2290.35,1445.72 \n",
       "  \n",
       "  \"/>\n",
       "</svg>\n"
      ]
     },
     "execution_count": 2,
     "metadata": {},
     "output_type": "execute_result"
    }
   ],
   "source": [
    "# Kamil Matejuk, 250135\n",
    "using Plots\n",
    "\n",
    "function f(x)\n",
    "    return exp(x) * log(1+exp(-x))\n",
    "end\n",
    "\n",
    "function draw(a, b)\n",
    "    x = [a + i*(b-a+1)/100 for i in 0:99]\n",
    "    y = [f(xi) for xi in x]\n",
    "    plot(x, y, legend=false)\n",
    "end\n",
    "\n",
    "draw(1, 40)"
   ]
  },
  {
   "cell_type": "markdown",
   "metadata": {},
   "source": [
    "Poniżej znajduje się wykres wygenerowany przez serwis https://www.desmos.com/calculator. Wartość początkowo utrzymuje się na 1, natomaist podobnie jak w Julii, na zakresie $[32, 36]$ zaczyna wariować i traci ciagłość. Dla wartości $x \\ge 37$ zwraca zero, z podobnych powodów jak powyżej. "
   ]
  },
  {
   "cell_type": "markdown",
   "metadata": {},
   "source": [
    "![title](desmos-graph)"
   ]
  },
  {
   "cell_type": "markdown",
   "metadata": {},
   "source": [
    "## Zad 3"
   ]
  },
  {
   "cell_type": "markdown",
   "metadata": {},
   "source": [
    "*Rozważmy zadanie rozwiązywania układu równań liniowych $Ax = b$ dla danej macierzy współczynników $A\\in R^{n\\times n}$ i wektora prawych stron $b\\in R^n$.<br/>\n",
    "Macierz A generować w następujący sposób:*\n",
    "* *$A = H_n$, gdzie $H_n$ jest macierzą Hilberta stopnia $n$*\n",
    "* *$A = R_n$, gdzie $R_n$ jest losową macierzą stopnia n z zadanym wskaźnikiem uwarunkowania c*\n",
    "\n",
    "*Wektor $b$ zadany jest następująco $b = A\\times x$, gdzie $x = (1, . . . , 1)^T$.<br/>\n",
    "Rozwiązać Ax = b za pomocą dwóch algorytmów:*\n",
    "* *eliminacji Gaussa (x=A\\b)*\n",
    "* *x = A^{−1}b (x=inv(A)*b)*\n",
    "\n",
    "*Eksperymenty wykonać dla macierzy Hilberta $H_n$ z rosnącym stopniem $n>1$ oraz dla macierzy losowej $R_n$, $n=5, 10,20$ z rosnącym wskaźnikiem uwarunkowania $c=1,10,10^3,10^7,10^{12},10^{16}$. Porównać obliczony $\\tilde{x}$ z rozwiązaniem dokładnym $x=(1, . . . , 1)^T$ tj. policzyć błędy względne.*"
   ]
  },
  {
   "cell_type": "code",
   "execution_count": 3,
   "metadata": {},
   "outputs": [
    {
     "data": {
      "text/plain": [
       "err (generic function with 1 method)"
      ]
     },
     "execution_count": 3,
     "metadata": {},
     "output_type": "execute_result"
    }
   ],
   "source": [
    "# Kamil Matejuk, 250135\n",
    "using LinearAlgebra\n",
    "\n",
    "# generate Hilbert matrix\n",
    "function H(n)\n",
    "    if n < 1\n",
    "         error(\"size n should be >= 1\")\n",
    "    end\n",
    "    return [ 1 / (i + j - 1) for i in 1:n, j in 1:n ]\n",
    "end\n",
    "# generate random matrix\n",
    "function R(n, c)\n",
    "    if n < 2 || c < 1.0\n",
    "         error(\"size n should be > 1 and condition number c should be >= 1.0\")\n",
    "    end\n",
    "    (U,S,V)=svd(rand(n,n))\n",
    "    return U*diagm(0 =>[LinRange(1.0,c,n);])*V'\n",
    "end\n",
    "# generate vector b\n",
    "function gen_b(A)\n",
    "    n = sqrt(length(A))\n",
    "    x = [1.0 for i in 1:n]\n",
    "    result = similar(x)\n",
    "    mul!(result, A, x)\n",
    "    return result\n",
    "end\n",
    "# solve using Gauss elimination\n",
    "function solve_Gauss(A, b)\n",
    "#     return sum(A ./ b, dims=2)\n",
    "    return A \\ b\n",
    "end\n",
    "# solve using unversion\n",
    "function solve_inv(A, b)\n",
    "    return inv(A) * b\n",
    "end\n",
    "# calculate reative error\n",
    "function err(v, n)\n",
    "    error = 0\n",
    "    # 1-norm\n",
    "    if n == 1\n",
    "        for i in v\n",
    "            error += abs(i - 1)\n",
    "        end\n",
    "        error = error / length(v)\n",
    "    # 2-norm\n",
    "    elseif n == 2\n",
    "        for i in v\n",
    "            error += (i - 1)^2\n",
    "        end\n",
    "        error = sqrt(error) / sqrt(length(v))\n",
    "    # max-norm\n",
    "    elseif n == 3\n",
    "        max = 0\n",
    "        for i in v\n",
    "            max = abs(i - 1) > max ? abs(i - 1) : max\n",
    "        end\n",
    "        error = max / 1\n",
    "    end\n",
    "    return error\n",
    "end"
   ]
  },
  {
   "cell_type": "code",
   "execution_count": 4,
   "metadata": {},
   "outputs": [
    {
     "name": "stdout",
     "output_type": "stream",
     "text": [
      "             Cond(H(n))              Err Gauss                 Err Inversion\n",
      "H(1) 1.0                       0.0                       0.0                      \n",
      "H(2) 19.28147006790397         5.551115123125783e-16     1.3322676295501878e-15   \n",
      "H(3) 524.0567775860644         6.994405055138486e-15     0.0                      \n",
      "H(4) 15513.738738928929        3.860800568133982e-13     5.755396159656812e-13    \n",
      "H(5) 476607.25024224253        1.5574208589441695e-13    5.127276381244883e-12    \n",
      "H(6) 1.495105864125091e7       2.6604794293542494e-10    2.4510882212780416e-10   \n",
      "H(7) 4.7536735637688667e8      9.68482321323754e-9       3.82611428254417e-9      \n",
      "H(8) 1.5257575516147259e10     1.7725865927853413e-7     2.8848535293946043e-7    \n",
      "H(9) 4.9315408927806335e11     6.690223052687985e-6      8.046898680428663e-6     \n",
      "H(10) 1.6024859712306152e13     0.0001491619253336296     0.00022150515578687192   \n",
      "H(11) 5.2210348947688544e14     0.003987004418018187      0.00694977758790959      \n",
      "H(12) 1.7255427417341868e16     0.1264657760761613        0.10614919817696016      \n",
      "H(13) 7.126491965424366e17      5.011017074544823         2.778349455732566        \n",
      "H(14) 6.101307732044041e17      0.4928437119689166        1.715509076469711        \n",
      "H(15) 4.223311222761075e17      2.121250841766025         2.6618863514314097       \n",
      "H(16) 3.535827507735838e17      5.627113889201084         30.748666897416115       \n",
      "H(17) 3.1182808742153696e17     2.7304358495659304        3.5506358554258064       \n",
      "H(18) 1.5639169583348145e18     3.429605640257575         4.173625115719107        \n",
      "H(19) 1.3274441976880407e18     4.065231322886414         7.684911130290282        \n",
      "H(20) 2.2777635596453635e18     13.622149222214796        9.728315769135952        \n",
      "H(21) 1.5088647979164173e18     3.632822382355701         3.1459906544713747       \n",
      "H(22) 2.148587035517758e18      10.391748647588686        12.542061561887914       \n",
      "H(23) 8.53990580100839e18       4.92614648024894          4.4677266692337785       \n",
      "H(24) 1.1703742699502748e19     9.15931855054162          11.249625062569976       \n",
      "H(25) 1.5100611248172846e18     20.31512408042537         20.239320657849312       \n",
      "H(26) 6.7061676715063665e19     7.187452394197539         12.983043094093983       \n",
      "H(27) 4.3599859152937656e18     38.103917795444254        202.73313106099764       \n",
      "H(28) 1.3045387550900326e19     102.40513860589358        78.10184942185879        \n",
      "H(29) 1.0145758471780368e20     13.228115095407691        10.160972858297415       \n",
      "H(30) 2.0443844273023086e18     10.859352123941054        20.37351991136869        \n",
      "H(31) 6.28504110164043e18       4.396593448547255         12.123221428644273       \n",
      "H(32) 1.5424244738957617e19     101.34637630680953        68.77197843790054        \n",
      "H(33) 4.937052774614429e18      58.447883180709574        326.86834357001567       \n",
      "H(34) 5.202898777051159e18      145.6062835521882         325.8958973963471        \n",
      "H(35) 6.43770685681533e18       163.11147516725802        185.16226246963654       \n",
      "H(36) 4.1848674672321085e18     13.160179265354799        18.30443795522054        \n",
      "H(37) 3.979920911602221e18      23.502048686361952        32.00507161182326        \n",
      "H(38) 1.1138484122591953e19     201.3927936061149         258.7506201141759        \n",
      "H(39) 6.572879787253599e18      28.7568109302049          25.17587226858506        \n",
      "H(40) 1.248378633117602e21      12.24701228221807         22.17639389783144        \n"
     ]
    }
   ],
   "source": [
    "# Kamil Matejuk, 250135\n",
    "using Printf\n",
    "\n",
    "# experiments for Hilbert matrix\n",
    "println(\"             Cond(H(n))              Err Gauss                 Err Inversion\")\n",
    "for n in 1:1:40\n",
    "    A = H(n)\n",
    "    b = gen_b(A)\n",
    "    cnd = cond(A)\n",
    "    s_g_e = err(solve_Gauss(A, b), 1)\n",
    "    s_i_e = err(solve_inv(A, b), 1)\n",
    "    println(\"H($n) $(@sprintf(\"%-25s\", cnd)) $(@sprintf(\"%-25s\", s_g_e)) $(@sprintf(\"%-25s\", s_i_e))\")\n",
    "end"
   ]
  },
  {
   "cell_type": "markdown",
   "metadata": {},
   "source": [
    "Dla macierzy Hilberta, obie metody zwracają wyniki o podbnych błędach. Błąd nie zależy liniowo od rozmiaru $n$.<br/>\n",
    "Natomiast ważne jest, że macierz Hilberta jest bardzo źle uwarunkowana - `cond(H(n))` jest bardzo duże i szybko rośnie wraz z $n$."
   ]
  },
  {
   "cell_type": "code",
   "execution_count": 5,
   "metadata": {},
   "outputs": [
    {
     "name": "stdout",
     "output_type": "stream",
     "text": [
      "                        Gauss                   Inversion\n",
      "R(5,1.0)        2.4424906541753446e-16    1.1102230246251565e-16   \n",
      "R(5,10.0)       0.0                       2.220446049250313e-16    \n",
      "R(5,1000.0)     1.7541523789077473e-14    2.5579538487363607e-14   \n",
      "R(5,1.0e7)      6.064206914402348e-11     1.2514647096395492e-10   \n",
      "R(5,1.0e12)     7.293313096035092e-6      2.02178955078125e-5      \n",
      "R(5,1.0e17)     0.41194590728321795       0.75                     \n",
      "R(10,1.0)       2.6645352591003756e-16    2.331468351712829e-16    \n",
      "R(10,10.0)      7.771561172376096e-16     3.9968028886505636e-16   \n",
      "R(10,1000.0)    2.737809978725636e-14     2.6367796834847468e-14   \n",
      "R(10,1.0e7)     4.0412602153594436e-10    4.0599843487143514e-10   \n",
      "R(10,1.0e12)    1.4246531853823185e-5     1.3685226440429687e-5    \n",
      "R(10,1.0e17)    0.5066296879193599        0.796875                 \n",
      "R(20,1.0)       3.219646771412954e-16     3.275157922644212e-16    \n",
      "R(20,10.0)      4.440892098500626e-16     4.773959005888173e-16    \n",
      "R(20,1000.0)    2.1371793224034263e-15    7.521760991835436e-15    \n",
      "R(20,1.0e7)     3.8637656962769995e-10    3.3796823117882015e-10   \n",
      "R(20,1.0e12)    4.2133813832989644e-5     4.453659057617188e-5     \n",
      "R(20,1.0e17)    0.4773824786346131        0.5625                   \n"
     ]
    }
   ],
   "source": [
    "# Kamil Matejuk, 250135\n",
    "using Printf\n",
    "\n",
    "# experiments for random matrix\n",
    "println(\"                        Gauss                   Inversion\")\n",
    "for n in [5, 10, 20]\n",
    "    for c in [1, 10, 1e3, 1e7, 1e12, 10e16]\n",
    "        A = R(n, c)\n",
    "        b = gen_b(A)\n",
    "        s_g_e = err(solve_Gauss(A, b), 1)\n",
    "        s_i_e = err(solve_inv(A, b), 1)\n",
    "        title = \"R($n,$c)\"\n",
    "        println(\"$(@sprintf(\"%-15s\", title)) $(@sprintf(\"%-25s\", s_g_e)) $(@sprintf(\"%-25s\", s_i_e))\")\n",
    "    end\n",
    "end"
   ]
  },
  {
   "cell_type": "markdown",
   "metadata": {},
   "source": [
    "Podobnie jak dla macierzy Hilberta, obliczenia na losowych macierzach zwracają podobny błąd niezależnie od metody. Błąd nie zależy od rozmiaru macierzy, natomaist zależy od wskaźnika uwarunkowania.<br/>\n",
    "Podobnie przy stałym rozmiarze, dla rosnącego wskaźnika uwarunkowania, błąd rośnie w miarę wprostproporcjonalnie. Da się zauważyć, że dla dużych wartości $c$ błąd nadal pozostaje stosunkowo niski (w porównaniu do macierzy Hilberta), zatem macierz losowa o ustalownym `cond` jest lepiej uwarunkowana niż macierz Hilberta. Dla dobrego uwarunkowania trzeba wybrać stosunkowo niski wskaźnik $(1, 10, 100, 10^7)$"
   ]
  },
  {
   "cell_type": "markdown",
   "metadata": {},
   "source": [
    "## Zad 4"
   ]
  },
  {
   "cell_type": "markdown",
   "metadata": {},
   "source": [
    "### 4.1\n",
    "*Użyć funkcji roots (z pakietu Polynomials) do obliczenia 20 zer wielomianu P. P jest postacią naturalną wielomianu Wilkinsona $ p(x) = \\prod_{k=1}^{20}(x − k)$ Sprawdzić obliczone pierwiastki $z_k$ obliczając $|P(z_k)|$, $|p(z_k)|$ i $|z_k − k|$.\n",
    "Wyjaśnić rozbieżności. (Wskazówka: Arytmetyka w Float64 w języku Julia ma od 15 do 17 cyfr znaczących w\n",
    "systemie dziesiętnym)*"
   ]
  },
  {
   "cell_type": "code",
   "execution_count": 3,
   "metadata": {
    "scrolled": false
   },
   "outputs": [
    {
     "name": "stdout",
     "output_type": "stream",
     "text": [
      "        root               |P(z)|                    |p(z)|                     |z-k|\n",
      "0.9999999999996989   36352.0                   36626.4254824228          3.0109248427834245e-13   \n",
      "2.0000000000283182   181760.0                  181303.9336725767         2.8318236644508943e-11   \n",
      "2.9999999995920965   209408.0                  290172.2858891687         4.0790348876384996e-10   \n",
      "3.9999999837375317   3.106816e6                2.04153729027509e6        1.626246826091915e-8     \n",
      "5.000000665769791    2.4114688e7               2.0894625006962176e7      6.657697912970661e-7     \n",
      "5.999989245824773    1.20152064e8              1.1250484577562997e8      1.0754175226779239e-5    \n",
      "7.000102002793008    4.80398336e8              4.5729086427309465e8      0.00010200279300764947   \n",
      "7.999355829607762    1.682691072e9             1.5556459377357383e9      0.0006441703922384079    \n",
      "9.002915294362053    4.465326592e9             4.68781617564839e9        0.002915294362052734     \n",
      "9.990413042481725    1.2707126784e10           1.2634601896949207e10     0.009586957518274986     \n",
      "11.025022932909318   3.5759895552e10           3.3001284744984142e10     0.025022932909317674     \n",
      "11.953283253846857   7.216771584e10            7.388525665404987e10      0.04671674615314281      \n",
      "13.07431403244734    2.15723629056e11          1.84762150931442e11       0.07431403244734014      \n",
      "13.914755591802127   3.65383250944e11          3.551427752842085e11      0.08524440819787316      \n",
      "15.075493799699476   6.13987753472e11          8.423201558964255e11      0.07549379969947623      \n",
      "15.946286716607972   1.555027751936e12         1.5707287366258018e12     0.05371328339202819      \n",
      "17.025427146237412   3.777623778304e12         3.3169782238892354e12     0.025427146237412046     \n",
      "17.99092135271648    7.199554861056e12         6.344853141791281e12      0.009078647283519814     \n",
      "19.00190981829944    1.0278376162816e13        1.2285717366719662e13     0.0019098182994383706    \n",
      "19.999809291236637   2.7462952745472e13        2.318309535271639e13      0.00019070876336257925   \n"
     ]
    }
   ],
   "source": [
    "# Kamil Matejuk, 250135\n",
    "using Printf\n",
    "using Polynomials\n",
    "\n",
    "function wilkinson(x)\n",
    "    result = 1\n",
    "    for k in 1:20\n",
    "        result = result * (x - k)\n",
    "    end\n",
    "    return result\n",
    "end\n",
    "    \n",
    "# main program\n",
    "p_coeff = [2.43290200817664e18, -8.7529480367616e18, 1.3803759753640704e19, -1.2870931245150988e19, \n",
    "    8.037811822645051e18, -3.599979517947607e18, 1.2066478037803732e18, -3.1133364316139066e17, \n",
    "    6.30308120992949e16, -1.014229986551145e16, 1.307535010540395e15, -1.3558518289953e14, \n",
    "    1.1310276995381e13, -7.561111845e11, 4.017177163e10, -1.67228082e9, 5.3327946e7, -1.25685e6, \n",
    "    20615.0, -210.0, 1.0]\n",
    "# p_coeff[20] = -210-2^(-23)\n",
    "P = Polynomial(p_coeff)\n",
    "println(\"        root               |P(z)|                    |p(z)|                     |z-k|\")\n",
    "for (i, r) in enumerate(roots(P))\n",
    "    println(\"$(@sprintf(\"%-20s\", r)) $(@sprintf(\"%-25s\", abs(P(r)))) $(@sprintf(\"%-25s\", abs(wilkinson(r)))) $(@sprintf(\"%-25s\", abs(i - r)))\")\n",
    "end"
   ]
  },
  {
   "cell_type": "markdown",
   "metadata": {},
   "source": [
    "Wbudowanej metodzie `roots` nie udało się dokłądnie znaleźć żadnego miejsca zerowego. Dla małych $z_k$ różnica nie jest duża, natomiast im większy pierwiastek wielomianu, tym większa różnica $|z_k-k|$. Nawet małe przesuniecię punktu zerowego owocowało znaczną różnicą wartości w tym punkcie, dla obu $|P(x)|$ i $|p(x)|$."
   ]
  },
  {
   "cell_type": "markdown",
   "metadata": {},
   "source": [
    "### 4.2\n",
    "*Powtórzyć eksperyment Wilkinsona, tj. zmienić współczynnik $−210$ na $−210−2^{−23}$. Wyjaśnić zjawisko.*"
   ]
  },
  {
   "cell_type": "code",
   "execution_count": 7,
   "metadata": {},
   "outputs": [
    {
     "name": "stdout",
     "output_type": "stream",
     "text": [
      "                  root                        |P(z)|                    |p(z)|                     |z-k|\n",
      "0.9999999999998357 + 0.0im                20496.0                 19987.872313406842      1.6431300764452317e-13   \n",
      "2.0000000000550373 + 0.0im                339570.0                352369.413808796        5.503730804434781e-11    \n",
      "2.99999999660342 + 0.0im                  2.2777455e6             2.416241558251844e6     3.3965799062229962e-9    \n",
      "4.000000089724362 + 0.0im                 1.0488020625e7          1.126370230029202e7     8.972436216225788e-8     \n",
      "4.99999857388791 + 0.0im                  4.1239073125e7          4.475744423806907e7     1.4261120897529622e-6    \n",
      "6.000020476673031 + 0.0im                 1.406328934140625e8     2.1421031658039317e8    2.0476673030955794e-5    \n",
      "6.99960207042242 + 0.0im                  4.122812662421875e8     1.7846173427860644e9    0.00039792957757978087   \n",
      "8.007772029099446 + 0.0im                 1.0307901272578125e9    1.868697217000985e10    0.007772029099445632     \n",
      "8.915816367932559 + 0.0im                 2.1574055781816406e9    1.3746309775142996e11   0.0841836320674414       \n",
      "10.095455630535774 - 0.6449328236240688im 9.384147605647182e9     1.4900695352000583e12   0.6519586830380407       \n",
      "10.095455630535774 + 0.6449328236240688im 9.384147605647182e9     1.4900695352000583e12   1.1109180272716561       \n",
      "11.793890586174369 - 1.6524771364075785im 3.0012060598372482e10   3.2962792355717137e13   1.665281290598479        \n",
      "11.793890586174369 + 1.6524771364075785im 3.0012060598372482e10   3.2962792355717137e13   2.0458202766784277       \n",
      "13.992406684487216 - 2.5188244257108443im 2.0030917431984006e11   9.546022365750218e14    2.518835871190904        \n",
      "13.992406684487216 + 2.5188244257108443im 2.0030917431984006e11   9.546022365750218e14    2.7128805312847097       \n",
      "16.73074487979267 - 2.812624896721978im   1.1583329328642004e12   2.742106076928478e16    2.9060018735375106       \n",
      "16.73074487979267 + 2.812624896721978im   1.1583329328642004e12   2.742106076928478e16    2.825483521349608        \n",
      "19.5024423688181 - 1.940331978642903im    5.867381806750561e12    4.25248587652037e17     2.4540214463129764       \n",
      "19.5024423688181 + 1.940331978642903im    5.867381806750561e12    4.25248587652037e17     2.0043294443099486       \n",
      "20.84691021519479 + 0.0im                 9.550552334336e12       1.3743743559997601e18   0.8469102151947894       \n"
     ]
    }
   ],
   "source": [
    "# Kamil Matejuk, 250135\n",
    "using Printf\n",
    "\n",
    "p_coeff[20] = -210-2^(-23)\n",
    "P = Polynomial(p_coeff)\n",
    "println(\"                  root                        |P(z)|                    |p(z)|                     |z-k|\")\n",
    "for (i, r) in enumerate(roots(P))\n",
    "    println(\"$(@sprintf(\"%-41s\", r)) $(@sprintf(\"%-23s\", abs(P(r)))) $(@sprintf(\"%-23s\", abs(wilkinson(r)))) $(@sprintf(\"%-25s\", abs(i - r)))\")\n",
    "end"
   ]
  },
  {
   "cell_type": "markdown",
   "metadata": {},
   "source": [
    "Dla zmienionego współczynnika metoda `roots` zwróciła 10 miejsc zerowych rzeczywistych i 10 zespolonych. Nadal żadne miejsce zerowe nie zostało dokładnie obliczone, co spowodowało znaczną róznicę wartości $|P(x)|$ i $|p(x)|$ w tych punktach. Mała zmiana współczynnika spowodowała znaczną zmianę wyników, więc zadanie wyznaczenia pierwiastków wielomianu Wilkinsona jest źle uwarunkowane ze względu na zaburzenia współczynników."
   ]
  },
  {
   "cell_type": "markdown",
   "metadata": {},
   "source": [
    "## Zad 5"
   ]
  },
  {
   "cell_type": "markdown",
   "metadata": {},
   "source": [
    "*Rozważmy równanie rekurencyjne (model logistyczny, model wzrostu populacji) $p_{n+1} := p_n + r p_n(1 − p_n)$, dla $n = 0, 1, \\dots$, gdzie $r$ jest pewną daną stałą, $r(1 − p_n)$ jest czynnikiem wzrostu populacji, a $p_0$ jest wielkością populacji stanowiąca procent maksymalnej wielkości populacji dla danego stanu środowiska.*"
   ]
  },
  {
   "cell_type": "code",
   "execution_count": 8,
   "metadata": {},
   "outputs": [
    {
     "data": {
      "text/plain": [
       "p (generic function with 1 method)"
      ]
     },
     "execution_count": 8,
     "metadata": {},
     "output_type": "execute_result"
    }
   ],
   "source": [
    "function p(p0, r, n)\n",
    "    if n == 0\n",
    "        return p0\n",
    "    end\n",
    "    prev_p = p(p0, r, n-1)\n",
    "    return prev_p + r * prev_p * (1 - prev_p)\n",
    "end"
   ]
  },
  {
   "cell_type": "markdown",
   "metadata": {},
   "source": [
    "### 5.1\n",
    "*Dla danych $p_0 = 0.01$ i $r = 3$ wykonać 40 iteracji wyrażenia, a następnie wykonać ponownie 40 iteracji wyrażenia z niewielką modyfikacją tj. wykonać 10 iteracji, zatrzymać, zastosować obcięcie wyniku odrzucając cyfry po trzecim miejscu po przecinku (daje to liczbę 0.722) i kontynuować dalej obliczenia (do 40-stej iteracji) tak, jak gdyby był to ostatni wynik na wyjściu. Porównać otrzymane wyniki.\n",
    "Obliczenia wykonać w arytmetyce Float32 (w języku Julia).*"
   ]
  },
  {
   "cell_type": "code",
   "execution_count": 9,
   "metadata": {},
   "outputs": [
    {
     "name": "stdout",
     "output_type": "stream",
     "text": [
      "40 iteracji bez obcięcia daje: 0.25860548\n",
      "Z obcięciem po 10 iteracji daje: 1.093568\n"
     ]
    }
   ],
   "source": [
    "# bez obcięcia\n",
    "v1 = p(Float32(0.01), 3, 40)\n",
    "println(\"40 iteracji bez obcięcia daje: $v1\")\n",
    "# z obcięciem\n",
    "v2 = p(Float32(0.01), 3, 10)\n",
    "v2 = round(Float32(v2), RoundDown, digits=3)\n",
    "v2 = p(Float32(v2), 3, 30)\n",
    "println(\"Z obcięciem po 10 iteracji daje: $v2\")"
   ]
  },
  {
   "cell_type": "markdown",
   "metadata": {},
   "source": [
    "Jak widać mała edycja wartości w trakcie procesu skumulowała się i spowodowała znaczną różnicę w dalszych stadiach (4-krotna różnica w wyniku). Oznacza to że powyższy proces rekurencyjny jest niestabilny."
   ]
  },
  {
   "cell_type": "markdown",
   "metadata": {},
   "source": [
    "### 5.2\n",
    "*Dla danych $p_0 = 0.01$ i $r = 3$ wykonać $40$ iteracji wyrażenia w arytmetyce Float32 i Float64 (w języku Julia). Porównać otrzymane wyniki.*"
   ]
  },
  {
   "cell_type": "code",
   "execution_count": 10,
   "metadata": {},
   "outputs": [
    {
     "name": "stdout",
     "output_type": "stream",
     "text": [
      "Float32: 0.25860548\n",
      "Float64: 0.011611238029748606\n"
     ]
    }
   ],
   "source": [
    "println(\"Float32: \", p(Float32(0.01), 3, 40))\n",
    "println(\"Float64: \", p(Float64(0.01), 3, 40))"
   ]
  },
  {
   "cell_type": "markdown",
   "metadata": {},
   "source": [
    "Typ `Float32` ma mniej bitów dostepnych na zapis, co oznacza że jest mniej dokładny niż `Float64`. Zaokrąglenia wynikające z mniejszej dokłądności kumulowały się w każedje iteracji i ostatecznie doprowadziły do 25-krotnej różnicy w wyniku. Proces jest niestabilny."
   ]
  },
  {
   "cell_type": "markdown",
   "metadata": {},
   "source": [
    "## Zad 6"
   ]
  },
  {
   "cell_type": "markdown",
   "metadata": {},
   "source": [
    "*Rozważmy równanie rekurencyjne $x_{n+1} := x^2_n + c$ dla $n = 0, 1, \\dots$, gdzie $c$ jest pewną daną stałą. Przeprowadzić następujące eksperymenty. Dla danych:*\n",
    "* *c = −2 i $x_0$ = 1*\n",
    "* *c = −2 i $x_0$ = 2*\n",
    "* *c = −2 i $x_0$ = 1.99999999999999*\n",
    "* *c = −1 i $x_0$ = 1*\n",
    "* *c = −1 i $x_0$ = −1*\n",
    "* *c = −1 i $x_0$ = 0.75*\n",
    "* *c = −1 i $x_0$ = 0.25*\n",
    "\n",
    "*wykonać, w języku Julia w arytmetyce Float64, 40 iteracji wyrażenia. Zaobserwować zachowanie generowanych ciągów.\n",
    "(Wskazówka: Przeprowadzić iteracje graficzną $x_{n+1} := x^2_n + c$)*"
   ]
  },
  {
   "cell_type": "code",
   "execution_count": 11,
   "metadata": {},
   "outputs": [
    {
     "name": "stdout",
     "output_type": "stream",
     "text": [
      "c=-2, x0=1,                po czterdziestu iteracjach zwraca -1.0\n",
      "c=-2, x0=2,                po czterdziestu iteracjach zwraca 2.0\n",
      "c=-2, x0=1.99999999999999, po czterdziestu iteracjach zwraca -0.3289791230026702\n",
      "c=-1, x0=1,                po czterdziestu iteracjach zwraca -1.0\n",
      "c=-1, x0=-1,               po czterdziestu iteracjach zwraca -1.0\n",
      "c=-1, x0=0.75,             po czterdziestu iteracjach zwraca -1.0\n",
      "c=-1, x0=0.25,             po czterdziestu iteracjach zwraca 0.0\n"
     ]
    }
   ],
   "source": [
    "function x(x0, c, n)\n",
    "    if n == 0\n",
    "        return [Float64(x0)]\n",
    "    end\n",
    "    prev_x = x(x0, c, n-1)\n",
    "    return hcat(prev_x, [last(prev_x)^2 + c])\n",
    "end\n",
    "\n",
    "# otrzymane ciągi\n",
    "x1 = x(1,                -2, 40)\n",
    "x2 = x(2,                -2, 40)\n",
    "x3 = x(1.99999999999999, -2, 40)\n",
    "x4 = x(1,                -1, 40)\n",
    "x5 = x(-1,               -1, 40)\n",
    "x6 = x(0.75,             -1, 40)\n",
    "x7 = x(0.25,             -1, 40)\n",
    "# 40-ty element ciągu\n",
    "println(\"c=-2, x0=1,                po czterdziestu iteracjach zwraca \", last(x1))\n",
    "println(\"c=-2, x0=2,                po czterdziestu iteracjach zwraca \", last(x2))\n",
    "println(\"c=-2, x0=1.99999999999999, po czterdziestu iteracjach zwraca \", last(x3))\n",
    "println(\"c=-1, x0=1,                po czterdziestu iteracjach zwraca \", last(x4))\n",
    "println(\"c=-1, x0=-1,               po czterdziestu iteracjach zwraca \", last(x5))\n",
    "println(\"c=-1, x0=0.75,             po czterdziestu iteracjach zwraca \", last(x6))\n",
    "println(\"c=-1, x0=0.25,             po czterdziestu iteracjach zwraca \", last(x7))"
   ]
  },
  {
   "cell_type": "code",
   "execution_count": 12,
   "metadata": {},
   "outputs": [
    {
     "data": {
      "image/svg+xml": [
       "<?xml version=\"1.0\" encoding=\"utf-8\"?>\n",
       "<svg xmlns=\"http://www.w3.org/2000/svg\" xmlns:xlink=\"http://www.w3.org/1999/xlink\" width=\"600\" height=\"400\" viewBox=\"0 0 2400 1600\">\n",
       "<defs>\n",
       "  <clipPath id=\"clip800\">\n",
       "    <rect x=\"0\" y=\"0\" width=\"2400\" height=\"1600\"/>\n",
       "  </clipPath>\n",
       "</defs>\n",
       "<path clip-path=\"url(#clip800)\" d=\"\n",
       "M0 1600 L2400 1600 L2400 0 L0 0  Z\n",
       "  \" fill=\"#ffffff\" fill-rule=\"evenodd\" fill-opacity=\"1\"/>\n",
       "<defs>\n",
       "  <clipPath id=\"clip801\">\n",
       "    <rect x=\"480\" y=\"0\" width=\"1681\" height=\"1600\"/>\n",
       "  </clipPath>\n",
       "</defs>\n",
       "<path clip-path=\"url(#clip800)\" d=\"\n",
       "M143.033 1486.45 L2352.76 1486.45 L2352.76 47.2441 L143.033 47.2441  Z\n",
       "  \" fill=\"#ffffff\" fill-rule=\"evenodd\" fill-opacity=\"1\"/>\n",
       "<defs>\n",
       "  <clipPath id=\"clip802\">\n",
       "    <rect x=\"143\" y=\"47\" width=\"2211\" height=\"1440\"/>\n",
       "  </clipPath>\n",
       "</defs>\n",
       "<polyline clip-path=\"url(#clip802)\" style=\"stroke:#000000; stroke-width:2; stroke-opacity:0.1; fill:none\" points=\"\n",
       "  153.457,1486.45 153.457,47.2441 \n",
       "  \"/>\n",
       "<polyline clip-path=\"url(#clip802)\" style=\"stroke:#000000; stroke-width:2; stroke-opacity:0.1; fill:none\" points=\"\n",
       "  674.618,1486.45 674.618,47.2441 \n",
       "  \"/>\n",
       "<polyline clip-path=\"url(#clip802)\" style=\"stroke:#000000; stroke-width:2; stroke-opacity:0.1; fill:none\" points=\"\n",
       "  1195.78,1486.45 1195.78,47.2441 \n",
       "  \"/>\n",
       "<polyline clip-path=\"url(#clip802)\" style=\"stroke:#000000; stroke-width:2; stroke-opacity:0.1; fill:none\" points=\"\n",
       "  1716.94,1486.45 1716.94,47.2441 \n",
       "  \"/>\n",
       "<polyline clip-path=\"url(#clip802)\" style=\"stroke:#000000; stroke-width:2; stroke-opacity:0.1; fill:none\" points=\"\n",
       "  2238.1,1486.45 2238.1,47.2441 \n",
       "  \"/>\n",
       "<polyline clip-path=\"url(#clip800)\" style=\"stroke:#000000; stroke-width:4; stroke-opacity:1; fill:none\" points=\"\n",
       "  143.033,1486.45 2352.76,1486.45 \n",
       "  \"/>\n",
       "<polyline clip-path=\"url(#clip800)\" style=\"stroke:#000000; stroke-width:4; stroke-opacity:1; fill:none\" points=\"\n",
       "  153.457,1486.45 153.457,1469.18 \n",
       "  \"/>\n",
       "<polyline clip-path=\"url(#clip800)\" style=\"stroke:#000000; stroke-width:4; stroke-opacity:1; fill:none\" points=\"\n",
       "  674.618,1486.45 674.618,1469.18 \n",
       "  \"/>\n",
       "<polyline clip-path=\"url(#clip800)\" style=\"stroke:#000000; stroke-width:4; stroke-opacity:1; fill:none\" points=\"\n",
       "  1195.78,1486.45 1195.78,1469.18 \n",
       "  \"/>\n",
       "<polyline clip-path=\"url(#clip800)\" style=\"stroke:#000000; stroke-width:4; stroke-opacity:1; fill:none\" points=\"\n",
       "  1716.94,1486.45 1716.94,1469.18 \n",
       "  \"/>\n",
       "<polyline clip-path=\"url(#clip800)\" style=\"stroke:#000000; stroke-width:4; stroke-opacity:1; fill:none\" points=\"\n",
       "  2238.1,1486.45 2238.1,1469.18 \n",
       "  \"/>\n",
       "<path clip-path=\"url(#clip800)\" d=\"M 0 0 M153.457 1515.64 Q149.846 1515.64 148.017 1519.2 Q146.211 1522.75 146.211 1529.87 Q146.211 1536.98 148.017 1540.55 Q149.846 1544.09 153.457 1544.09 Q157.091 1544.09 158.896 1540.55 Q160.725 1536.98 160.725 1529.87 Q160.725 1522.75 158.896 1519.2 Q157.091 1515.64 153.457 1515.64 M153.457 1511.93 Q159.267 1511.93 162.322 1516.54 Q165.401 1521.12 165.401 1529.87 Q165.401 1538.6 162.322 1543.21 Q159.267 1547.79 153.457 1547.79 Q147.647 1547.79 144.568 1543.21 Q141.512 1538.6 141.512 1529.87 Q141.512 1521.12 144.568 1516.54 Q147.647 1511.93 153.457 1511.93 Z\" fill=\"#000000\" fill-rule=\"evenodd\" fill-opacity=\"1\" /><path clip-path=\"url(#clip800)\" d=\"M 0 0 M651.493 1543.18 L659.132 1543.18 L659.132 1516.82 L650.821 1518.49 L650.821 1514.23 L659.085 1512.56 L663.761 1512.56 L663.761 1543.18 L671.4 1543.18 L671.4 1547.12 L651.493 1547.12 L651.493 1543.18 Z\" fill=\"#000000\" fill-rule=\"evenodd\" fill-opacity=\"1\" /><path clip-path=\"url(#clip800)\" d=\"M 0 0 M686.469 1515.64 Q682.858 1515.64 681.03 1519.2 Q679.224 1522.75 679.224 1529.87 Q679.224 1536.98 681.03 1540.55 Q682.858 1544.09 686.469 1544.09 Q690.104 1544.09 691.909 1540.55 Q693.738 1536.98 693.738 1529.87 Q693.738 1522.75 691.909 1519.2 Q690.104 1515.64 686.469 1515.64 M686.469 1511.93 Q692.28 1511.93 695.335 1516.54 Q698.414 1521.12 698.414 1529.87 Q698.414 1538.6 695.335 1543.21 Q692.28 1547.79 686.469 1547.79 Q680.659 1547.79 677.581 1543.21 Q674.525 1538.6 674.525 1529.87 Q674.525 1521.12 677.581 1516.54 Q680.659 1511.93 686.469 1511.93 Z\" fill=\"#000000\" fill-rule=\"evenodd\" fill-opacity=\"1\" /><path clip-path=\"url(#clip800)\" d=\"M 0 0 M1176.92 1543.18 L1193.24 1543.18 L1193.24 1547.12 L1171.3 1547.12 L1171.3 1543.18 Q1173.96 1540.43 1178.54 1535.8 Q1183.15 1531.15 1184.33 1529.81 Q1186.58 1527.28 1187.46 1525.55 Q1188.36 1523.79 1188.36 1522.1 Q1188.36 1519.34 1186.42 1517.61 Q1184.49 1515.87 1181.39 1515.87 Q1179.19 1515.87 1176.74 1516.63 Q1174.31 1517.4 1171.53 1518.95 L1171.53 1514.23 Q1174.36 1513.09 1176.81 1512.51 Q1179.26 1511.93 1181.3 1511.93 Q1186.67 1511.93 1189.86 1514.62 Q1193.06 1517.31 1193.06 1521.8 Q1193.06 1523.93 1192.25 1525.85 Q1191.46 1527.74 1189.36 1530.34 Q1188.78 1531.01 1185.67 1534.23 Q1182.57 1537.42 1176.92 1543.18 Z\" fill=\"#000000\" fill-rule=\"evenodd\" fill-opacity=\"1\" /><path clip-path=\"url(#clip800)\" d=\"M 0 0 M1208.31 1515.64 Q1204.7 1515.64 1202.87 1519.2 Q1201.07 1522.75 1201.07 1529.87 Q1201.07 1536.98 1202.87 1540.55 Q1204.7 1544.09 1208.31 1544.09 Q1211.95 1544.09 1213.75 1540.55 Q1215.58 1536.98 1215.58 1529.87 Q1215.58 1522.75 1213.75 1519.2 Q1211.95 1515.64 1208.31 1515.64 M1208.31 1511.93 Q1214.12 1511.93 1217.18 1516.54 Q1220.26 1521.12 1220.26 1529.87 Q1220.26 1538.6 1217.18 1543.21 Q1214.12 1547.79 1208.31 1547.79 Q1202.5 1547.79 1199.42 1543.21 Q1196.37 1538.6 1196.37 1529.87 Q1196.37 1521.12 1199.42 1516.54 Q1202.5 1511.93 1208.31 1511.93 Z\" fill=\"#000000\" fill-rule=\"evenodd\" fill-opacity=\"1\" /><path clip-path=\"url(#clip800)\" d=\"M 0 0 M1707.68 1528.49 Q1711.04 1529.2 1712.91 1531.47 Q1714.81 1533.74 1714.81 1537.07 Q1714.81 1542.19 1711.29 1544.99 Q1707.77 1547.79 1701.29 1547.79 Q1699.12 1547.79 1696.8 1547.35 Q1694.51 1546.93 1692.06 1546.08 L1692.06 1541.56 Q1694 1542.7 1696.31 1543.28 Q1698.63 1543.86 1701.15 1543.86 Q1705.55 1543.86 1707.84 1542.12 Q1710.16 1540.38 1710.16 1537.07 Q1710.16 1534.02 1708 1532.31 Q1705.87 1530.57 1702.06 1530.57 L1698.03 1530.57 L1698.03 1526.73 L1702.24 1526.73 Q1705.69 1526.73 1707.52 1525.36 Q1709.35 1523.97 1709.35 1521.38 Q1709.35 1518.72 1707.45 1517.31 Q1705.57 1515.87 1702.06 1515.87 Q1700.13 1515.87 1697.94 1516.29 Q1695.74 1516.7 1693.1 1517.58 L1693.1 1513.42 Q1695.76 1512.68 1698.07 1512.31 Q1700.41 1511.93 1702.47 1511.93 Q1707.8 1511.93 1710.9 1514.37 Q1714 1516.77 1714 1520.89 Q1714 1523.76 1712.36 1525.75 Q1710.71 1527.72 1707.68 1528.49 Z\" fill=\"#000000\" fill-rule=\"evenodd\" fill-opacity=\"1\" /><path clip-path=\"url(#clip800)\" d=\"M 0 0 M1729.88 1515.64 Q1726.27 1515.64 1724.44 1519.2 Q1722.63 1522.75 1722.63 1529.87 Q1722.63 1536.98 1724.44 1540.55 Q1726.27 1544.09 1729.88 1544.09 Q1733.51 1544.09 1735.32 1540.55 Q1737.15 1536.98 1737.15 1529.87 Q1737.15 1522.75 1735.32 1519.2 Q1733.51 1515.64 1729.88 1515.64 M1729.88 1511.93 Q1735.69 1511.93 1738.74 1516.54 Q1741.82 1521.12 1741.82 1529.87 Q1741.82 1538.6 1738.74 1543.21 Q1735.69 1547.79 1729.88 1547.79 Q1724.07 1547.79 1720.99 1543.21 Q1717.93 1538.6 1717.93 1529.87 Q1717.93 1521.12 1720.99 1516.54 Q1724.07 1511.93 1729.88 1511.93 Z\" fill=\"#000000\" fill-rule=\"evenodd\" fill-opacity=\"1\" /><path clip-path=\"url(#clip800)\" d=\"M 0 0 M2227.6 1516.63 L2215.8 1535.08 L2227.6 1535.08 L2227.6 1516.63 M2226.38 1512.56 L2232.26 1512.56 L2232.26 1535.08 L2237.19 1535.08 L2237.19 1538.97 L2232.26 1538.97 L2232.26 1547.12 L2227.6 1547.12 L2227.6 1538.97 L2212 1538.97 L2212 1534.46 L2226.38 1512.56 Z\" fill=\"#000000\" fill-rule=\"evenodd\" fill-opacity=\"1\" /><path clip-path=\"url(#clip800)\" d=\"M 0 0 M2252.26 1515.64 Q2248.64 1515.64 2246.82 1519.2 Q2245.01 1522.75 2245.01 1529.87 Q2245.01 1536.98 2246.82 1540.55 Q2248.64 1544.09 2252.26 1544.09 Q2255.89 1544.09 2257.7 1540.55 Q2259.52 1536.98 2259.52 1529.87 Q2259.52 1522.75 2257.7 1519.2 Q2255.89 1515.64 2252.26 1515.64 M2252.26 1511.93 Q2258.07 1511.93 2261.12 1516.54 Q2264.2 1521.12 2264.2 1529.87 Q2264.2 1538.6 2261.12 1543.21 Q2258.07 1547.79 2252.26 1547.79 Q2246.45 1547.79 2243.37 1543.21 Q2240.31 1538.6 2240.31 1529.87 Q2240.31 1521.12 2243.37 1516.54 Q2246.45 1511.93 2252.26 1511.93 Z\" fill=\"#000000\" fill-rule=\"evenodd\" fill-opacity=\"1\" /><polyline clip-path=\"url(#clip802)\" style=\"stroke:#000000; stroke-width:2; stroke-opacity:0.1; fill:none\" points=\"\n",
       "  143.033,1366.51 2352.76,1366.51 \n",
       "  \"/>\n",
       "<polyline clip-path=\"url(#clip802)\" style=\"stroke:#000000; stroke-width:2; stroke-opacity:0.1; fill:none\" points=\"\n",
       "  143.033,1126.65 2352.76,1126.65 \n",
       "  \"/>\n",
       "<polyline clip-path=\"url(#clip802)\" style=\"stroke:#000000; stroke-width:2; stroke-opacity:0.1; fill:none\" points=\"\n",
       "  143.033,886.78 2352.76,886.78 \n",
       "  \"/>\n",
       "<polyline clip-path=\"url(#clip802)\" style=\"stroke:#000000; stroke-width:2; stroke-opacity:0.1; fill:none\" points=\"\n",
       "  143.033,646.912 2352.76,646.912 \n",
       "  \"/>\n",
       "<polyline clip-path=\"url(#clip802)\" style=\"stroke:#000000; stroke-width:2; stroke-opacity:0.1; fill:none\" points=\"\n",
       "  143.033,407.045 2352.76,407.045 \n",
       "  \"/>\n",
       "<polyline clip-path=\"url(#clip802)\" style=\"stroke:#000000; stroke-width:2; stroke-opacity:0.1; fill:none\" points=\"\n",
       "  143.033,167.178 2352.76,167.178 \n",
       "  \"/>\n",
       "<polyline clip-path=\"url(#clip800)\" style=\"stroke:#000000; stroke-width:4; stroke-opacity:1; fill:none\" points=\"\n",
       "  143.033,1486.45 143.033,47.2441 \n",
       "  \"/>\n",
       "<polyline clip-path=\"url(#clip800)\" style=\"stroke:#000000; stroke-width:4; stroke-opacity:1; fill:none\" points=\"\n",
       "  143.033,1366.51 169.55,1366.51 \n",
       "  \"/>\n",
       "<polyline clip-path=\"url(#clip800)\" style=\"stroke:#000000; stroke-width:4; stroke-opacity:1; fill:none\" points=\"\n",
       "  143.033,1126.65 169.55,1126.65 \n",
       "  \"/>\n",
       "<polyline clip-path=\"url(#clip800)\" style=\"stroke:#000000; stroke-width:4; stroke-opacity:1; fill:none\" points=\"\n",
       "  143.033,886.78 169.55,886.78 \n",
       "  \"/>\n",
       "<polyline clip-path=\"url(#clip800)\" style=\"stroke:#000000; stroke-width:4; stroke-opacity:1; fill:none\" points=\"\n",
       "  143.033,646.912 169.55,646.912 \n",
       "  \"/>\n",
       "<polyline clip-path=\"url(#clip800)\" style=\"stroke:#000000; stroke-width:4; stroke-opacity:1; fill:none\" points=\"\n",
       "  143.033,407.045 169.55,407.045 \n",
       "  \"/>\n",
       "<polyline clip-path=\"url(#clip800)\" style=\"stroke:#000000; stroke-width:4; stroke-opacity:1; fill:none\" points=\"\n",
       "  143.033,167.178 169.55,167.178 \n",
       "  \"/>\n",
       "<path clip-path=\"url(#clip800)\" d=\"M 0 0 M50.9921 1366.97 L80.6679 1366.97 L80.6679 1370.9 L50.9921 1370.9 L50.9921 1366.97 Z\" fill=\"#000000\" fill-rule=\"evenodd\" fill-opacity=\"1\" /><path clip-path=\"url(#clip800)\" d=\"M 0 0 M99.9039 1365.16 Q103.26 1365.88 105.135 1368.15 Q107.033 1370.41 107.033 1373.75 Q107.033 1378.86 103.515 1381.66 Q99.9965 1384.47 93.515 1384.47 Q91.3391 1384.47 89.0243 1384.03 Q86.7327 1383.61 84.279 1382.75 L84.279 1378.24 Q86.2234 1379.37 88.5382 1379.95 Q90.853 1380.53 93.3762 1380.53 Q97.7743 1380.53 100.066 1378.79 Q102.381 1377.06 102.381 1373.75 Q102.381 1370.69 100.228 1368.98 Q98.0984 1367.24 94.2789 1367.24 L90.2512 1367.24 L90.2512 1363.4 L94.4641 1363.4 Q97.9132 1363.4 99.7419 1362.04 Q101.571 1360.65 101.571 1358.05 Q101.571 1355.39 99.6724 1353.98 Q97.7974 1352.54 94.2789 1352.54 Q92.3576 1352.54 90.1586 1352.96 Q87.9595 1353.38 85.3206 1354.26 L85.3206 1350.09 Q87.9827 1349.35 90.2975 1348.98 Q92.6354 1348.61 94.6956 1348.61 Q100.02 1348.61 103.121 1351.04 Q106.223 1353.45 106.223 1357.57 Q106.223 1360.44 104.58 1362.43 Q102.936 1364.4 99.9039 1365.16 Z\" fill=\"#000000\" fill-rule=\"evenodd\" fill-opacity=\"1\" /><path clip-path=\"url(#clip800)\" d=\"M 0 0 M51.9412 1127.1 L81.617 1127.1 L81.617 1131.03 L51.9412 1131.03 L51.9412 1127.1 Z\" fill=\"#000000\" fill-rule=\"evenodd\" fill-opacity=\"1\" /><path clip-path=\"url(#clip800)\" d=\"M 0 0 M90.7141 1139.99 L107.033 1139.99 L107.033 1143.93 L85.0892 1143.93 L85.0892 1139.99 Q87.7512 1137.24 92.3345 1132.61 Q96.941 1127.95 98.1215 1126.61 Q100.367 1124.09 101.246 1122.35 Q102.149 1120.59 102.149 1118.9 Q102.149 1116.15 100.205 1114.41 Q98.2835 1112.68 95.1817 1112.68 Q92.9826 1112.68 90.529 1113.44 Q88.0984 1114.2 85.3206 1115.76 L85.3206 1111.03 Q88.1447 1109.9 90.5984 1109.32 Q93.0521 1108.74 95.0891 1108.74 Q100.459 1108.74 103.654 1111.43 Q106.848 1114.11 106.848 1118.6 Q106.848 1120.73 106.038 1122.65 Q105.251 1124.55 103.145 1127.14 Q102.566 1127.82 99.4641 1131.03 Q96.3623 1134.23 90.7141 1139.99 Z\" fill=\"#000000\" fill-rule=\"evenodd\" fill-opacity=\"1\" /><path clip-path=\"url(#clip800)\" d=\"M 0 0 M51.5708 887.231 L81.2466 887.231 L81.2466 891.166 L51.5708 891.166 L51.5708 887.231 Z\" fill=\"#000000\" fill-rule=\"evenodd\" fill-opacity=\"1\" /><path clip-path=\"url(#clip800)\" d=\"M 0 0 M87.1262 900.124 L94.765 900.124 L94.765 873.759 L86.4549 875.426 L86.4549 871.166 L94.7187 869.5 L99.3946 869.5 L99.3946 900.124 L107.033 900.124 L107.033 904.06 L87.1262 904.06 L87.1262 900.124 Z\" fill=\"#000000\" fill-rule=\"evenodd\" fill-opacity=\"1\" /><path clip-path=\"url(#clip800)\" d=\"M 0 0 M95.0891 632.711 Q91.478 632.711 89.6493 636.276 Q87.8438 639.817 87.8438 646.947 Q87.8438 654.054 89.6493 657.618 Q91.478 661.16 95.0891 661.16 Q98.7234 661.16 100.529 657.618 Q102.358 654.054 102.358 646.947 Q102.358 639.817 100.529 636.276 Q98.7234 632.711 95.0891 632.711 M95.0891 629.007 Q100.899 629.007 103.955 633.614 Q107.033 638.197 107.033 646.947 Q107.033 655.674 103.955 660.28 Q100.899 664.864 95.0891 664.864 Q89.279 664.864 86.2003 660.28 Q83.1447 655.674 83.1447 646.947 Q83.1447 638.197 86.2003 633.614 Q89.279 629.007 95.0891 629.007 Z\" fill=\"#000000\" fill-rule=\"evenodd\" fill-opacity=\"1\" /><path clip-path=\"url(#clip800)\" d=\"M 0 0 M87.1262 420.39 L94.765 420.39 L94.765 394.024 L86.4549 395.691 L86.4549 391.432 L94.7187 389.765 L99.3946 389.765 L99.3946 420.39 L107.033 420.39 L107.033 424.325 L87.1262 424.325 L87.1262 420.39 Z\" fill=\"#000000\" fill-rule=\"evenodd\" fill-opacity=\"1\" /><path clip-path=\"url(#clip800)\" d=\"M 0 0 M90.7141 180.523 L107.033 180.523 L107.033 184.458 L85.0892 184.458 L85.0892 180.523 Q87.7512 177.768 92.3345 173.138 Q96.941 168.486 98.1215 167.143 Q100.367 164.62 101.246 162.884 Q102.149 161.125 102.149 159.435 Q102.149 156.68 100.205 154.944 Q98.2835 153.208 95.1817 153.208 Q92.9826 153.208 90.529 153.972 Q88.0984 154.736 85.3206 156.287 L85.3206 151.564 Q88.1447 150.43 90.5984 149.851 Q93.0521 149.273 95.0891 149.273 Q100.459 149.273 103.654 151.958 Q106.848 154.643 106.848 159.134 Q106.848 161.263 106.038 163.185 Q105.251 165.083 103.145 167.675 Q102.566 168.347 99.4641 171.564 Q96.3623 174.759 90.7141 180.523 Z\" fill=\"#000000\" fill-rule=\"evenodd\" fill-opacity=\"1\" /><polyline clip-path=\"url(#clip802)\" style=\"stroke:#009af9; stroke-width:4; stroke-opacity:1; fill:none\" points=\"\n",
       "  205.573,407.045 257.689,886.78 309.805,886.78 361.921,886.78 414.037,886.78 466.153,886.78 518.269,886.78 570.385,886.78 622.502,886.78 674.618,886.78 \n",
       "  726.734,886.78 778.85,886.78 830.966,886.78 883.082,886.78 935.198,886.78 987.314,886.78 1039.43,886.78 1091.55,886.78 1143.66,886.78 1195.78,886.78 \n",
       "  1247.89,886.78 1300.01,886.78 1352.13,886.78 1404.24,886.78 1456.36,886.78 1508.48,886.78 1560.59,886.78 1612.71,886.78 1664.82,886.78 1716.94,886.78 \n",
       "  1769.06,886.78 1821.17,886.78 1873.29,886.78 1925.4,886.78 1977.52,886.78 2029.64,886.78 2081.75,886.78 2133.87,886.78 2185.98,886.78 2238.1,886.78 \n",
       "  2290.22,886.78 \n",
       "  \"/>\n",
       "<polyline clip-path=\"url(#clip802)\" style=\"stroke:#e26f46; stroke-width:4; stroke-opacity:1; fill:none\" points=\"\n",
       "  205.573,167.178 257.689,167.178 309.805,167.178 361.921,167.178 414.037,167.178 466.153,167.178 518.269,167.178 570.385,167.178 622.502,167.178 674.618,167.178 \n",
       "  726.734,167.178 778.85,167.178 830.966,167.178 883.082,167.178 935.198,167.178 987.314,167.178 1039.43,167.178 1091.55,167.178 1143.66,167.178 1195.78,167.178 \n",
       "  1247.89,167.178 1300.01,167.178 1352.13,167.178 1404.24,167.178 1456.36,167.178 1508.48,167.178 1560.59,167.178 1612.71,167.178 1664.82,167.178 1716.94,167.178 \n",
       "  1769.06,167.178 1821.17,167.178 1873.29,167.178 1925.4,167.178 1977.52,167.178 2029.64,167.178 2081.75,167.178 2133.87,167.178 2185.98,167.178 2238.1,167.178 \n",
       "  2290.22,167.178 \n",
       "  \"/>\n",
       "<polyline clip-path=\"url(#clip802)\" style=\"stroke:#3da44d; stroke-width:4; stroke-opacity:1; fill:none\" points=\"\n",
       "  205.573,167.178 257.689,167.178 309.805,167.178 361.921,167.178 414.037,167.178 466.153,167.178 518.269,167.178 570.385,167.178 622.502,167.178 674.618,167.178 \n",
       "  726.734,167.178 778.85,167.178 830.966,167.178 883.082,167.178 935.198,167.178 987.314,167.18 1039.43,167.188 1091.55,167.219 1143.66,167.342 1195.78,167.836 \n",
       "  1247.89,169.811 1300.01,177.68 1352.13,208.728 1404.24,326.181 1456.36,697.791 1508.48,1115.86 1560.59,209.859 1612.71,330.309 1664.82,708.759 1716.94,1110.7 \n",
       "  1769.06,229.903 1821.17,401.676 1873.29,875.922 1925.4,908.004 1977.52,842.452 2029.64,967.243 2081.75,698.863 2133.87,1115.4 2185.98,211.655 2238.1,336.841 \n",
       "  2290.22,725.824 \n",
       "  \"/>\n",
       "<polyline clip-path=\"url(#clip802)\" style=\"stroke:#c271d2; stroke-width:4; stroke-opacity:1; fill:none\" points=\"\n",
       "  205.573,407.045 257.689,646.912 309.805,886.78 361.921,646.912 414.037,886.78 466.153,646.912 518.269,886.78 570.385,646.912 622.502,886.78 674.618,646.912 \n",
       "  726.734,886.78 778.85,646.912 830.966,886.78 883.082,646.912 935.198,886.78 987.314,646.912 1039.43,886.78 1091.55,646.912 1143.66,886.78 1195.78,646.912 \n",
       "  1247.89,886.78 1300.01,646.912 1352.13,886.78 1404.24,646.912 1456.36,886.78 1508.48,646.912 1560.59,886.78 1612.71,646.912 1664.82,886.78 1716.94,646.912 \n",
       "  1769.06,886.78 1821.17,646.912 1873.29,886.78 1925.4,646.912 1977.52,886.78 2029.64,646.912 2081.75,886.78 2133.87,646.912 2185.98,886.78 2238.1,646.912 \n",
       "  2290.22,886.78 \n",
       "  \"/>\n",
       "<polyline clip-path=\"url(#clip802)\" style=\"stroke:#ac8d18; stroke-width:4; stroke-opacity:1; fill:none\" points=\"\n",
       "  205.573,886.78 257.689,646.912 309.805,886.78 361.921,646.912 414.037,886.78 466.153,646.912 518.269,886.78 570.385,646.912 622.502,886.78 674.618,646.912 \n",
       "  726.734,886.78 778.85,646.912 830.966,886.78 883.082,646.912 935.198,886.78 987.314,646.912 1039.43,886.78 1091.55,646.912 1143.66,886.78 1195.78,646.912 \n",
       "  1247.89,886.78 1300.01,646.912 1352.13,886.78 1404.24,646.912 1456.36,886.78 1508.48,646.912 1560.59,886.78 1612.71,646.912 1664.82,886.78 1716.94,646.912 \n",
       "  1769.06,886.78 1821.17,646.912 1873.29,886.78 1925.4,646.912 1977.52,886.78 2029.64,646.912 2081.75,886.78 2133.87,646.912 2185.98,886.78 2238.1,646.912 \n",
       "  2290.22,886.78 \n",
       "  \"/>\n",
       "<polyline clip-path=\"url(#clip802)\" style=\"stroke:#00a9ad; stroke-width:4; stroke-opacity:1; fill:none\" points=\"\n",
       "  205.573,467.012 257.689,751.854 309.805,840.868 361.921,729.949 414.037,858.034 466.153,700.958 518.269,874.602 570.385,670.649 622.502,884.431 674.618,651.587 \n",
       "  726.734,886.689 778.85,647.095 830.966,886.779 883.082,646.913 935.198,886.78 987.314,646.912 1039.43,886.78 1091.55,646.912 1143.66,886.78 1195.78,646.912 \n",
       "  1247.89,886.78 1300.01,646.912 1352.13,886.78 1404.24,646.912 1456.36,886.78 1508.48,646.912 1560.59,886.78 1612.71,646.912 1664.82,886.78 1716.94,646.912 \n",
       "  1769.06,886.78 1821.17,646.912 1873.29,886.78 1925.4,646.912 1977.52,886.78 2029.64,646.912 2081.75,886.78 2133.87,646.912 2185.98,886.78 2238.1,646.912 \n",
       "  2290.22,886.78 \n",
       "  \"/>\n",
       "<polyline clip-path=\"url(#clip802)\" style=\"stroke:#ed5d92; stroke-width:4; stroke-opacity:1; fill:none\" points=\"\n",
       "  205.573,586.946 257.689,871.788 309.805,675.959 361.921,883.262 414.037,653.895 466.153,886.576 518.269,647.319 570.385,886.779 622.502,646.914 674.618,886.78 \n",
       "  726.734,646.912 778.85,886.78 830.966,646.912 883.082,886.78 935.198,646.912 987.314,886.78 1039.43,646.912 1091.55,886.78 1143.66,646.912 1195.78,886.78 \n",
       "  1247.89,646.912 1300.01,886.78 1352.13,646.912 1404.24,886.78 1456.36,646.912 1508.48,886.78 1560.59,646.912 1612.71,886.78 1664.82,646.912 1716.94,886.78 \n",
       "  1769.06,646.912 1821.17,886.78 1873.29,646.912 1925.4,886.78 1977.52,646.912 2029.64,886.78 2081.75,646.912 2133.87,886.78 2185.98,646.912 2238.1,886.78 \n",
       "  2290.22,646.912 \n",
       "  \"/>\n",
       "<path clip-path=\"url(#clip800)\" d=\"\n",
       "M216.691 1438.47 L975.199 1438.47 L975.199 954.634 L216.691 954.634  Z\n",
       "  \" fill=\"#ffffff\" fill-rule=\"evenodd\" fill-opacity=\"1\"/>\n",
       "<polyline clip-path=\"url(#clip800)\" style=\"stroke:#000000; stroke-width:4; stroke-opacity:1; fill:none\" points=\"\n",
       "  216.691,1438.47 975.199,1438.47 975.199,954.634 216.691,954.634 216.691,1438.47 \n",
       "  \"/>\n",
       "<polyline clip-path=\"url(#clip800)\" style=\"stroke:#009af9; stroke-width:4; stroke-opacity:1; fill:none\" points=\"\n",
       "  241.243,1015.11 388.558,1015.11 \n",
       "  \"/>\n",
       "<path clip-path=\"url(#clip800)\" d=\"M 0 0 M433.62 1007.46 L433.62 1011.45 Q431.814 1010.45 429.986 1009.96 Q428.18 1009.45 426.328 1009.45 Q422.185 1009.45 419.893 1012.09 Q417.601 1014.71 417.601 1019.45 Q417.601 1024.2 419.893 1026.84 Q422.185 1029.45 426.328 1029.45 Q428.18 1029.45 429.986 1028.97 Q431.814 1028.46 433.62 1027.46 L433.62 1031.4 Q431.837 1032.23 429.916 1032.65 Q428.018 1033.07 425.865 1033.07 Q420.009 1033.07 416.56 1029.39 Q413.111 1025.7 413.111 1019.45 Q413.111 1013.11 416.583 1009.48 Q420.078 1005.84 426.143 1005.84 Q428.111 1005.84 429.986 1006.26 Q431.861 1006.65 433.62 1007.46 Z\" fill=\"#000000\" fill-rule=\"evenodd\" fill-opacity=\"1\" /><path clip-path=\"url(#clip800)\" d=\"M 0 0 M438.643 1010.87 L468.319 1010.87 L468.319 1014.76 L438.643 1014.76 L438.643 1010.87 M438.643 1020.31 L468.319 1020.31 L468.319 1024.25 L438.643 1024.25 L438.643 1020.31 Z\" fill=\"#000000\" fill-rule=\"evenodd\" fill-opacity=\"1\" /><path clip-path=\"url(#clip800)\" d=\"M 0 0 M470.634 1017.51 L483.11 1017.51 L483.11 1021.31 L470.634 1021.31 L470.634 1017.51 Z\" fill=\"#000000\" fill-rule=\"evenodd\" fill-opacity=\"1\" /><path clip-path=\"url(#clip800)\" d=\"M 0 0 M492.207 1028.46 L508.527 1028.46 L508.527 1032.39 L486.583 1032.39 L486.583 1028.46 Q489.245 1025.7 493.828 1021.08 Q498.434 1016.42 499.615 1015.08 Q501.86 1012.56 502.74 1010.82 Q503.643 1009.06 503.643 1007.37 Q503.643 1004.62 501.698 1002.88 Q499.777 1001.14 496.675 1001.14 Q494.476 1001.14 492.022 1001.91 Q489.592 1002.67 486.814 1004.22 L486.814 999.501 Q489.638 998.367 492.092 997.788 Q494.545 997.209 496.582 997.209 Q501.953 997.209 505.147 999.895 Q508.342 1002.58 508.342 1007.07 Q508.342 1009.2 507.531 1011.12 Q506.744 1013.02 504.638 1015.61 Q504.059 1016.28 500.957 1019.5 Q497.856 1022.7 492.207 1028.46 Z\" fill=\"#000000\" fill-rule=\"evenodd\" fill-opacity=\"1\" /><path clip-path=\"url(#clip800)\" d=\"M 0 0 M514.082 1026.51 L518.967 1026.51 L518.967 1030.5 L515.17 1037.9 L512.184 1037.9 L514.082 1030.5 L514.082 1026.51 Z\" fill=\"#000000\" fill-rule=\"evenodd\" fill-opacity=\"1\" /><path clip-path=\"url(#clip800)\" d=\"M 0 0 M560.054 1006.47 L550.679 1019.08 L560.54 1032.39 L555.517 1032.39 L547.971 1022.21 L540.425 1032.39 L535.402 1032.39 L545.471 1018.83 L536.258 1006.47 L541.281 1006.47 L548.156 1015.7 L555.031 1006.47 L560.054 1006.47 Z\" fill=\"#000000\" fill-rule=\"evenodd\" fill-opacity=\"1\" /><path clip-path=\"url(#clip800)\" d=\"M 0 0 M565.564 1010.87 L595.239 1010.87 L595.239 1014.76 L565.564 1014.76 L565.564 1010.87 M565.564 1020.31 L595.239 1020.31 L595.239 1024.25 L565.564 1024.25 L565.564 1020.31 Z\" fill=\"#000000\" fill-rule=\"evenodd\" fill-opacity=\"1\" /><path clip-path=\"url(#clip800)\" d=\"M 0 0 M601.119 1028.46 L608.758 1028.46 L608.758 1002.09 L600.448 1003.76 L600.448 999.501 L608.711 997.834 L613.387 997.834 L613.387 1028.46 L621.026 1028.46 L621.026 1032.39 L601.119 1032.39 L601.119 1028.46 Z\" fill=\"#000000\" fill-rule=\"evenodd\" fill-opacity=\"1\" /><polyline clip-path=\"url(#clip800)\" style=\"stroke:#e26f46; stroke-width:4; stroke-opacity:1; fill:none\" points=\"\n",
       "  241.243,1075.59 388.558,1075.59 \n",
       "  \"/>\n",
       "<path clip-path=\"url(#clip800)\" d=\"M 0 0 M433.62 1067.94 L433.62 1071.93 Q431.814 1070.93 429.986 1070.44 Q428.18 1069.93 426.328 1069.93 Q422.185 1069.93 419.893 1072.57 Q417.601 1075.19 417.601 1079.93 Q417.601 1084.68 419.893 1087.32 Q422.185 1089.93 426.328 1089.93 Q428.18 1089.93 429.986 1089.45 Q431.814 1088.94 433.62 1087.94 L433.62 1091.88 Q431.837 1092.71 429.916 1093.13 Q428.018 1093.55 425.865 1093.55 Q420.009 1093.55 416.56 1089.87 Q413.111 1086.18 413.111 1079.93 Q413.111 1073.59 416.583 1069.96 Q420.078 1066.32 426.143 1066.32 Q428.111 1066.32 429.986 1066.74 Q431.861 1067.13 433.62 1067.94 Z\" fill=\"#000000\" fill-rule=\"evenodd\" fill-opacity=\"1\" /><path clip-path=\"url(#clip800)\" d=\"M 0 0 M438.643 1071.35 L468.319 1071.35 L468.319 1075.24 L438.643 1075.24 L438.643 1071.35 M438.643 1080.79 L468.319 1080.79 L468.319 1084.73 L438.643 1084.73 L438.643 1080.79 Z\" fill=\"#000000\" fill-rule=\"evenodd\" fill-opacity=\"1\" /><path clip-path=\"url(#clip800)\" d=\"M 0 0 M470.634 1077.99 L483.11 1077.99 L483.11 1081.79 L470.634 1081.79 L470.634 1077.99 Z\" fill=\"#000000\" fill-rule=\"evenodd\" fill-opacity=\"1\" /><path clip-path=\"url(#clip800)\" d=\"M 0 0 M492.207 1088.94 L508.527 1088.94 L508.527 1092.87 L486.583 1092.87 L486.583 1088.94 Q489.245 1086.18 493.828 1081.56 Q498.434 1076.9 499.615 1075.56 Q501.86 1073.04 502.74 1071.3 Q503.643 1069.54 503.643 1067.85 Q503.643 1065.1 501.698 1063.36 Q499.777 1061.62 496.675 1061.62 Q494.476 1061.62 492.022 1062.39 Q489.592 1063.15 486.814 1064.7 L486.814 1059.98 Q489.638 1058.85 492.092 1058.27 Q494.545 1057.69 496.582 1057.69 Q501.953 1057.69 505.147 1060.37 Q508.342 1063.06 508.342 1067.55 Q508.342 1069.68 507.531 1071.6 Q506.744 1073.5 504.638 1076.09 Q504.059 1076.76 500.957 1079.98 Q497.856 1083.18 492.207 1088.94 Z\" fill=\"#000000\" fill-rule=\"evenodd\" fill-opacity=\"1\" /><path clip-path=\"url(#clip800)\" d=\"M 0 0 M514.082 1086.99 L518.967 1086.99 L518.967 1090.98 L515.17 1098.38 L512.184 1098.38 L514.082 1090.98 L514.082 1086.99 Z\" fill=\"#000000\" fill-rule=\"evenodd\" fill-opacity=\"1\" /><path clip-path=\"url(#clip800)\" d=\"M 0 0 M560.054 1066.95 L550.679 1079.56 L560.54 1092.87 L555.517 1092.87 L547.971 1082.69 L540.425 1092.87 L535.402 1092.87 L545.471 1079.31 L536.258 1066.95 L541.281 1066.95 L548.156 1076.18 L555.031 1066.95 L560.054 1066.95 Z\" fill=\"#000000\" fill-rule=\"evenodd\" fill-opacity=\"1\" /><path clip-path=\"url(#clip800)\" d=\"M 0 0 M565.564 1071.35 L595.239 1071.35 L595.239 1075.24 L565.564 1075.24 L565.564 1071.35 M565.564 1080.79 L595.239 1080.79 L595.239 1084.73 L565.564 1084.73 L565.564 1080.79 Z\" fill=\"#000000\" fill-rule=\"evenodd\" fill-opacity=\"1\" /><path clip-path=\"url(#clip800)\" d=\"M 0 0 M604.337 1088.94 L620.656 1088.94 L620.656 1092.87 L598.712 1092.87 L598.712 1088.94 Q601.374 1086.18 605.957 1081.56 Q610.563 1076.9 611.744 1075.56 Q613.989 1073.04 614.869 1071.3 Q615.772 1069.54 615.772 1067.85 Q615.772 1065.1 613.827 1063.36 Q611.906 1061.62 608.804 1061.62 Q606.605 1061.62 604.151 1062.39 Q601.721 1063.15 598.943 1064.7 L598.943 1059.98 Q601.767 1058.85 604.221 1058.27 Q606.674 1057.69 608.711 1057.69 Q614.082 1057.69 617.276 1060.37 Q620.471 1063.06 620.471 1067.55 Q620.471 1069.68 619.66 1071.6 Q618.873 1073.5 616.767 1076.09 Q616.188 1076.76 613.086 1079.98 Q609.985 1083.18 604.337 1088.94 Z\" fill=\"#000000\" fill-rule=\"evenodd\" fill-opacity=\"1\" /><polyline clip-path=\"url(#clip800)\" style=\"stroke:#3da44d; stroke-width:4; stroke-opacity:1; fill:none\" points=\"\n",
       "  241.243,1136.07 388.558,1136.07 \n",
       "  \"/>\n",
       "<path clip-path=\"url(#clip800)\" d=\"M 0 0 M433.62 1128.42 L433.62 1132.41 Q431.814 1131.41 429.986 1130.92 Q428.18 1130.41 426.328 1130.41 Q422.185 1130.41 419.893 1133.05 Q417.601 1135.67 417.601 1140.41 Q417.601 1145.16 419.893 1147.8 Q422.185 1150.41 426.328 1150.41 Q428.18 1150.41 429.986 1149.93 Q431.814 1149.42 433.62 1148.42 L433.62 1152.36 Q431.837 1153.19 429.916 1153.61 Q428.018 1154.03 425.865 1154.03 Q420.009 1154.03 416.56 1150.35 Q413.111 1146.66 413.111 1140.41 Q413.111 1134.07 416.583 1130.44 Q420.078 1126.8 426.143 1126.8 Q428.111 1126.8 429.986 1127.22 Q431.861 1127.61 433.62 1128.42 Z\" fill=\"#000000\" fill-rule=\"evenodd\" fill-opacity=\"1\" /><path clip-path=\"url(#clip800)\" d=\"M 0 0 M438.643 1131.83 L468.319 1131.83 L468.319 1135.72 L438.643 1135.72 L438.643 1131.83 M438.643 1141.27 L468.319 1141.27 L468.319 1145.21 L438.643 1145.21 L438.643 1141.27 Z\" fill=\"#000000\" fill-rule=\"evenodd\" fill-opacity=\"1\" /><path clip-path=\"url(#clip800)\" d=\"M 0 0 M470.634 1138.47 L483.11 1138.47 L483.11 1142.27 L470.634 1142.27 L470.634 1138.47 Z\" fill=\"#000000\" fill-rule=\"evenodd\" fill-opacity=\"1\" /><path clip-path=\"url(#clip800)\" d=\"M 0 0 M492.207 1149.42 L508.527 1149.42 L508.527 1153.35 L486.583 1153.35 L486.583 1149.42 Q489.245 1146.66 493.828 1142.04 Q498.434 1137.38 499.615 1136.04 Q501.86 1133.52 502.74 1131.78 Q503.643 1130.02 503.643 1128.33 Q503.643 1125.58 501.698 1123.84 Q499.777 1122.1 496.675 1122.1 Q494.476 1122.1 492.022 1122.87 Q489.592 1123.63 486.814 1125.18 L486.814 1120.46 Q489.638 1119.33 492.092 1118.75 Q494.545 1118.17 496.582 1118.17 Q501.953 1118.17 505.147 1120.85 Q508.342 1123.54 508.342 1128.03 Q508.342 1130.16 507.531 1132.08 Q506.744 1133.98 504.638 1136.57 Q504.059 1137.24 500.957 1140.46 Q497.856 1143.66 492.207 1149.42 Z\" fill=\"#000000\" fill-rule=\"evenodd\" fill-opacity=\"1\" /><path clip-path=\"url(#clip800)\" d=\"M 0 0 M514.082 1147.47 L518.967 1147.47 L518.967 1151.46 L515.17 1158.86 L512.184 1158.86 L514.082 1151.46 L514.082 1147.47 Z\" fill=\"#000000\" fill-rule=\"evenodd\" fill-opacity=\"1\" /><path clip-path=\"url(#clip800)\" d=\"M 0 0 M560.054 1127.43 L550.679 1140.04 L560.54 1153.35 L555.517 1153.35 L547.971 1143.17 L540.425 1153.35 L535.402 1153.35 L545.471 1139.79 L536.258 1127.43 L541.281 1127.43 L548.156 1136.66 L555.031 1127.43 L560.054 1127.43 Z\" fill=\"#000000\" fill-rule=\"evenodd\" fill-opacity=\"1\" /><path clip-path=\"url(#clip800)\" d=\"M 0 0 M565.564 1131.83 L595.239 1131.83 L595.239 1135.72 L565.564 1135.72 L565.564 1131.83 M565.564 1141.27 L595.239 1141.27 L595.239 1145.21 L565.564 1145.21 L565.564 1141.27 Z\" fill=\"#000000\" fill-rule=\"evenodd\" fill-opacity=\"1\" /><path clip-path=\"url(#clip800)\" d=\"M 0 0 M601.119 1149.42 L608.758 1149.42 L608.758 1123.05 L600.448 1124.72 L600.448 1120.46 L608.711 1118.79 L613.387 1118.79 L613.387 1149.42 L621.026 1149.42 L621.026 1153.35 L601.119 1153.35 L601.119 1149.42 Z\" fill=\"#000000\" fill-rule=\"evenodd\" fill-opacity=\"1\" /><path clip-path=\"url(#clip800)\" d=\"M 0 0 M626.096 1147.47 L630.98 1147.47 L630.98 1153.35 L626.096 1153.35 L626.096 1147.47 Z\" fill=\"#000000\" fill-rule=\"evenodd\" fill-opacity=\"1\" /><path clip-path=\"url(#clip800)\" d=\"M 0 0 M636.188 1152.64 L636.188 1148.38 Q637.947 1149.21 639.753 1149.65 Q641.559 1150.09 643.295 1150.09 Q647.924 1150.09 650.355 1146.99 Q652.808 1143.86 653.156 1137.52 Q651.813 1139.51 649.753 1140.58 Q647.693 1141.64 645.193 1141.64 Q640.008 1141.64 636.975 1138.52 Q633.966 1135.37 633.966 1129.93 Q633.966 1124.6 637.114 1121.39 Q640.262 1118.17 645.494 1118.17 Q651.489 1118.17 654.637 1122.78 Q657.808 1127.36 657.808 1136.11 Q657.808 1144.28 653.92 1149.16 Q650.054 1154.03 643.503 1154.03 Q641.744 1154.03 639.938 1153.68 Q638.133 1153.33 636.188 1152.64 M645.494 1137.98 Q648.642 1137.98 650.471 1135.83 Q652.322 1133.68 652.322 1129.93 Q652.322 1126.2 650.471 1124.05 Q648.642 1121.87 645.494 1121.87 Q642.346 1121.87 640.494 1124.05 Q638.665 1126.2 638.665 1129.93 Q638.665 1133.68 640.494 1135.83 Q642.346 1137.98 645.494 1137.98 Z\" fill=\"#000000\" fill-rule=\"evenodd\" fill-opacity=\"1\" /><path clip-path=\"url(#clip800)\" d=\"M 0 0 M663.017 1152.64 L663.017 1148.38 Q664.776 1149.21 666.582 1149.65 Q668.387 1150.09 670.123 1150.09 Q674.753 1150.09 677.183 1146.99 Q679.637 1143.86 679.984 1137.52 Q678.642 1139.51 676.581 1140.58 Q674.521 1141.64 672.021 1141.64 Q666.836 1141.64 663.804 1138.52 Q660.795 1135.37 660.795 1129.93 Q660.795 1124.6 663.943 1121.39 Q667.091 1118.17 672.322 1118.17 Q678.318 1118.17 681.466 1122.78 Q684.637 1127.36 684.637 1136.11 Q684.637 1144.28 680.748 1149.16 Q676.882 1154.03 670.332 1154.03 Q668.572 1154.03 666.767 1153.68 Q664.961 1153.33 663.017 1152.64 M672.322 1137.98 Q675.47 1137.98 677.299 1135.83 Q679.151 1133.68 679.151 1129.93 Q679.151 1126.2 677.299 1124.05 Q675.47 1121.87 672.322 1121.87 Q669.174 1121.87 667.322 1124.05 Q665.494 1126.2 665.494 1129.93 Q665.494 1133.68 667.322 1135.83 Q669.174 1137.98 672.322 1137.98 Z\" fill=\"#000000\" fill-rule=\"evenodd\" fill-opacity=\"1\" /><path clip-path=\"url(#clip800)\" d=\"M 0 0 M689.845 1152.64 L689.845 1148.38 Q691.605 1149.21 693.41 1149.65 Q695.216 1150.09 696.952 1150.09 Q701.581 1150.09 704.012 1146.99 Q706.466 1143.86 706.813 1137.52 Q705.47 1139.51 703.41 1140.58 Q701.35 1141.64 698.85 1141.64 Q693.665 1141.64 690.632 1138.52 Q687.623 1135.37 687.623 1129.93 Q687.623 1124.6 690.771 1121.39 Q693.919 1118.17 699.151 1118.17 Q705.146 1118.17 708.294 1122.78 Q711.466 1127.36 711.466 1136.11 Q711.466 1144.28 707.577 1149.16 Q703.711 1154.03 697.16 1154.03 Q695.401 1154.03 693.595 1153.68 Q691.79 1153.33 689.845 1152.64 M699.151 1137.98 Q702.299 1137.98 704.128 1135.83 Q705.979 1133.68 705.979 1129.93 Q705.979 1126.2 704.128 1124.05 Q702.299 1121.87 699.151 1121.87 Q696.003 1121.87 694.151 1124.05 Q692.322 1126.2 692.322 1129.93 Q692.322 1133.68 694.151 1135.83 Q696.003 1137.98 699.151 1137.98 Z\" fill=\"#000000\" fill-rule=\"evenodd\" fill-opacity=\"1\" /><path clip-path=\"url(#clip800)\" d=\"M 0 0 M716.674 1152.64 L716.674 1148.38 Q718.433 1149.21 720.239 1149.65 Q722.044 1150.09 723.78 1150.09 Q728.41 1150.09 730.84 1146.99 Q733.294 1143.86 733.641 1137.52 Q732.299 1139.51 730.239 1140.58 Q728.178 1141.64 725.678 1141.64 Q720.493 1141.64 717.461 1138.52 Q714.452 1135.37 714.452 1129.93 Q714.452 1124.6 717.6 1121.39 Q720.748 1118.17 725.979 1118.17 Q731.975 1118.17 735.123 1122.78 Q738.294 1127.36 738.294 1136.11 Q738.294 1144.28 734.405 1149.16 Q730.54 1154.03 723.989 1154.03 Q722.229 1154.03 720.424 1153.68 Q718.618 1153.33 716.674 1152.64 M725.979 1137.98 Q729.128 1137.98 730.956 1135.83 Q732.808 1133.68 732.808 1129.93 Q732.808 1126.2 730.956 1124.05 Q729.128 1121.87 725.979 1121.87 Q722.831 1121.87 720.979 1124.05 Q719.151 1126.2 719.151 1129.93 Q719.151 1133.68 720.979 1135.83 Q722.831 1137.98 725.979 1137.98 Z\" fill=\"#000000\" fill-rule=\"evenodd\" fill-opacity=\"1\" /><path clip-path=\"url(#clip800)\" d=\"M 0 0 M743.502 1152.64 L743.502 1148.38 Q745.262 1149.21 747.067 1149.65 Q748.873 1150.09 750.609 1150.09 Q755.238 1150.09 757.669 1146.99 Q760.123 1143.86 760.47 1137.52 Q759.127 1139.51 757.067 1140.58 Q755.007 1141.64 752.507 1141.64 Q747.322 1141.64 744.289 1138.52 Q741.28 1135.37 741.28 1129.93 Q741.28 1124.6 744.428 1121.39 Q747.576 1118.17 752.808 1118.17 Q758.803 1118.17 761.951 1122.78 Q765.123 1127.36 765.123 1136.11 Q765.123 1144.28 761.234 1149.16 Q757.368 1154.03 750.817 1154.03 Q749.058 1154.03 747.252 1153.68 Q745.447 1153.33 743.502 1152.64 M752.808 1137.98 Q755.956 1137.98 757.785 1135.83 Q759.637 1133.68 759.637 1129.93 Q759.637 1126.2 757.785 1124.05 Q755.956 1121.87 752.808 1121.87 Q749.66 1121.87 747.808 1124.05 Q745.979 1126.2 745.979 1129.93 Q745.979 1133.68 747.808 1135.83 Q749.66 1137.98 752.808 1137.98 Z\" fill=\"#000000\" fill-rule=\"evenodd\" fill-opacity=\"1\" /><path clip-path=\"url(#clip800)\" d=\"M 0 0 M770.331 1152.64 L770.331 1148.38 Q772.09 1149.21 773.896 1149.65 Q775.701 1150.09 777.437 1150.09 Q782.067 1150.09 784.498 1146.99 Q786.951 1143.86 787.298 1137.52 Q785.956 1139.51 783.896 1140.58 Q781.836 1141.64 779.336 1141.64 Q774.15 1141.64 771.118 1138.52 Q768.109 1135.37 768.109 1129.93 Q768.109 1124.6 771.257 1121.39 Q774.405 1118.17 779.636 1118.17 Q785.632 1118.17 788.78 1122.78 Q791.951 1127.36 791.951 1136.11 Q791.951 1144.28 788.062 1149.16 Q784.197 1154.03 777.646 1154.03 Q775.887 1154.03 774.081 1153.68 Q772.275 1153.33 770.331 1152.64 M779.636 1137.98 Q782.785 1137.98 784.613 1135.83 Q786.465 1133.68 786.465 1129.93 Q786.465 1126.2 784.613 1124.05 Q782.785 1121.87 779.636 1121.87 Q776.488 1121.87 774.637 1124.05 Q772.808 1126.2 772.808 1129.93 Q772.808 1133.68 774.637 1135.83 Q776.488 1137.98 779.636 1137.98 Z\" fill=\"#000000\" fill-rule=\"evenodd\" fill-opacity=\"1\" /><path clip-path=\"url(#clip800)\" d=\"M 0 0 M797.16 1152.64 L797.16 1148.38 Q798.919 1149.21 800.724 1149.65 Q802.53 1150.09 804.266 1150.09 Q808.896 1150.09 811.326 1146.99 Q813.78 1143.86 814.127 1137.52 Q812.784 1139.51 810.724 1140.58 Q808.664 1141.64 806.164 1141.64 Q800.979 1141.64 797.947 1138.52 Q794.937 1135.37 794.937 1129.93 Q794.937 1124.6 798.085 1121.39 Q801.234 1118.17 806.465 1118.17 Q812.46 1118.17 815.609 1122.78 Q818.78 1127.36 818.78 1136.11 Q818.78 1144.28 814.891 1149.16 Q811.025 1154.03 804.474 1154.03 Q802.715 1154.03 800.91 1153.68 Q799.104 1153.33 797.16 1152.64 M806.465 1137.98 Q809.613 1137.98 811.442 1135.83 Q813.294 1133.68 813.294 1129.93 Q813.294 1126.2 811.442 1124.05 Q809.613 1121.87 806.465 1121.87 Q803.317 1121.87 801.465 1124.05 Q799.636 1126.2 799.636 1129.93 Q799.636 1133.68 801.465 1135.83 Q803.317 1137.98 806.465 1137.98 Z\" fill=\"#000000\" fill-rule=\"evenodd\" fill-opacity=\"1\" /><path clip-path=\"url(#clip800)\" d=\"M 0 0 M823.988 1152.64 L823.988 1148.38 Q825.747 1149.21 827.553 1149.65 Q829.358 1150.09 831.095 1150.09 Q835.724 1150.09 838.155 1146.99 Q840.608 1143.86 840.956 1137.52 Q839.613 1139.51 837.553 1140.58 Q835.493 1141.64 832.993 1141.64 Q827.808 1141.64 824.775 1138.52 Q821.766 1135.37 821.766 1129.93 Q821.766 1124.6 824.914 1121.39 Q828.062 1118.17 833.294 1118.17 Q839.289 1118.17 842.437 1122.78 Q845.608 1127.36 845.608 1136.11 Q845.608 1144.28 841.719 1149.16 Q837.854 1154.03 831.303 1154.03 Q829.544 1154.03 827.738 1153.68 Q825.933 1153.33 823.988 1152.64 M833.294 1137.98 Q836.442 1137.98 838.27 1135.83 Q840.122 1133.68 840.122 1129.93 Q840.122 1126.2 838.27 1124.05 Q836.442 1121.87 833.294 1121.87 Q830.145 1121.87 828.294 1124.05 Q826.465 1126.2 826.465 1129.93 Q826.465 1133.68 828.294 1135.83 Q830.145 1137.98 833.294 1137.98 Z\" fill=\"#000000\" fill-rule=\"evenodd\" fill-opacity=\"1\" /><path clip-path=\"url(#clip800)\" d=\"M 0 0 M850.817 1152.64 L850.817 1148.38 Q852.576 1149.21 854.381 1149.65 Q856.187 1150.09 857.923 1150.09 Q862.553 1150.09 864.983 1146.99 Q867.437 1143.86 867.784 1137.52 Q866.442 1139.51 864.381 1140.58 Q862.321 1141.64 859.821 1141.64 Q854.636 1141.64 851.604 1138.52 Q848.594 1135.37 848.594 1129.93 Q848.594 1124.6 851.743 1121.39 Q854.891 1118.17 860.122 1118.17 Q866.118 1118.17 869.266 1122.78 Q872.437 1127.36 872.437 1136.11 Q872.437 1144.28 868.548 1149.16 Q864.682 1154.03 858.131 1154.03 Q856.372 1154.03 854.567 1153.68 Q852.761 1153.33 850.817 1152.64 M860.122 1137.98 Q863.27 1137.98 865.099 1135.83 Q866.951 1133.68 866.951 1129.93 Q866.951 1126.2 865.099 1124.05 Q863.27 1121.87 860.122 1121.87 Q856.974 1121.87 855.122 1124.05 Q853.294 1126.2 853.294 1129.93 Q853.294 1133.68 855.122 1135.83 Q856.974 1137.98 860.122 1137.98 Z\" fill=\"#000000\" fill-rule=\"evenodd\" fill-opacity=\"1\" /><path clip-path=\"url(#clip800)\" d=\"M 0 0 M877.645 1152.64 L877.645 1148.38 Q879.404 1149.21 881.21 1149.65 Q883.016 1150.09 884.752 1150.09 Q889.381 1150.09 891.812 1146.99 Q894.266 1143.86 894.613 1137.52 Q893.27 1139.51 891.21 1140.58 Q889.15 1141.64 886.65 1141.64 Q881.465 1141.64 878.432 1138.52 Q875.423 1135.37 875.423 1129.93 Q875.423 1124.6 878.571 1121.39 Q881.719 1118.17 886.951 1118.17 Q892.946 1118.17 896.094 1122.78 Q899.265 1127.36 899.265 1136.11 Q899.265 1144.28 895.377 1149.16 Q891.511 1154.03 884.96 1154.03 Q883.201 1154.03 881.395 1153.68 Q879.59 1153.33 877.645 1152.64 M886.951 1137.98 Q890.099 1137.98 891.928 1135.83 Q893.779 1133.68 893.779 1129.93 Q893.779 1126.2 891.928 1124.05 Q890.099 1121.87 886.951 1121.87 Q883.803 1121.87 881.951 1124.05 Q880.122 1126.2 880.122 1129.93 Q880.122 1133.68 881.951 1135.83 Q883.803 1137.98 886.951 1137.98 Z\" fill=\"#000000\" fill-rule=\"evenodd\" fill-opacity=\"1\" /><path clip-path=\"url(#clip800)\" d=\"M 0 0 M904.474 1152.64 L904.474 1148.38 Q906.233 1149.21 908.039 1149.65 Q909.844 1150.09 911.58 1150.09 Q916.21 1150.09 918.64 1146.99 Q921.094 1143.86 921.441 1137.52 Q920.099 1139.51 918.039 1140.58 Q915.978 1141.64 913.478 1141.64 Q908.293 1141.64 905.261 1138.52 Q902.252 1135.37 902.252 1129.93 Q902.252 1124.6 905.4 1121.39 Q908.548 1118.17 913.779 1118.17 Q919.775 1118.17 922.923 1122.78 Q926.094 1127.36 926.094 1136.11 Q926.094 1144.28 922.205 1149.16 Q918.339 1154.03 911.789 1154.03 Q910.029 1154.03 908.224 1153.68 Q906.418 1153.33 904.474 1152.64 M913.779 1137.98 Q916.927 1137.98 918.756 1135.83 Q920.608 1133.68 920.608 1129.93 Q920.608 1126.2 918.756 1124.05 Q916.927 1121.87 913.779 1121.87 Q910.631 1121.87 908.779 1124.05 Q906.951 1126.2 906.951 1129.93 Q906.951 1133.68 908.779 1135.83 Q910.631 1137.98 913.779 1137.98 Z\" fill=\"#000000\" fill-rule=\"evenodd\" fill-opacity=\"1\" /><polyline clip-path=\"url(#clip800)\" style=\"stroke:#c271d2; stroke-width:4; stroke-opacity:1; fill:none\" points=\"\n",
       "  241.243,1196.55 388.558,1196.55 \n",
       "  \"/>\n",
       "<path clip-path=\"url(#clip800)\" d=\"M 0 0 M433.62 1188.9 L433.62 1192.89 Q431.814 1191.89 429.986 1191.4 Q428.18 1190.89 426.328 1190.89 Q422.185 1190.89 419.893 1193.53 Q417.601 1196.15 417.601 1200.89 Q417.601 1205.64 419.893 1208.28 Q422.185 1210.89 426.328 1210.89 Q428.18 1210.89 429.986 1210.41 Q431.814 1209.9 433.62 1208.9 L433.62 1212.84 Q431.837 1213.67 429.916 1214.09 Q428.018 1214.51 425.865 1214.51 Q420.009 1214.51 416.56 1210.83 Q413.111 1207.14 413.111 1200.89 Q413.111 1194.55 416.583 1190.92 Q420.078 1187.28 426.143 1187.28 Q428.111 1187.28 429.986 1187.7 Q431.861 1188.09 433.62 1188.9 Z\" fill=\"#000000\" fill-rule=\"evenodd\" fill-opacity=\"1\" /><path clip-path=\"url(#clip800)\" d=\"M 0 0 M438.643 1192.31 L468.319 1192.31 L468.319 1196.2 L438.643 1196.2 L438.643 1192.31 M438.643 1201.75 L468.319 1201.75 L468.319 1205.69 L438.643 1205.69 L438.643 1201.75 Z\" fill=\"#000000\" fill-rule=\"evenodd\" fill-opacity=\"1\" /><path clip-path=\"url(#clip800)\" d=\"M 0 0 M470.634 1198.95 L483.11 1198.95 L483.11 1202.75 L470.634 1202.75 L470.634 1198.95 Z\" fill=\"#000000\" fill-rule=\"evenodd\" fill-opacity=\"1\" /><path clip-path=\"url(#clip800)\" d=\"M 0 0 M488.99 1209.9 L496.629 1209.9 L496.629 1183.53 L488.319 1185.2 L488.319 1180.94 L496.582 1179.27 L501.258 1179.27 L501.258 1209.9 L508.897 1209.9 L508.897 1213.83 L488.99 1213.83 L488.99 1209.9 Z\" fill=\"#000000\" fill-rule=\"evenodd\" fill-opacity=\"1\" /><path clip-path=\"url(#clip800)\" d=\"M 0 0 M514.453 1207.95 L519.337 1207.95 L519.337 1211.94 L515.541 1219.34 L512.555 1219.34 L514.453 1211.94 L514.453 1207.95 Z\" fill=\"#000000\" fill-rule=\"evenodd\" fill-opacity=\"1\" /><path clip-path=\"url(#clip800)\" d=\"M 0 0 M560.425 1187.91 L551.05 1200.52 L560.911 1213.83 L555.888 1213.83 L548.341 1203.65 L540.795 1213.83 L535.772 1213.83 L545.841 1200.27 L536.629 1187.91 L541.652 1187.91 L548.527 1197.14 L555.402 1187.91 L560.425 1187.91 Z\" fill=\"#000000\" fill-rule=\"evenodd\" fill-opacity=\"1\" /><path clip-path=\"url(#clip800)\" d=\"M 0 0 M565.934 1192.31 L595.61 1192.31 L595.61 1196.2 L565.934 1196.2 L565.934 1192.31 M565.934 1201.75 L595.61 1201.75 L595.61 1205.69 L565.934 1205.69 L565.934 1201.75 Z\" fill=\"#000000\" fill-rule=\"evenodd\" fill-opacity=\"1\" /><path clip-path=\"url(#clip800)\" d=\"M 0 0 M601.489 1209.9 L609.128 1209.9 L609.128 1183.53 L600.818 1185.2 L600.818 1180.94 L609.082 1179.27 L613.758 1179.27 L613.758 1209.9 L621.397 1209.9 L621.397 1213.83 L601.489 1213.83 L601.489 1209.9 Z\" fill=\"#000000\" fill-rule=\"evenodd\" fill-opacity=\"1\" /><polyline clip-path=\"url(#clip800)\" style=\"stroke:#ac8d18; stroke-width:4; stroke-opacity:1; fill:none\" points=\"\n",
       "  241.243,1257.03 388.558,1257.03 \n",
       "  \"/>\n",
       "<path clip-path=\"url(#clip800)\" d=\"M 0 0 M433.62 1249.38 L433.62 1253.37 Q431.814 1252.37 429.986 1251.88 Q428.18 1251.37 426.328 1251.37 Q422.185 1251.37 419.893 1254.01 Q417.601 1256.63 417.601 1261.37 Q417.601 1266.12 419.893 1268.76 Q422.185 1271.37 426.328 1271.37 Q428.18 1271.37 429.986 1270.89 Q431.814 1270.38 433.62 1269.38 L433.62 1273.32 Q431.837 1274.15 429.916 1274.57 Q428.018 1274.99 425.865 1274.99 Q420.009 1274.99 416.56 1271.31 Q413.111 1267.62 413.111 1261.37 Q413.111 1255.03 416.583 1251.4 Q420.078 1247.76 426.143 1247.76 Q428.111 1247.76 429.986 1248.18 Q431.861 1248.57 433.62 1249.38 Z\" fill=\"#000000\" fill-rule=\"evenodd\" fill-opacity=\"1\" /><path clip-path=\"url(#clip800)\" d=\"M 0 0 M438.643 1252.79 L468.319 1252.79 L468.319 1256.68 L438.643 1256.68 L438.643 1252.79 M438.643 1262.23 L468.319 1262.23 L468.319 1266.17 L438.643 1266.17 L438.643 1262.23 Z\" fill=\"#000000\" fill-rule=\"evenodd\" fill-opacity=\"1\" /><path clip-path=\"url(#clip800)\" d=\"M 0 0 M470.634 1259.43 L483.11 1259.43 L483.11 1263.23 L470.634 1263.23 L470.634 1259.43 Z\" fill=\"#000000\" fill-rule=\"evenodd\" fill-opacity=\"1\" /><path clip-path=\"url(#clip800)\" d=\"M 0 0 M488.99 1270.38 L496.629 1270.38 L496.629 1244.01 L488.319 1245.68 L488.319 1241.42 L496.582 1239.75 L501.258 1239.75 L501.258 1270.38 L508.897 1270.38 L508.897 1274.31 L488.99 1274.31 L488.99 1270.38 Z\" fill=\"#000000\" fill-rule=\"evenodd\" fill-opacity=\"1\" /><path clip-path=\"url(#clip800)\" d=\"M 0 0 M514.453 1268.43 L519.337 1268.43 L519.337 1272.42 L515.541 1279.82 L512.555 1279.82 L514.453 1272.42 L514.453 1268.43 Z\" fill=\"#000000\" fill-rule=\"evenodd\" fill-opacity=\"1\" /><path clip-path=\"url(#clip800)\" d=\"M 0 0 M560.425 1248.39 L551.05 1261 L560.911 1274.31 L555.888 1274.31 L548.341 1264.13 L540.795 1274.31 L535.772 1274.31 L545.841 1260.75 L536.629 1248.39 L541.652 1248.39 L548.527 1257.62 L555.402 1248.39 L560.425 1248.39 Z\" fill=\"#000000\" fill-rule=\"evenodd\" fill-opacity=\"1\" /><path clip-path=\"url(#clip800)\" d=\"M 0 0 M565.934 1252.79 L595.61 1252.79 L595.61 1256.68 L565.934 1256.68 L565.934 1252.79 M565.934 1262.23 L595.61 1262.23 L595.61 1266.17 L565.934 1266.17 L565.934 1262.23 Z\" fill=\"#000000\" fill-rule=\"evenodd\" fill-opacity=\"1\" /><path clip-path=\"url(#clip800)\" d=\"M 0 0 M597.925 1259.43 L610.401 1259.43 L610.401 1263.23 L597.925 1263.23 L597.925 1259.43 Z\" fill=\"#000000\" fill-rule=\"evenodd\" fill-opacity=\"1\" /><path clip-path=\"url(#clip800)\" d=\"M 0 0 M616.281 1270.38 L623.92 1270.38 L623.92 1244.01 L615.61 1245.68 L615.61 1241.42 L623.873 1239.75 L628.549 1239.75 L628.549 1270.38 L636.188 1270.38 L636.188 1274.31 L616.281 1274.31 L616.281 1270.38 Z\" fill=\"#000000\" fill-rule=\"evenodd\" fill-opacity=\"1\" /><polyline clip-path=\"url(#clip800)\" style=\"stroke:#00a9ad; stroke-width:4; stroke-opacity:1; fill:none\" points=\"\n",
       "  241.243,1317.51 388.558,1317.51 \n",
       "  \"/>\n",
       "<path clip-path=\"url(#clip800)\" d=\"M 0 0 M433.62 1309.86 L433.62 1313.85 Q431.814 1312.85 429.986 1312.36 Q428.18 1311.85 426.328 1311.85 Q422.185 1311.85 419.893 1314.49 Q417.601 1317.11 417.601 1321.85 Q417.601 1326.6 419.893 1329.24 Q422.185 1331.85 426.328 1331.85 Q428.18 1331.85 429.986 1331.37 Q431.814 1330.86 433.62 1329.86 L433.62 1333.8 Q431.837 1334.63 429.916 1335.05 Q428.018 1335.47 425.865 1335.47 Q420.009 1335.47 416.56 1331.79 Q413.111 1328.1 413.111 1321.85 Q413.111 1315.51 416.583 1311.88 Q420.078 1308.24 426.143 1308.24 Q428.111 1308.24 429.986 1308.66 Q431.861 1309.05 433.62 1309.86 Z\" fill=\"#000000\" fill-rule=\"evenodd\" fill-opacity=\"1\" /><path clip-path=\"url(#clip800)\" d=\"M 0 0 M438.643 1313.27 L468.319 1313.27 L468.319 1317.16 L438.643 1317.16 L438.643 1313.27 M438.643 1322.71 L468.319 1322.71 L468.319 1326.65 L438.643 1326.65 L438.643 1322.71 Z\" fill=\"#000000\" fill-rule=\"evenodd\" fill-opacity=\"1\" /><path clip-path=\"url(#clip800)\" d=\"M 0 0 M470.634 1319.91 L483.11 1319.91 L483.11 1323.71 L470.634 1323.71 L470.634 1319.91 Z\" fill=\"#000000\" fill-rule=\"evenodd\" fill-opacity=\"1\" /><path clip-path=\"url(#clip800)\" d=\"M 0 0 M488.99 1330.86 L496.629 1330.86 L496.629 1304.49 L488.319 1306.16 L488.319 1301.9 L496.582 1300.23 L501.258 1300.23 L501.258 1330.86 L508.897 1330.86 L508.897 1334.79 L488.99 1334.79 L488.99 1330.86 Z\" fill=\"#000000\" fill-rule=\"evenodd\" fill-opacity=\"1\" /><path clip-path=\"url(#clip800)\" d=\"M 0 0 M514.453 1328.91 L519.337 1328.91 L519.337 1332.9 L515.541 1340.3 L512.555 1340.3 L514.453 1332.9 L514.453 1328.91 Z\" fill=\"#000000\" fill-rule=\"evenodd\" fill-opacity=\"1\" /><path clip-path=\"url(#clip800)\" d=\"M 0 0 M560.425 1308.87 L551.05 1321.48 L560.911 1334.79 L555.888 1334.79 L548.341 1324.61 L540.795 1334.79 L535.772 1334.79 L545.841 1321.23 L536.629 1308.87 L541.652 1308.87 L548.527 1318.1 L555.402 1308.87 L560.425 1308.87 Z\" fill=\"#000000\" fill-rule=\"evenodd\" fill-opacity=\"1\" /><path clip-path=\"url(#clip800)\" d=\"M 0 0 M565.934 1313.27 L595.61 1313.27 L595.61 1317.16 L565.934 1317.16 L565.934 1313.27 M565.934 1322.71 L595.61 1322.71 L595.61 1326.65 L565.934 1326.65 L565.934 1322.71 Z\" fill=\"#000000\" fill-rule=\"evenodd\" fill-opacity=\"1\" /><path clip-path=\"url(#clip800)\" d=\"M 0 0 M610.679 1303.31 Q607.068 1303.31 605.239 1306.88 Q603.434 1310.42 603.434 1317.55 Q603.434 1324.66 605.239 1328.22 Q607.068 1331.76 610.679 1331.76 Q614.313 1331.76 616.119 1328.22 Q617.948 1324.66 617.948 1317.55 Q617.948 1310.42 616.119 1306.88 Q614.313 1303.31 610.679 1303.31 M610.679 1299.61 Q616.489 1299.61 619.545 1304.22 Q622.623 1308.8 622.623 1317.55 Q622.623 1326.28 619.545 1330.88 Q616.489 1335.47 610.679 1335.47 Q604.869 1335.47 601.79 1330.88 Q598.735 1326.28 598.735 1317.55 Q598.735 1308.8 601.79 1304.22 Q604.869 1299.61 610.679 1299.61 Z\" fill=\"#000000\" fill-rule=\"evenodd\" fill-opacity=\"1\" /><path clip-path=\"url(#clip800)\" d=\"M 0 0 M627.693 1328.91 L632.577 1328.91 L632.577 1334.79 L627.693 1334.79 L627.693 1328.91 Z\" fill=\"#000000\" fill-rule=\"evenodd\" fill-opacity=\"1\" /><path clip-path=\"url(#clip800)\" d=\"M 0 0 M636.466 1300.23 L658.688 1300.23 L658.688 1302.23 L646.142 1334.79 L641.258 1334.79 L653.063 1304.17 L636.466 1304.17 L636.466 1300.23 Z\" fill=\"#000000\" fill-rule=\"evenodd\" fill-opacity=\"1\" /><path clip-path=\"url(#clip800)\" d=\"M 0 0 M663.804 1300.23 L682.16 1300.23 L682.16 1304.17 L668.086 1304.17 L668.086 1312.64 Q669.105 1312.29 670.123 1312.13 Q671.142 1311.95 672.16 1311.95 Q677.947 1311.95 681.327 1315.12 Q684.706 1318.29 684.706 1323.71 Q684.706 1329.29 681.234 1332.39 Q677.762 1335.47 671.443 1335.47 Q669.267 1335.47 666.998 1335.1 Q664.753 1334.72 662.345 1333.98 L662.345 1329.29 Q664.429 1330.42 666.651 1330.97 Q668.873 1331.53 671.35 1331.53 Q675.355 1331.53 677.693 1329.42 Q680.031 1327.32 680.031 1323.71 Q680.031 1320.1 677.693 1317.99 Q675.355 1315.88 671.35 1315.88 Q669.475 1315.88 667.6 1316.3 Q665.748 1316.72 663.804 1317.6 L663.804 1300.23 Z\" fill=\"#000000\" fill-rule=\"evenodd\" fill-opacity=\"1\" /><polyline clip-path=\"url(#clip800)\" style=\"stroke:#ed5d92; stroke-width:4; stroke-opacity:1; fill:none\" points=\"\n",
       "  241.243,1377.99 388.558,1377.99 \n",
       "  \"/>\n",
       "<path clip-path=\"url(#clip800)\" d=\"M 0 0 M433.62 1370.34 L433.62 1374.33 Q431.814 1373.33 429.986 1372.84 Q428.18 1372.33 426.328 1372.33 Q422.185 1372.33 419.893 1374.97 Q417.601 1377.59 417.601 1382.33 Q417.601 1387.08 419.893 1389.72 Q422.185 1392.33 426.328 1392.33 Q428.18 1392.33 429.986 1391.85 Q431.814 1391.34 433.62 1390.34 L433.62 1394.28 Q431.837 1395.11 429.916 1395.53 Q428.018 1395.95 425.865 1395.95 Q420.009 1395.95 416.56 1392.27 Q413.111 1388.58 413.111 1382.33 Q413.111 1375.99 416.583 1372.36 Q420.078 1368.72 426.143 1368.72 Q428.111 1368.72 429.986 1369.14 Q431.861 1369.53 433.62 1370.34 Z\" fill=\"#000000\" fill-rule=\"evenodd\" fill-opacity=\"1\" /><path clip-path=\"url(#clip800)\" d=\"M 0 0 M438.643 1373.75 L468.319 1373.75 L468.319 1377.64 L438.643 1377.64 L438.643 1373.75 M438.643 1383.19 L468.319 1383.19 L468.319 1387.13 L438.643 1387.13 L438.643 1383.19 Z\" fill=\"#000000\" fill-rule=\"evenodd\" fill-opacity=\"1\" /><path clip-path=\"url(#clip800)\" d=\"M 0 0 M470.634 1380.39 L483.11 1380.39 L483.11 1384.19 L470.634 1384.19 L470.634 1380.39 Z\" fill=\"#000000\" fill-rule=\"evenodd\" fill-opacity=\"1\" /><path clip-path=\"url(#clip800)\" d=\"M 0 0 M488.99 1391.34 L496.629 1391.34 L496.629 1364.97 L488.319 1366.64 L488.319 1362.38 L496.582 1360.71 L501.258 1360.71 L501.258 1391.34 L508.897 1391.34 L508.897 1395.27 L488.99 1395.27 L488.99 1391.34 Z\" fill=\"#000000\" fill-rule=\"evenodd\" fill-opacity=\"1\" /><path clip-path=\"url(#clip800)\" d=\"M 0 0 M514.453 1389.39 L519.337 1389.39 L519.337 1393.38 L515.541 1400.78 L512.555 1400.78 L514.453 1393.38 L514.453 1389.39 Z\" fill=\"#000000\" fill-rule=\"evenodd\" fill-opacity=\"1\" /><path clip-path=\"url(#clip800)\" d=\"M 0 0 M560.425 1369.35 L551.05 1381.96 L560.911 1395.27 L555.888 1395.27 L548.341 1385.09 L540.795 1395.27 L535.772 1395.27 L545.841 1381.71 L536.629 1369.35 L541.652 1369.35 L548.527 1378.58 L555.402 1369.35 L560.425 1369.35 Z\" fill=\"#000000\" fill-rule=\"evenodd\" fill-opacity=\"1\" /><path clip-path=\"url(#clip800)\" d=\"M 0 0 M565.934 1373.75 L595.61 1373.75 L595.61 1377.64 L565.934 1377.64 L565.934 1373.75 M565.934 1383.19 L595.61 1383.19 L595.61 1387.13 L565.934 1387.13 L565.934 1383.19 Z\" fill=\"#000000\" fill-rule=\"evenodd\" fill-opacity=\"1\" /><path clip-path=\"url(#clip800)\" d=\"M 0 0 M610.679 1363.79 Q607.068 1363.79 605.239 1367.36 Q603.434 1370.9 603.434 1378.03 Q603.434 1385.14 605.239 1388.7 Q607.068 1392.24 610.679 1392.24 Q614.313 1392.24 616.119 1388.7 Q617.948 1385.14 617.948 1378.03 Q617.948 1370.9 616.119 1367.36 Q614.313 1363.79 610.679 1363.79 M610.679 1360.09 Q616.489 1360.09 619.545 1364.7 Q622.623 1369.28 622.623 1378.03 Q622.623 1386.76 619.545 1391.36 Q616.489 1395.95 610.679 1395.95 Q604.869 1395.95 601.79 1391.36 Q598.735 1386.76 598.735 1378.03 Q598.735 1369.28 601.79 1364.7 Q604.869 1360.09 610.679 1360.09 Z\" fill=\"#000000\" fill-rule=\"evenodd\" fill-opacity=\"1\" /><path clip-path=\"url(#clip800)\" d=\"M 0 0 M627.693 1389.39 L632.577 1389.39 L632.577 1395.27 L627.693 1395.27 L627.693 1389.39 Z\" fill=\"#000000\" fill-rule=\"evenodd\" fill-opacity=\"1\" /><path clip-path=\"url(#clip800)\" d=\"M 0 0 M641.674 1391.34 L657.994 1391.34 L657.994 1395.27 L636.049 1395.27 L636.049 1391.34 Q638.711 1388.58 643.295 1383.96 Q647.901 1379.3 649.082 1377.96 Q651.327 1375.44 652.207 1373.7 Q653.109 1371.94 653.109 1370.25 Q653.109 1367.5 651.165 1365.76 Q649.244 1364.02 646.142 1364.02 Q643.943 1364.02 641.489 1364.79 Q639.059 1365.55 636.281 1367.1 L636.281 1362.38 Q639.105 1361.25 641.559 1360.67 Q644.012 1360.09 646.049 1360.09 Q651.42 1360.09 654.614 1362.77 Q657.808 1365.46 657.808 1369.95 Q657.808 1372.08 656.998 1374 Q656.211 1375.9 654.105 1378.49 Q653.526 1379.16 650.424 1382.38 Q647.322 1385.58 641.674 1391.34 Z\" fill=\"#000000\" fill-rule=\"evenodd\" fill-opacity=\"1\" /><path clip-path=\"url(#clip800)\" d=\"M 0 0 M663.109 1360.71 L681.466 1360.71 L681.466 1364.65 L667.392 1364.65 L667.392 1373.12 Q668.41 1372.77 669.429 1372.61 Q670.447 1372.43 671.466 1372.43 Q677.253 1372.43 680.632 1375.6 Q684.012 1378.77 684.012 1384.19 Q684.012 1389.77 680.54 1392.87 Q677.068 1395.95 670.748 1395.95 Q668.572 1395.95 666.304 1395.58 Q664.058 1395.2 661.651 1394.46 L661.651 1389.77 Q663.734 1390.9 665.957 1391.45 Q668.179 1392.01 670.656 1392.01 Q674.66 1392.01 676.998 1389.9 Q679.336 1387.8 679.336 1384.19 Q679.336 1380.58 676.998 1378.47 Q674.66 1376.36 670.656 1376.36 Q668.781 1376.36 666.906 1376.78 Q665.054 1377.2 663.109 1378.08 L663.109 1360.71 Z\" fill=\"#000000\" fill-rule=\"evenodd\" fill-opacity=\"1\" /></svg>\n"
      ]
     },
     "execution_count": 12,
     "metadata": {},
     "output_type": "execute_result"
    }
   ],
   "source": [
    "function shaw(series)\n",
    "    x = [i for i in 1:length(series)]\n",
    "    y = [series[i] for i in 1:length(series)]\n",
    "    plot(x, y, legend=false)\n",
    "end\n",
    "\n",
    "function shaw_all()\n",
    "    x = [i for i in 1:length(x1)]\n",
    "    p = plot(x, [x1[i] for i in 1:length(x1)], label=\"c=-2, x=1\", legend=:bottomleft, yaxis = (\"\",(-3.5,2.5)))\n",
    "    plot!(p, x, [x2[i] for i in 1:length(x2)], label=\"c=-2, x=2\")\n",
    "    plot!(p, x, [x3[i] for i in 1:length(x3)], label=\"c=-2, x=1.99999999999\")\n",
    "    plot!(p, x, [x4[i] for i in 1:length(x4)], label=\"c=-1, x=1\")\n",
    "    plot!(p, x, [x5[i] for i in 1:length(x5)], label=\"c=-1, x=-1\")\n",
    "    plot!(p, x, [x6[i] for i in 1:length(x6)], label=\"c=-1, x=0.75\")\n",
    "    plot!(p, x, [x7[i] for i in 1:length(x7)], label=\"c=-1, x=0.25\")\n",
    "end\n",
    "    \n",
    "# shaw(x1)\n",
    "shaw_all()"
   ]
  },
  {
   "cell_type": "markdown",
   "metadata": {},
   "source": [
    "| $c$ | $x_0$            | ciąg                                       |\n",
    "| :-: | :--------------: | :----------------------------------------: |\n",
    "| -2  | 1                | ciąg stały -1                              |\n",
    "| -2  | 2                | ciąg stały 2                               |\n",
    "| -2  | 1.99999999999999 | ciąg zmienny o wartościach (-2, 2)         |\n",
    "| -1  | 1                | ciąg naprzemieny 0 1                       |\n",
    "| -1  | -1               | ciąg naprzemieny 0 -1                      |\n",
    "| -1  | 0.75             | ciąg naprzemienny 0 -1 od 17-tego elementu |\n",
    "| -1  | 0.25             | ciąg naprzemienny 0 -1 od 11-tego elementu |"
   ]
  },
  {
   "cell_type": "markdown",
   "metadata": {},
   "source": [
    "Ciągami wartymi do przeanalizowania są drugi i trzeci. Dla obu $c=-2$, ale różnią się minimalnie wartością początkową ($\\Delta x_0 = 10^{-11}$). Jak widac początkowo oba ciągi są stałę o wartości 2, natomiast po 20 iteracjach wartości ciągu trzeciego zaczynają się wachać w zakresie $(-2, 2)$.<br/>\n",
    "Podobnie porównując ostatnie cztery ciągi, ostatecznie każdy przybiera regularny kształt $(1, -1, 1, -1, \\dots)$, natomiast ciągi szósty i siódmy początkowo się wachają, zanim dotrą do podobnej formy.<br/>"
   ]
  },
  {
   "cell_type": "code",
   "execution_count": null,
   "metadata": {},
   "outputs": [],
   "source": []
  }
 ],
 "metadata": {
  "kernelspec": {
   "display_name": "Julia 1.5.2",
   "language": "julia",
   "name": "julia-1.5"
  },
  "language_info": {
   "file_extension": ".jl",
   "mimetype": "application/julia",
   "name": "julia",
   "version": "1.5.2"
  }
 },
 "nbformat": 4,
 "nbformat_minor": 4
}
