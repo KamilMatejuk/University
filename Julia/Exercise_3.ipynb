{
 "cells": [
  {
   "cell_type": "markdown",
   "metadata": {},
   "source": [
    "# Obliczenia Naukowe\n",
    "### Labolatoria, Lista 3<br/>Kamil Matejuk, 250135"
   ]
  },
  {
   "cell_type": "markdown",
   "metadata": {},
   "source": [
    "## Zad 1\n",
    "*Napisać funkcję rozwiązującą równanie f(x) = 0 metodą bisekcji<br/>\n",
    "`function mbisekcji(f, a::Float64, b::Float64, delta::Float64, epsilon::Float64)`<br/><br/>\n",
    "**Dane:**<br/>\n",
    "`f` – funkcja f(x) zadana jako anonimowa funkcja<br/>\n",
    "`a`,`b` – końce przedziału początkowego<br/>\n",
    "`delta`, `epsilon` – dokładności obliczeń<br/>\n",
    "**Wyniki:**<br/>\n",
    "`r` – przybliżenie pierwiastka równania f(x) = 0<br/>\n",
    "`v` – wartość f(r)<br/>\n",
    "`it` – liczba wykonanych iteracji<br/>\n",
    "`err` – sygnalizacja błędu*"
   ]
  },
  {
   "cell_type": "code",
   "execution_count": 8,
   "metadata": {},
   "outputs": [
    {
     "data": {
      "text/plain": [
       "mbisekcji (generic function with 1 method)"
      ]
     },
     "execution_count": 8,
     "metadata": {},
     "output_type": "execute_result"
    }
   ],
   "source": [
    "function mbisekcji(f, a::Float64, b::Float64, delta::Float64, epsilon::Float64)\n",
    "    maxit = 100000000\n",
    "    u = f(a)\n",
    "    v = f(b)\n",
    "    e = b - a\n",
    "    if sign(u) == sign(v)\n",
    "        return (nothing, nothing, 0, 1)\n",
    "    end\n",
    "    for k in 1:maxit\n",
    "        e = e/2\n",
    "        c = a + e\n",
    "        w = f(c)\n",
    "        if abs(e) < delta || abs(w) < epsilon\n",
    "            return (c, w, k, 0)\n",
    "        end\n",
    "        if sign(u) != sign(w)\n",
    "            b = c\n",
    "            v = w\n",
    "        else\n",
    "            a = c\n",
    "            u = w\n",
    "        end\n",
    "    end     \n",
    "    return (nothing, nothing, maxit, 1)\n",
    "end"
   ]
  },
  {
   "cell_type": "markdown",
   "metadata": {},
   "source": [
    "**Omówienie**<br/>\n",
    "Metoda bisekcji wymaga przedziału początkowego o końcach o przeciwych znakach. Korzysta z rekurencyjnych podziałów na dwa, wybierając środkowy pkt jako nowy koniec przedziału, pamiętając by spełniać warunki początkowe końców przedziałów.<br/>\n",
    "Złożoność $ O\\big( log(\\frac{b-a}{delta}) \\big) $"
   ]
  },
  {
   "cell_type": "markdown",
   "metadata": {},
   "source": [
    "#### Program testujący"
   ]
  },
  {
   "cell_type": "code",
   "execution_count": 2,
   "metadata": {},
   "outputs": [
    {
     "data": {
      "text/plain": [
       "(1.000000312924385, 2.5033956680964614e-6, 26, 0)"
      ]
     },
     "execution_count": 2,
     "metadata": {},
     "output_type": "execute_result"
    }
   ],
   "source": [
    "function f(x)\n",
    "    return (x - 1) * (x + 1) * (x + 3)\n",
    "end\n",
    "mbisekcji(f, -5.0, 40.0, 10e-7, 10e-7)"
   ]
  },
  {
   "cell_type": "markdown",
   "metadata": {},
   "source": [
    "## Zad 2\n",
    "*Napisać funkcję rozwiązującą równanie f(x) = 0 metodą Newtona<br/>\n",
    "`function mstycznych(f, pf, x0::Float64, delta::Float64, epsilon::Float64, maxit::Int)`<br/><br/>\n",
    "**Dane:**<br/>\n",
    "`f`, `pf` - funkcją f(x) oraz pochodną f'(x) zadane jako anonimowe funkcje<br/>\n",
    "`x0` – przybliżenie początkowe<br/>\n",
    "`delta`,`epsilon` – dokładności obliczeń<br/>\n",
    "`maxit` – maksymalna dopuszczalna liczba iteracji<br/>\n",
    "**Wyniki:**<br/>\n",
    "`r` – przybliżenie pierwiastka równania f(x) = 0<br/>\n",
    "`v` – wartość f(r)<br/>\n",
    "`it` – liczba wykonanych iteracji<br/>\n",
    "`err` – sygnalizacja błędu*"
   ]
  },
  {
   "cell_type": "code",
   "execution_count": 9,
   "metadata": {},
   "outputs": [
    {
     "data": {
      "text/plain": [
       "mstycznych (generic function with 1 method)"
      ]
     },
     "execution_count": 9,
     "metadata": {},
     "output_type": "execute_result"
    }
   ],
   "source": [
    "function mstycznych(f,pf,x0::Float64, delta::Float64, epsilon::Float64, maxit::Int)\n",
    "    v = f(x0)\n",
    "    if abs(v) < epsilon\n",
    "        return (x0, v, 0, 0)\n",
    "    end\n",
    "    for k in 1:maxit\n",
    "        if pf(x0) == 0\n",
    "            return (nothing, nothing, k, 2)\n",
    "        end\n",
    "        x1 = x0 - v/pf(x0)\n",
    "        if isinf(x1)\n",
    "            return (nothing, nothing, k, 2)\n",
    "        end\n",
    "        v = f(x1)\n",
    "        if abs(x1 - x0) < delta || abs(v) < epsilon\n",
    "            return (x1, v, k, 0)\n",
    "        end\n",
    "        x0 = x1\n",
    "    end\n",
    "    return (nothing, nothing, maxit, 1)\n",
    "end"
   ]
  },
  {
   "cell_type": "markdown",
   "metadata": {},
   "source": [
    "**Omówienie**<br/>\n",
    "Metoda korzysta z pochodnej w punkcie, rekurencyjnie wybierając punkt początkowy jako przecięcie stycznej z osią OX. Metoda szybsza od bisekcji, ale trzeba dobrać tak pkt początkowy żeby nie było możliwości pochodnej równej zero"
   ]
  },
  {
   "cell_type": "markdown",
   "metadata": {},
   "source": [
    "#### Program testujący"
   ]
  },
  {
   "cell_type": "code",
   "execution_count": 4,
   "metadata": {},
   "outputs": [
    {
     "data": {
      "text/plain": [
       "(1.0, 0.0, 1, 0)"
      ]
     },
     "execution_count": 4,
     "metadata": {},
     "output_type": "execute_result"
    }
   ],
   "source": [
    "function f(x)\n",
    "    return (x - 1) * (x + 1) * (x + 3)\n",
    "end\n",
    "function pf(x)\n",
    "    return x^3 + 3 * x^2 - x - 3\n",
    "end\n",
    "mstycznych(f, pf, 2.0, 10e-7, 10e-7, 1000)"
   ]
  },
  {
   "cell_type": "markdown",
   "metadata": {},
   "source": [
    "## Zad 3\n",
    "*Napisać funkcję rozwiązującą równanie f(x) = 0 metodą siecznych<br/>\n",
    "`function msiecznych(f, x0::Float64, x1::Float64, delta::Float64, epsilon::Float64, maxit::Int)`<br/><br/>\n",
    "**Dane:**<br/>\n",
    "`f` – funkcja f(x) zadana jako anonimowa funkcja<br/>\n",
    "`x0`,`x1` – przybliżenia początkowe<br/>\n",
    "`delta`, `epsilon` – dokładności obliczeń<br/>\n",
    "`maxit` – maksymalna dopuszczalna liczba iteracji<br/>\n",
    "**Wyniki:**<br/>\n",
    "`r` – przybliżenie pierwiastka równania f(x) = 0<br/>\n",
    "`v` – wartość f(r)<br/>\n",
    "`it` – liczba wykonanych iteracji<br/>\n",
    "`err` – sygnalizacja błędu*"
   ]
  },
  {
   "cell_type": "code",
   "execution_count": 10,
   "metadata": {},
   "outputs": [
    {
     "data": {
      "text/plain": [
       "msiecznych (generic function with 1 method)"
      ]
     },
     "execution_count": 10,
     "metadata": {},
     "output_type": "execute_result"
    }
   ],
   "source": [
    "function msiecznych(f, x0::Float64, x1::Float64, delta::Float64, epsilon::Float64, maxit::Int)\n",
    "    fa = f(x0)\n",
    "    fb = f(x1)\n",
    "    for k in 1:maxit\n",
    "        if abs(fa) > abs(fb)\n",
    "            temp = x0\n",
    "            x0 = x1\n",
    "            x0 = temp\n",
    "            fa = f(x0)\n",
    "            fb = f(x1)\n",
    "        end\n",
    "        s = (x1 - x0)/(fb - fa)\n",
    "        x1 = x0\n",
    "        fb = fa\n",
    "        x0 = x0 - fa * s\n",
    "        fa = f(x0)\n",
    "        if abs(x1 - x0) < delta || abs(fa) < epsilon\n",
    "            return (x0, fa, k, 0)\n",
    "        end\n",
    "    end\n",
    "    return (nothing, nothing, maxit, 1)\n",
    "end"
   ]
  },
  {
   "cell_type": "markdown",
   "metadata": {},
   "source": [
    "**Omówienie**<br/>\n",
    "Metoda podobnie jak metoda newtona, korzysta z przecięcia prostej z osią OX, jednak zamiast stycznej do wykresu korzysta z siecznej dwóch punktów. Eliminuje to problem z pochodną równą 0, ale kosztem czasu operacji."
   ]
  },
  {
   "cell_type": "markdown",
   "metadata": {},
   "source": [
    "#### Program testujący"
   ]
  },
  {
   "cell_type": "code",
   "execution_count": 6,
   "metadata": {},
   "outputs": [
    {
     "data": {
      "text/plain": [
       "(-3.000000000152954, -1.2236327508201958e-9, 9, 0)"
      ]
     },
     "execution_count": 6,
     "metadata": {},
     "output_type": "execute_result"
    }
   ],
   "source": [
    "function f(x)\n",
    "    return (x - 1) * (x + 1) * (x + 3)\n",
    "end\n",
    "msiecznych(f, -5.0, 40.0, 10e-7, 10e-7, 1000)"
   ]
  },
  {
   "cell_type": "markdown",
   "metadata": {},
   "source": [
    "## Zad 4\n",
    "*W celu wyznaczenia pierwiastka równania $ sin x − (\\frac{x}{2})^2 = 0 $ zastosować wcześniej zaprogramowane metody.*"
   ]
  },
  {
   "cell_type": "code",
   "execution_count": 7,
   "metadata": {},
   "outputs": [
    {
     "data": {
      "text/plain": [
       "pf4 (generic function with 1 method)"
      ]
     },
     "execution_count": 7,
     "metadata": {},
     "output_type": "execute_result"
    }
   ],
   "source": [
    "# funkcja\n",
    "function f4(x)\n",
    "    return sin(x) - (x/2)^2\n",
    "end\n",
    "# pochodna\n",
    "function pf4(x)\n",
    "    return cos(x) - (x/2)\n",
    "end"
   ]
  },
  {
   "cell_type": "markdown",
   "metadata": {},
   "source": [
    "### 4.1\n",
    "Metoda bisekcji z przedziałem początkowym $[1\\frac{1}{2}, 2]$ i $\\delta = \\frac{1}{2}10^{-5}$, $\\epsilon = \\frac{1}{2}10^{-5}$"
   ]
  },
  {
   "cell_type": "code",
   "execution_count": 8,
   "metadata": {},
   "outputs": [
    {
     "data": {
      "text/plain": [
       "(1.9337539672851562, -2.7027680138402843e-7, 16, 0)"
      ]
     },
     "execution_count": 8,
     "metadata": {},
     "output_type": "execute_result"
    }
   ],
   "source": [
    "mbisekcji(f4, 1.5, 2.0, 5e-6, 5e-6)"
   ]
  },
  {
   "cell_type": "markdown",
   "metadata": {},
   "source": [
    "### 4.2\n",
    "Metoda Newtona z przybliżeniem początkowym $x_0 = 1.5$, $\\delta = \\frac{1}{2}10^{-5}$, $\\epsilon = \\frac{1}{2}10^{-5}$"
   ]
  },
  {
   "cell_type": "code",
   "execution_count": 9,
   "metadata": {},
   "outputs": [
    {
     "data": {
      "text/plain": [
       "(1.933753779789742, -2.2423316314856834e-8, 4, 0)"
      ]
     },
     "execution_count": 9,
     "metadata": {},
     "output_type": "execute_result"
    }
   ],
   "source": [
    "mstycznych(f4, pf4, 1.5, 5e-6, 5e-6, 1000)"
   ]
  },
  {
   "cell_type": "markdown",
   "metadata": {},
   "source": [
    "### 4.3\n",
    "Metoda siecznych z przybliżeniami początkowym $x_0 = 1$, $x_1 = 2$, $\\delta = \\frac{1}{2}10^{-5}$, $\\epsilon = \\frac{1}{2}10^{-5}$"
   ]
  },
  {
   "cell_type": "code",
   "execution_count": 10,
   "metadata": {},
   "outputs": [
    {
     "data": {
      "text/plain": [
       "(1.9337539405015145, -2.3487103129049558e-7, 5, 0)"
      ]
     },
     "execution_count": 10,
     "metadata": {},
     "output_type": "execute_result"
    }
   ],
   "source": [
    "msiecznych(f4, 1.0, 2.0, 5e-6, 5e-6, 1000)"
   ]
  },
  {
   "cell_type": "markdown",
   "metadata": {},
   "source": [
    "Każda z zaprogramowanych metod (bisekcji, stycznych i siecznych) zwróciła bardzo podobny winik - różnią się 7 miejscu po przecinku. Najbardziej dokładna była metoda stycznych, po niej siecznych i na końcu bisekcji.<br/>\n",
    "Należy zwrócić uwagę na czasy trwania każdej z metod. Najkrócej trwała metoda stycznych, tylko 4 iteracje. Bardzo podobnie zadziałała metoda siecznych, jedną iterację dłużej. Natomaist metoda bisekcji trwała 4 razy dłużej niż stycznych - aż 16 iteracji.<br/>\n",
    "Jak widać, dla tak dobranych danych, najdokładniejszy wynik i w najkrótszym czasie został znaleziony przez metodę Newtona."
   ]
  },
  {
   "cell_type": "markdown",
   "metadata": {},
   "source": [
    "## Zad 5\n",
    "Metodą bisekcji znaleźć wartości zmiennej x, dla której przecinają się wykresy funkcji $y = 3x$ i $y = e^x$. Wymagana dokładność obliczeń: $\\delta = 10^{−4}$, $\\epsilon = 10^{-4}$."
   ]
  },
  {
   "cell_type": "code",
   "execution_count": 6,
   "metadata": {},
   "outputs": [
    {
     "name": "stdout",
     "output_type": "stream",
     "text": [
      "Zły   przedział początkowy: (nothing, nothing, 0, 1)\n",
      "Dobry przedział początkowy: (0.619140625, 9.066320343276146e-5, 10, 0)\n",
      "Dobry przedział początkowy: (1.5120849609375, 7.618578602741621e-5, 13, 0)\n"
     ]
    }
   ],
   "source": [
    "function f5(x)\n",
    "    return 3*x - exp(x)\n",
    "end\n",
    "println(\"Zły   przedział początkowy: \", mbisekcji(f5, -10.0, 10.0, 1e-4, 1e-4))\n",
    "println(\"Dobry przedział początkowy: \", mbisekcji(f5, -1.0, 1.0, 1e-4, 1e-4))\n",
    "println(\"Dobry przedział początkowy: \", mbisekcji(f5, 1.0, 2.0, 1e-4, 1e-4))"
   ]
  },
  {
   "cell_type": "markdown",
   "metadata": {},
   "source": [
    "W tym zadaniu problemem jest dobór przedziału poczatkowego, tak aby końce przedziału miały przeciwne znaki i dało się zastosować metodę bisekcji.<br/>\n",
    "Sprawdzana funkcja jest parabolą, z miejsami zerowymi równymi około 0.619 i 1.512. Aby metoda bisekcji zadziałała, jedna z granic przedziału musi się znajdować w zakresie $(0.619, 1.512)$, a druga poza nim.<br/>\n",
    "Poniższy wykres przedstawia naszą badaną funckję:"
   ]
  },
  {
   "cell_type": "code",
   "execution_count": 5,
   "metadata": {},
   "outputs": [
    {
     "data": {
      "image/svg+xml": [
       "<?xml version=\"1.0\" encoding=\"utf-8\"?>\n",
       "<svg xmlns=\"http://www.w3.org/2000/svg\" xmlns:xlink=\"http://www.w3.org/1999/xlink\" width=\"600\" height=\"400\" viewBox=\"0 0 2400 1600\">\n",
       "<defs>\n",
       "  <clipPath id=\"clip810\">\n",
       "    <rect x=\"0\" y=\"0\" width=\"2400\" height=\"1600\"/>\n",
       "  </clipPath>\n",
       "</defs>\n",
       "<path clip-path=\"url(#clip810)\" d=\"\n",
       "M0 1600 L2400 1600 L2400 0 L0 0  Z\n",
       "  \" fill=\"#ffffff\" fill-rule=\"evenodd\" fill-opacity=\"1\"/>\n",
       "<defs>\n",
       "  <clipPath id=\"clip811\">\n",
       "    <rect x=\"480\" y=\"0\" width=\"1681\" height=\"1600\"/>\n",
       "  </clipPath>\n",
       "</defs>\n",
       "<path clip-path=\"url(#clip810)\" d=\"\n",
       "M144.168 1486.45 L2352.76 1486.45 L2352.76 47.2441 L144.168 47.2441  Z\n",
       "  \" fill=\"#ffffff\" fill-rule=\"evenodd\" fill-opacity=\"1\"/>\n",
       "<defs>\n",
       "  <clipPath id=\"clip812\">\n",
       "    <rect x=\"144\" y=\"47\" width=\"2210\" height=\"1440\"/>\n",
       "  </clipPath>\n",
       "</defs>\n",
       "<polyline clip-path=\"url(#clip812)\" style=\"stroke:#000000; stroke-width:2; stroke-opacity:0.1; fill:none\" points=\"\n",
       "  206.675,1486.45 206.675,47.2441 \n",
       "  \"/>\n",
       "<polyline clip-path=\"url(#clip812)\" style=\"stroke:#000000; stroke-width:2; stroke-opacity:0.1; fill:none\" points=\"\n",
       "  674.368,1486.45 674.368,47.2441 \n",
       "  \"/>\n",
       "<polyline clip-path=\"url(#clip812)\" style=\"stroke:#000000; stroke-width:2; stroke-opacity:0.1; fill:none\" points=\"\n",
       "  1142.06,1486.45 1142.06,47.2441 \n",
       "  \"/>\n",
       "<polyline clip-path=\"url(#clip812)\" style=\"stroke:#000000; stroke-width:2; stroke-opacity:0.1; fill:none\" points=\"\n",
       "  1609.75,1486.45 1609.75,47.2441 \n",
       "  \"/>\n",
       "<polyline clip-path=\"url(#clip812)\" style=\"stroke:#000000; stroke-width:2; stroke-opacity:0.1; fill:none\" points=\"\n",
       "  2077.45,1486.45 2077.45,47.2441 \n",
       "  \"/>\n",
       "<polyline clip-path=\"url(#clip810)\" style=\"stroke:#000000; stroke-width:4; stroke-opacity:1; fill:none\" points=\"\n",
       "  144.168,1486.45 2352.76,1486.45 \n",
       "  \"/>\n",
       "<polyline clip-path=\"url(#clip810)\" style=\"stroke:#000000; stroke-width:4; stroke-opacity:1; fill:none\" points=\"\n",
       "  206.675,1486.45 206.675,1469.18 \n",
       "  \"/>\n",
       "<polyline clip-path=\"url(#clip810)\" style=\"stroke:#000000; stroke-width:4; stroke-opacity:1; fill:none\" points=\"\n",
       "  674.368,1486.45 674.368,1469.18 \n",
       "  \"/>\n",
       "<polyline clip-path=\"url(#clip810)\" style=\"stroke:#000000; stroke-width:4; stroke-opacity:1; fill:none\" points=\"\n",
       "  1142.06,1486.45 1142.06,1469.18 \n",
       "  \"/>\n",
       "<polyline clip-path=\"url(#clip810)\" style=\"stroke:#000000; stroke-width:4; stroke-opacity:1; fill:none\" points=\"\n",
       "  1609.75,1486.45 1609.75,1469.18 \n",
       "  \"/>\n",
       "<polyline clip-path=\"url(#clip810)\" style=\"stroke:#000000; stroke-width:4; stroke-opacity:1; fill:none\" points=\"\n",
       "  2077.45,1486.45 2077.45,1469.18 \n",
       "  \"/>\n",
       "<path clip-path=\"url(#clip810)\" d=\"M 0 0 M179.129 1530.29 L208.805 1530.29 L208.805 1534.23 L179.129 1534.23 L179.129 1530.29 Z\" fill=\"#000000\" fill-rule=\"evenodd\" fill-opacity=\"1\" /><path clip-path=\"url(#clip810)\" d=\"M 0 0 M217.902 1543.18 L234.221 1543.18 L234.221 1547.12 L212.277 1547.12 L212.277 1543.18 Q214.939 1540.43 219.522 1535.8 Q224.129 1531.15 225.309 1529.81 Q227.554 1527.28 228.434 1525.55 Q229.337 1523.79 229.337 1522.1 Q229.337 1519.34 227.392 1517.61 Q225.471 1515.87 222.369 1515.87 Q220.17 1515.87 217.717 1516.63 Q215.286 1517.4 212.508 1518.95 L212.508 1514.23 Q215.332 1513.09 217.786 1512.51 Q220.24 1511.93 222.277 1511.93 Q227.647 1511.93 230.841 1514.62 Q234.036 1517.31 234.036 1521.8 Q234.036 1523.93 233.226 1525.85 Q232.439 1527.74 230.332 1530.34 Q229.754 1531.01 226.652 1534.23 Q223.55 1537.42 217.902 1543.18 Z\" fill=\"#000000\" fill-rule=\"evenodd\" fill-opacity=\"1\" /><path clip-path=\"url(#clip810)\" d=\"M 0 0 M646.637 1530.29 L676.313 1530.29 L676.313 1534.23 L646.637 1534.23 L646.637 1530.29 Z\" fill=\"#000000\" fill-rule=\"evenodd\" fill-opacity=\"1\" /><path clip-path=\"url(#clip810)\" d=\"M 0 0 M682.192 1543.18 L689.831 1543.18 L689.831 1516.82 L681.521 1518.49 L681.521 1514.23 L689.785 1512.56 L694.461 1512.56 L694.461 1543.18 L702.1 1543.18 L702.1 1547.12 L682.192 1547.12 L682.192 1543.18 Z\" fill=\"#000000\" fill-rule=\"evenodd\" fill-opacity=\"1\" /><path clip-path=\"url(#clip810)\" d=\"M 0 0 M1142.06 1515.64 Q1138.45 1515.64 1136.62 1519.2 Q1134.82 1522.75 1134.82 1529.87 Q1134.82 1536.98 1136.62 1540.55 Q1138.45 1544.09 1142.06 1544.09 Q1145.7 1544.09 1147.5 1540.55 Q1149.33 1536.98 1149.33 1529.87 Q1149.33 1522.75 1147.5 1519.2 Q1145.7 1515.64 1142.06 1515.64 M1142.06 1511.93 Q1147.87 1511.93 1150.93 1516.54 Q1154.01 1521.12 1154.01 1529.87 Q1154.01 1538.6 1150.93 1543.21 Q1147.87 1547.79 1142.06 1547.79 Q1136.25 1547.79 1133.17 1543.21 Q1130.12 1538.6 1130.12 1529.87 Q1130.12 1521.12 1133.17 1516.54 Q1136.25 1511.93 1142.06 1511.93 Z\" fill=\"#000000\" fill-rule=\"evenodd\" fill-opacity=\"1\" /><path clip-path=\"url(#clip810)\" d=\"M 0 0 M1600.14 1543.18 L1607.78 1543.18 L1607.78 1516.82 L1599.47 1518.49 L1599.47 1514.23 L1607.73 1512.56 L1612.41 1512.56 L1612.41 1543.18 L1620.04 1543.18 L1620.04 1547.12 L1600.14 1547.12 L1600.14 1543.18 Z\" fill=\"#000000\" fill-rule=\"evenodd\" fill-opacity=\"1\" /><path clip-path=\"url(#clip810)\" d=\"M 0 0 M2072.1 1543.18 L2088.42 1543.18 L2088.42 1547.12 L2066.48 1547.12 L2066.48 1543.18 Q2069.14 1540.43 2073.72 1535.8 Q2078.33 1531.15 2079.51 1529.81 Q2081.75 1527.28 2082.63 1525.55 Q2083.54 1523.79 2083.54 1522.1 Q2083.54 1519.34 2081.59 1517.61 Q2079.67 1515.87 2076.57 1515.87 Q2074.37 1515.87 2071.92 1516.63 Q2069.49 1517.4 2066.71 1518.95 L2066.71 1514.23 Q2069.53 1513.09 2071.99 1512.51 Q2074.44 1511.93 2076.48 1511.93 Q2081.85 1511.93 2085.04 1514.62 Q2088.24 1517.31 2088.24 1521.8 Q2088.24 1523.93 2087.43 1525.85 Q2086.64 1527.74 2084.53 1530.34 Q2083.95 1531.01 2080.85 1534.23 Q2077.75 1537.42 2072.1 1543.18 Z\" fill=\"#000000\" fill-rule=\"evenodd\" fill-opacity=\"1\" /><polyline clip-path=\"url(#clip812)\" style=\"stroke:#000000; stroke-width:2; stroke-opacity:0.1; fill:none\" points=\"\n",
       "  144.168,1417.14 2352.76,1417.14 \n",
       "  \"/>\n",
       "<polyline clip-path=\"url(#clip812)\" style=\"stroke:#000000; stroke-width:2; stroke-opacity:0.1; fill:none\" points=\"\n",
       "  144.168,1206.02 2352.76,1206.02 \n",
       "  \"/>\n",
       "<polyline clip-path=\"url(#clip812)\" style=\"stroke:#000000; stroke-width:2; stroke-opacity:0.1; fill:none\" points=\"\n",
       "  144.168,994.903 2352.76,994.903 \n",
       "  \"/>\n",
       "<polyline clip-path=\"url(#clip812)\" style=\"stroke:#000000; stroke-width:2; stroke-opacity:0.1; fill:none\" points=\"\n",
       "  144.168,783.782 2352.76,783.782 \n",
       "  \"/>\n",
       "<polyline clip-path=\"url(#clip812)\" style=\"stroke:#000000; stroke-width:2; stroke-opacity:0.1; fill:none\" points=\"\n",
       "  144.168,572.662 2352.76,572.662 \n",
       "  \"/>\n",
       "<polyline clip-path=\"url(#clip812)\" style=\"stroke:#000000; stroke-width:2; stroke-opacity:0.1; fill:none\" points=\"\n",
       "  144.168,361.541 2352.76,361.541 \n",
       "  \"/>\n",
       "<polyline clip-path=\"url(#clip812)\" style=\"stroke:#000000; stroke-width:2; stroke-opacity:0.1; fill:none\" points=\"\n",
       "  144.168,150.421 2352.76,150.421 \n",
       "  \"/>\n",
       "<polyline clip-path=\"url(#clip810)\" style=\"stroke:#000000; stroke-width:4; stroke-opacity:1; fill:none\" points=\"\n",
       "  144.168,1486.45 144.168,47.2441 \n",
       "  \"/>\n",
       "<polyline clip-path=\"url(#clip810)\" style=\"stroke:#000000; stroke-width:4; stroke-opacity:1; fill:none\" points=\"\n",
       "  144.168,1417.14 170.671,1417.14 \n",
       "  \"/>\n",
       "<polyline clip-path=\"url(#clip810)\" style=\"stroke:#000000; stroke-width:4; stroke-opacity:1; fill:none\" points=\"\n",
       "  144.168,1206.02 170.671,1206.02 \n",
       "  \"/>\n",
       "<polyline clip-path=\"url(#clip810)\" style=\"stroke:#000000; stroke-width:4; stroke-opacity:1; fill:none\" points=\"\n",
       "  144.168,994.903 170.671,994.903 \n",
       "  \"/>\n",
       "<polyline clip-path=\"url(#clip810)\" style=\"stroke:#000000; stroke-width:4; stroke-opacity:1; fill:none\" points=\"\n",
       "  144.168,783.782 170.671,783.782 \n",
       "  \"/>\n",
       "<polyline clip-path=\"url(#clip810)\" style=\"stroke:#000000; stroke-width:4; stroke-opacity:1; fill:none\" points=\"\n",
       "  144.168,572.662 170.671,572.662 \n",
       "  \"/>\n",
       "<polyline clip-path=\"url(#clip810)\" style=\"stroke:#000000; stroke-width:4; stroke-opacity:1; fill:none\" points=\"\n",
       "  144.168,361.541 170.671,361.541 \n",
       "  \"/>\n",
       "<polyline clip-path=\"url(#clip810)\" style=\"stroke:#000000; stroke-width:4; stroke-opacity:1; fill:none\" points=\"\n",
       "  144.168,150.421 170.671,150.421 \n",
       "  \"/>\n",
       "<path clip-path=\"url(#clip810)\" d=\"M 0 0 M51.3162 1417.6 L80.992 1417.6 L80.992 1421.53 L51.3162 1421.53 L51.3162 1417.6 Z\" fill=\"#000000\" fill-rule=\"evenodd\" fill-opacity=\"1\" /><path clip-path=\"url(#clip810)\" d=\"M 0 0 M96.64 1415.28 Q93.4919 1415.28 91.6401 1417.43 Q89.8114 1419.59 89.8114 1423.34 Q89.8114 1427.06 91.6401 1429.24 Q93.4919 1431.39 96.64 1431.39 Q99.7882 1431.39 101.617 1429.24 Q103.469 1427.06 103.469 1423.34 Q103.469 1419.59 101.617 1417.43 Q99.7882 1415.28 96.64 1415.28 M105.922 1400.63 L105.922 1404.89 Q104.163 1404.05 102.358 1403.61 Q100.575 1403.17 98.8159 1403.17 Q94.1863 1403.17 91.7326 1406.3 Q89.3021 1409.42 88.9549 1415.74 Q90.3206 1413.73 92.3808 1412.66 Q94.441 1411.58 96.9178 1411.58 Q102.126 1411.58 105.135 1414.75 Q108.168 1417.9 108.168 1423.34 Q108.168 1428.66 105.02 1431.88 Q101.871 1435.09 96.64 1435.09 Q90.6447 1435.09 87.4734 1430.51 Q84.3021 1425.91 84.3021 1417.18 Q84.3021 1408.98 88.191 1404.12 Q92.0799 1399.24 98.6308 1399.24 Q100.39 1399.24 102.172 1399.59 Q103.978 1399.93 105.922 1400.63 Z\" fill=\"#000000\" fill-rule=\"evenodd\" fill-opacity=\"1\" /><path clip-path=\"url(#clip810)\" d=\"M 0 0 M52.4736 1206.47 L82.1494 1206.47 L82.1494 1210.41 L52.4736 1210.41 L52.4736 1206.47 Z\" fill=\"#000000\" fill-rule=\"evenodd\" fill-opacity=\"1\" /><path clip-path=\"url(#clip810)\" d=\"M 0 0 M87.2651 1188.74 L105.621 1188.74 L105.621 1192.68 L91.5475 1192.68 L91.5475 1201.15 Q92.566 1200.8 93.5845 1200.64 Q94.603 1200.46 95.6215 1200.46 Q101.409 1200.46 104.788 1203.63 Q108.168 1206.8 108.168 1212.22 Q108.168 1217.79 104.696 1220.9 Q101.223 1223.97 94.9039 1223.97 Q92.728 1223.97 90.4595 1223.6 Q88.2141 1223.23 85.8068 1222.49 L85.8068 1217.79 Q87.8901 1218.93 90.1123 1219.48 Q92.3345 1220.04 94.8113 1220.04 Q98.8159 1220.04 101.154 1217.93 Q103.492 1215.83 103.492 1212.22 Q103.492 1208.6 101.154 1206.5 Q98.8159 1204.39 94.8113 1204.39 Q92.9363 1204.39 91.0614 1204.81 Q89.2095 1205.22 87.2651 1206.1 L87.2651 1188.74 Z\" fill=\"#000000\" fill-rule=\"evenodd\" fill-opacity=\"1\" /><path clip-path=\"url(#clip810)\" d=\"M 0 0 M50.9921 995.354 L80.6679 995.354 L80.6679 999.289 L50.9921 999.289 L50.9921 995.354 Z\" fill=\"#000000\" fill-rule=\"evenodd\" fill-opacity=\"1\" /><path clip-path=\"url(#clip810)\" d=\"M 0 0 M98.5845 981.697 L86.779 1000.15 L98.5845 1000.15 L98.5845 981.697 M97.3576 977.623 L103.237 977.623 L103.237 1000.15 L108.168 1000.15 L108.168 1004.03 L103.237 1004.03 L103.237 1012.18 L98.5845 1012.18 L98.5845 1004.03 L82.9827 1004.03 L82.9827 999.521 L97.3576 977.623 Z\" fill=\"#000000\" fill-rule=\"evenodd\" fill-opacity=\"1\" /><path clip-path=\"url(#clip810)\" d=\"M 0 0 M52.1264 784.233 L81.8021 784.233 L81.8021 788.169 L52.1264 788.169 L52.1264 784.233 Z\" fill=\"#000000\" fill-rule=\"evenodd\" fill-opacity=\"1\" /><path clip-path=\"url(#clip810)\" d=\"M 0 0 M101.038 782.428 Q104.395 783.146 106.27 785.414 Q108.168 787.683 108.168 791.016 Q108.168 796.132 104.649 798.932 Q101.131 801.733 94.6493 801.733 Q92.4734 801.733 90.1586 801.294 Q87.8669 800.877 85.4132 800.02 L85.4132 795.507 Q87.3577 796.641 89.6725 797.22 Q91.9873 797.798 94.5104 797.798 Q98.9085 797.798 101.2 796.062 Q103.515 794.326 103.515 791.016 Q103.515 787.96 101.362 786.247 Q99.2326 784.511 95.4132 784.511 L91.3854 784.511 L91.3854 780.669 L95.5984 780.669 Q99.0474 780.669 100.876 779.303 Q102.705 777.914 102.705 775.321 Q102.705 772.659 100.807 771.247 Q98.9317 769.812 95.4132 769.812 Q93.4919 769.812 91.2928 770.229 Q89.0938 770.646 86.4549 771.525 L86.4549 767.359 Q89.1169 766.618 91.4317 766.247 Q93.7697 765.877 95.8298 765.877 Q101.154 765.877 104.256 768.308 Q107.358 770.715 107.358 774.835 Q107.358 777.706 105.714 779.696 Q104.071 781.664 101.038 782.428 Z\" fill=\"#000000\" fill-rule=\"evenodd\" fill-opacity=\"1\" /><path clip-path=\"url(#clip810)\" d=\"M 0 0 M53.0754 573.113 L82.7512 573.113 L82.7512 577.048 L53.0754 577.048 L53.0754 573.113 Z\" fill=\"#000000\" fill-rule=\"evenodd\" fill-opacity=\"1\" /><path clip-path=\"url(#clip810)\" d=\"M 0 0 M91.8484 586.006 L108.168 586.006 L108.168 589.942 L86.2234 589.942 L86.2234 586.006 Q88.8854 583.252 93.4688 578.622 Q98.0752 573.969 99.2558 572.627 Q101.501 570.104 102.381 568.368 Q103.284 566.608 103.284 564.919 Q103.284 562.164 101.339 560.428 Q99.4178 558.692 96.316 558.692 Q94.1169 558.692 91.6632 559.456 Q89.2327 560.22 86.4549 561.77 L86.4549 557.048 Q89.279 555.914 91.7326 555.335 Q94.1863 554.757 96.2234 554.757 Q101.594 554.757 104.788 557.442 Q107.983 560.127 107.983 564.618 Q107.983 566.747 107.172 568.669 Q106.385 570.567 104.279 573.159 Q103.7 573.831 100.598 577.048 Q97.4965 580.243 91.8484 586.006 Z\" fill=\"#000000\" fill-rule=\"evenodd\" fill-opacity=\"1\" /><path clip-path=\"url(#clip810)\" d=\"M 0 0 M52.7051 361.992 L82.3808 361.992 L82.3808 365.928 L52.7051 365.928 L52.7051 361.992 Z\" fill=\"#000000\" fill-rule=\"evenodd\" fill-opacity=\"1\" /><path clip-path=\"url(#clip810)\" d=\"M 0 0 M88.2604 374.886 L95.8993 374.886 L95.8993 348.52 L87.5892 350.187 L87.5892 345.928 L95.853 344.261 L100.529 344.261 L100.529 374.886 L108.168 374.886 L108.168 378.821 L88.2604 378.821 L88.2604 374.886 Z\" fill=\"#000000\" fill-rule=\"evenodd\" fill-opacity=\"1\" /><path clip-path=\"url(#clip810)\" d=\"M 0 0 M96.2234 136.219 Q92.6123 136.219 90.7836 139.784 Q88.978 143.326 88.978 150.455 Q88.978 157.562 90.7836 161.127 Q92.6123 164.668 96.2234 164.668 Q99.8576 164.668 101.663 161.127 Q103.492 157.562 103.492 150.455 Q103.492 143.326 101.663 139.784 Q99.8576 136.219 96.2234 136.219 M96.2234 132.516 Q102.034 132.516 105.089 137.122 Q108.168 141.705 108.168 150.455 Q108.168 159.182 105.089 163.789 Q102.034 168.372 96.2234 168.372 Q90.4132 168.372 87.3345 163.789 Q84.279 159.182 84.279 150.455 Q84.279 141.705 87.3345 137.122 Q90.4132 132.516 96.2234 132.516 Z\" fill=\"#000000\" fill-rule=\"evenodd\" fill-opacity=\"1\" /><polyline clip-path=\"url(#clip812)\" style=\"stroke:#009af9; stroke-width:4; stroke-opacity:1; fill:none\" points=\"\n",
       "  206.675,1445.72 227.721,1418.53 248.767,1391.4 269.814,1364.34 290.86,1337.35 311.906,1310.42 332.952,1283.56 353.998,1256.79 375.045,1230.09 396.091,1203.47 \n",
       "  417.137,1176.94 438.183,1150.5 459.229,1124.16 480.276,1097.91 501.322,1071.77 522.368,1045.74 543.414,1019.82 564.46,994.023 585.507,968.348 606.553,942.803 \n",
       "  627.599,917.394 648.645,892.128 669.691,867.01 690.738,842.048 711.784,817.249 732.83,792.62 753.876,768.17 774.922,743.906 795.969,719.837 817.015,695.972 \n",
       "  838.061,672.32 859.107,648.892 880.153,625.697 901.2,602.746 922.246,580.051 943.292,557.623 964.338,535.475 985.384,513.619 1006.43,492.069 1027.48,470.839 \n",
       "  1048.52,449.944 1069.57,429.398 1090.62,409.219 1111.66,389.423 1132.71,370.028 1153.75,351.052 1174.8,332.514 1195.85,314.434 1216.89,296.835 1237.94,279.737 \n",
       "  1258.98,263.164 1280.03,247.14 1301.08,231.691 1322.12,216.842 1343.17,202.622 1364.22,189.059 1385.26,176.183 1406.31,164.027 1427.35,152.623 1448.4,142.006 \n",
       "  1469.45,132.212 1490.49,123.279 1511.54,115.247 1532.59,108.157 1553.63,102.053 1574.68,96.9793 1595.72,92.9841 1616.77,90.1168 1637.82,88.4295 1658.86,87.9763 \n",
       "  1679.91,88.8141 1700.96,91.0023 1722,94.6031 1743.05,99.6815 1764.09,106.306 1785.14,114.546 1806.19,124.478 1827.23,136.179 1848.28,149.73 1869.32,165.217 \n",
       "  1890.37,182.729 1911.42,202.358 1932.46,224.203 1953.51,248.365 1974.56,274.951 1995.6,304.073 2016.65,335.847 2037.69,370.395 2058.74,407.846 2079.79,448.331 \n",
       "  2100.83,491.993 2121.88,538.975 2142.93,589.432 2163.97,643.524 2185.02,701.417 2206.06,763.286 2227.11,829.315 2248.16,899.695 2269.2,974.627 2290.25,1054.32 \n",
       "  \n",
       "  \"/>\n",
       "</svg>\n"
      ]
     },
     "execution_count": 5,
     "metadata": {},
     "output_type": "execute_result"
    }
   ],
   "source": [
    "using Plots\n",
    "x = [i*4.5/100-2 for i in 0:99]\n",
    "y = [f5(xi) for xi in x]\n",
    "plot(x, y, legend=false)"
   ]
  },
  {
   "cell_type": "markdown",
   "metadata": {},
   "source": [
    "Zatem dla tych konkretnych funkcji metoda ta jest dobra jedynie, kiedy znane jest przybliżone miejsce zerowe, a celem jest jedynie znalezienie dokładniejszej wartości."
   ]
  },
  {
   "cell_type": "markdown",
   "metadata": {},
   "source": [
    "## Zad 6\n",
    "### 6.1\n",
    "Znaleźć miejsce zerowe funkcji $f_1(x) = e^{1−x}−1$ oraz $f_2(x) = xe^{−x}$ za pomocą metod bisekcji, Newtona i siecznych. Wymagane dokładności obliczeń: $\\delta = \\frac{1}{2}10^{-5}$, $\\epsilon = \\frac{1}{2}10^{-5}$. Dobrać odpowiednio przedział i przybliżenia początkowe."
   ]
  },
  {
   "cell_type": "code",
   "execution_count": 13,
   "metadata": {},
   "outputs": [
    {
     "name": "stdout",
     "output_type": "stream",
     "text": [
      "Metoda bisekcji:  f1(0.9999971389770508) = 2.861027041944908e-6\n",
      "Metoda Newtona:   f1(0.9999999998878352) = 1.1216494399945987e-10\n",
      "Metoda siecznych: f1(1.0000000903514241) = -9.035142001234675e-8\n",
      "\n",
      "Metoda bisekcji:  f2(3.814697265625e-6) = 3.814682713737527e-6\n",
      "Metoda Newtona:   f2(-3.0642493416461764e-7) = -3.0642502806087233e-7\n",
      "Metoda siecznych: f2(-2.630161874190613e-7) = -2.630162565965852e-7\n"
     ]
    }
   ],
   "source": [
    "using Printf\n",
    "\n",
    "# pierwsza funkcja\n",
    "function f6_1(x)\n",
    "    return exp(1 - x) - 1\n",
    "end\n",
    "# pochodna pierwszej funkcji\n",
    "function pf6_1(x)\n",
    "    return - exp(1 - x)\n",
    "end\n",
    "# druga funkcja\n",
    "function f6_2(x)\n",
    "    return x * exp(-x)\n",
    "end\n",
    "# pochodna pierwszej funkcji\n",
    "function pf6_2(x)\n",
    "    return - exp(-x) * (x - 1)\n",
    "end\n",
    "\n",
    "delta = 5e-6\n",
    "epsilon = 5e-6\n",
    "maxit = 10000\n",
    "\n",
    "r, v, it, err = mbisekcji(f6_1, -2.0, 1.0, delta, epsilon)\n",
    "println(\"Metoda bisekcji:  f1($r) = $v\")\n",
    "r, v, it, err = mstycznych(f6_1, pf6_1, 0.5, delta, epsilon, maxit)\n",
    "println(\"Metoda Newtona:   f1($r) = $v\")\n",
    "r, v, it, err = msiecznych(f6_1, -2.0, 2.0, delta, epsilon, maxit)\n",
    "println(\"Metoda siecznych: f1($r) = $v\")\n",
    "println()\n",
    "r, v, it, err = mbisekcji(f6_2, -2.0, 1.0, delta, epsilon)\n",
    "println(\"Metoda bisekcji:  f2($r) = $v\")\n",
    "r, v, it, err = mstycznych(f6_2, pf6_2, 0.5, delta, epsilon, maxit)\n",
    "println(\"Metoda Newtona:   f2($r) = $v\")\n",
    "r, v, it, err = msiecznych(f6_2, -2.0, -1.0, delta, epsilon, maxit)\n",
    "println(\"Metoda siecznych: f2($r) = $v\")"
   ]
  },
  {
   "cell_type": "markdown",
   "metadata": {},
   "source": [
    "Funkcja $f_1$ ma miejsce zerowe w $x_0 = 1$. Każda metoda zwróciła wynik w poprawnym otoczeniu dla zadanej dokładności i zadanych przedziałów, z czego najdokładnieszy wynik został uzyskany metodą Newtona.<br/>\n",
    "Funkcja $f_2$ ma miejsce zerowe w $x_0 = 0$, natomiast przy $x \\rightarrow \\infty$ $f_2(x) \\rightarrow 0$, zatem dla zadanej dokładności, można uznać drugie miesce zerowe za każdą wartość $x \\in (15, \\infty)$. Tym razem  największą dokładność osiągnęła metoda siecznych, ale wynika to tylko z doboru przedziału początkowego."
   ]
  },
  {
   "cell_type": "markdown",
   "metadata": {},
   "source": [
    "### 6.2\n",
    "Sprawdzić co stanie, gdy w metodzie Newtona dla $f_1$ wybierzemy $x_0 \\in (1, \\infty ]$ a dla $f_2$ wybierzemy $x_0 > 1$. Czy mogę wybrać $x_0 = 1$ dla $f_2$?"
   ]
  },
  {
   "cell_type": "code",
   "execution_count": 57,
   "metadata": {},
   "outputs": [
    {
     "name": "stdout",
     "output_type": "stream",
     "text": [
      "x0 = 1.5, f1(0.9999999984736215) = 1.5263785790864404e-9, err = 0\n",
      "x0 = 7.5, f1(0.9999994332744109) = 5.667257496622113e-7, err = 0\n",
      "x0 = 7.6, f1(nothing) = nothing, err = 1\n",
      "\n",
      "x0 > 1, f2(15.85996660038479) = 2.0530819776075742e-6, err = 0\n",
      "x0 = 1, f2(nothing) = nothing, err = 2\n"
     ]
    }
   ],
   "source": [
    "r, v, it, err = mstycznych(f6_1, pf6_1, 1.5, delta, epsilon, maxit)\n",
    "println(\"x0 = 1.5, f1($r) = $v, err = $err\")\n",
    "r, v, it, err = mstycznych(f6_1, pf6_1, 7.5, delta, epsilon, maxit)\n",
    "println(\"x0 = 7.5, f1($r) = $v, err = $err\")\n",
    "r, v, it, err = mstycznych(f6_1, pf6_1, 7.6, delta, epsilon, maxit)\n",
    "println(\"x0 = 7.6, f1($r) = $v, err = $err\\n\")\n",
    "\n",
    "r, v, it, err = mstycznych(f6_2, pf6_2, 1.5, delta, epsilon, maxit)\n",
    "println(\"x0 > 1, f2($r) = $v, err = $err\")\n",
    "r, v, it, err = mstycznych(f6_2, pf6_2, 1.0, delta, epsilon, maxit)\n",
    "println(\"x0 = 1, f2($r) = $v, err = $err\")"
   ]
  },
  {
   "cell_type": "markdown",
   "metadata": {},
   "source": [
    "**funkcja 1**<br/>\n",
    "Dla stanów poczatkowych $x_0 > 1$ funkcja 1 osiagnęła prawidłowy wynik, jednak już przy $x_0 > 7.5$ zwróciła błąd, ponieważ pochodna dąży do zera.<br/>\n",
    "\n",
    "**funkcja 2**<br/>\n",
    "otrzymuje pozorne miejsce zerowe (wartość mieści się w zakresie delta) dla $x_0 > 1$. Dla $f_2$ nie można przyjąć $x_0 = 1$, ponieważ w tym punkcie styczna do wykresu jest idealnie poziomo (pochodna bliska 0) i nie przecina się z osią OX, więc nie pozwala na wygenerowanie kolejnego punktu metody."
   ]
  },
  {
   "cell_type": "code",
   "execution_count": null,
   "metadata": {},
   "outputs": [],
   "source": []
  }
 ],
 "metadata": {
  "kernelspec": {
   "display_name": "Julia 1.5.2",
   "language": "julia",
   "name": "julia-1.5"
  },
  "language_info": {
   "file_extension": ".jl",
   "mimetype": "application/julia",
   "name": "julia",
   "version": "1.5.2"
  }
 },
 "nbformat": 4,
 "nbformat_minor": 4
}
